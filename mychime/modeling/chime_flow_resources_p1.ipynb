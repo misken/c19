{
 "cells": [
  {
   "cell_type": "code",
   "execution_count": 1,
   "metadata": {},
   "outputs": [],
   "source": [
    "import pandas as pd\n",
    "import numpy as np\n",
    "import seaborn as sns; sns.set()\n",
    "import matplotlib.pyplot as plt"
   ]
  },
  {
   "cell_type": "code",
   "execution_count": 2,
   "metadata": {},
   "outputs": [],
   "source": [
    "%matplotlib inline"
   ]
  },
  {
   "cell_type": "markdown",
   "metadata": {},
   "source": [
    "# Resource modeling in CHIME - Part 1 of n\n",
    "## Understanding the current approach\n",
    "The goal for this notebook is to try to help people (including myself) better understand the concepts, math and code behind the resource modeling in [CHIME](https://github.com/CodeForPhilly/chime).\n",
    "\n",
    "This is my interpetation of the model based on the available documentation, discussions on the [#chime-analysis Slack channel](https://codeforphilly.org/chat?channel=chime-analysis), exploring and commenting on [Issues](https://github.com/CodeForPhilly/chime/issues), discussions with colleagues and [my experience in using it](https://github.com/misken/c19). I am **not** one of the CHIME developers. You can find out more about me at my [faculty page](http://www.sba.oakland.edu/faculty/isken/) and my [hselab tech blogging](http://hselab.org/) site.\n",
    "\n",
    "This notebook is a (hopefully) pleasant mix of modeling concepts, math, code and output. I hope you find it helpful. I don't know the value of $n$ but it is at least 2. \n",
    "\n",
    "**Note:** This notebook was created on 2020-04-03 based on CHIME code as of that date."
   ]
  },
  {
   "cell_type": "markdown",
   "metadata": {},
   "source": [
    "## Simulate a base scenario\n",
    "\n",
    "Here are a set of [CHIME input values](https://code-for-philly.gitbook.io/chime/what-is-chime/parameters) for the current model.\n",
    "\n",
    "    --current-hospitalized 658\n",
    "    --doubling-time 3.61\n",
    "    --hospitalized-day 7\n",
    "    --hospitalized-rate 0.025\n",
    "    --icu-days 9\n",
    "    --icu-rate 0.0075\n",
    "    --market_share 0.32\n",
    "    --infectious-days 14\n",
    "    --n-days 120\n",
    "    --relative-contact-rate 0.31\n",
    "    --population 5026226\n",
    "    --ventilated-day 10\n",
    "    --ventilated-rate 0.005"
   ]
  },
  {
   "cell_type": "markdown",
   "metadata": {},
   "source": [
    "Let's run the simulation using `sim_chime_scenario_runner`. I wrote this to make it a little easier to use the CHIME model for exploring and managing a bunch of different scenarios. See [using_sim_chime_scenario_runner.ipynb](https://github.com/misken/c19/blob/master/mychime/scenario_runner/using_sim_chime_scenario_runner.ipynb). \n",
    "\n",
    "> You do **NOT** need to get or use this tool. It's used here purely just to run one simulation. Everything else in this notebook is based on standard CHIME output files and the official CHIME code.\n",
    "\n",
    "The basic steps are:\n",
    "\n",
    "* import the `sim_chime_scenario_runner` module\n",
    "* specify scenario name (if you don't, default is current datetime)\n",
    "* create a `penn_chime.Parameters` object from the input config file using `create_params_from_file`\n",
    "* call `sim_chime` to run the simulation using the CHIME `SimSirModel` class  and return results dictionary\n",
    "* do whatever you want with the results\n",
    "  - csv and json outputs just happen for command line use as in penn_chime cli.py\n",
    "  - `write_results` function will write out all dataframes (to csv) and dicts (to json)\n",
    "  - or selectively do whatever you want with components of the results dictionary\n",
    "  \n",
    "**NOTE:** This scenario runner is using the version of CHIME that you have installed/cloned on your system and that you have obtained from https://github.com/CodeForPhilly/chime. The scenario runner is just a \"wrapper\"; it does **NOT** contain the `penn_chime` module - it imports it."
   ]
  },
  {
   "cell_type": "code",
   "execution_count": 3,
   "metadata": {},
   "outputs": [],
   "source": [
    "# Import the scenario runner. It will import various penn_chime artifacts.\n",
    "import sim_chime_scenario_runner as runner"
   ]
  },
  {
   "cell_type": "code",
   "execution_count": 4,
   "metadata": {},
   "outputs": [
    {
     "data": {
      "text/plain": [
       "penn_chime.parameters.Parameters"
      ]
     },
     "execution_count": 4,
     "metadata": {},
     "output_type": "execute_result"
    }
   ],
   "source": [
    "scenario = 'base_dt361'  # This string will get prepended to all output files\n",
    "p = runner.create_params_from_file(\"tests/dt361.cfg\")  # Returns a penn_chime Parameters object\n",
    "type(p)"
   ]
  },
  {
   "cell_type": "markdown",
   "metadata": {},
   "source": [
    "Let's look at the parameter values. The Python `vars` function will return a dictionary version of the `Parameters` object `p`. You will recognize the various inputs from above. Notice that there are some custom object types (i.e. classes) in there. For example, the `Disposition` class contains both the rate of patients requiring that resource as well as the length of stay (how long the resources was used)."
   ]
  },
  {
   "cell_type": "code",
   "execution_count": 5,
   "metadata": {},
   "outputs": [
    {
     "data": {
      "text/plain": [
       "{'current_hospitalized': 658,\n",
       " 'infectious_days': 14,\n",
       " 'market_share': 0.32,\n",
       " 'n_days': 120,\n",
       " 'relative_contact_rate': 0.31,\n",
       " 'population': 5026226,\n",
       " 'hospitalized': Disposition(rate=0.025, days=7),\n",
       " 'icu': Disposition(rate=0.0075, days=9),\n",
       " 'ventilated': Disposition(rate=0.005, days=10),\n",
       " 'current_date': datetime.date(2020, 4, 6),\n",
       " 'date_first_hospitalized': None,\n",
       " 'doubling_time': 3.61,\n",
       " 'mitigation_date': None,\n",
       " 'max_y_axis': None,\n",
       " 'recovered': 0,\n",
       " 'region': None,\n",
       " 'labels': {'hospitalized': 'Hospitalized',\n",
       "  'icu': 'ICU',\n",
       "  'ventilated': 'Ventilated',\n",
       "  'day': 'Day',\n",
       "  'date': 'Date',\n",
       "  'susceptible': 'Susceptible',\n",
       "  'infected': 'Infected',\n",
       "  'recovered': 'Recovered'},\n",
       " 'dispositions': {'hospitalized': Disposition(rate=0.025, days=7),\n",
       "  'icu': Disposition(rate=0.0075, days=9),\n",
       "  'ventilated': Disposition(rate=0.005, days=10)}}"
      ]
     },
     "execution_count": 5,
     "metadata": {},
     "output_type": "execute_result"
    }
   ],
   "source": [
    "vars(p)"
   ]
  },
  {
   "cell_type": "markdown",
   "metadata": {},
   "source": [
    "## Current patient flow model in CHIME\n",
    "\n",
    "The current model strikes a balance between complexity of the model and complexity of inputs required of the user. CHIME models three, somewhat overlapping, resources:\n",
    "\n",
    "* hospital beds - of any type (e.g. regular, step-down, ICU, etc); it's one big bucket of beds,\n",
    "* ICU beds - these beds are included in the hospital beds,\n",
    "* ventilators - anyone using a ventilator is assumed to also be in an ICU bed and thus, in a hospital bed.\n",
    "\n",
    "Before getting into the details of how use of these resources is modeled, let's step back and see how the arrival streams (or admission rates) are modeled.\n"
   ]
  },
  {
   "cell_type": "markdown",
   "metadata": {},
   "source": [
    "### The underlying SIR model\n",
    "\n",
    "This is a [standard epidemiological *compartment model*](https://en.wikipedia.org/wiki/Compartmental_models_in_epidemiology). There are a ton of resources available to learn more about this model and I'm just going to mention a few key things that are directly relevant to resource modeling in CHIME.\n",
    "\n",
    "* the version of SIR used in CHIME is deterministic (no random variables) and can be viewed as way to estimate average compartment size over time based on a set of differential equations modeling the flow of people between the susceptible ($S$), infectious ($I$) and removed ($R$) compartments, or stages.\n",
    "* in order to simulate this SIR model, time is discretized with the clock ticking in whole days.\n",
    "* the SIR model is simulated in a Python class named `SimSirModel` that takes as inputs the set of parameter values shown above and generates (among other things) a pandas `DataFrame` called `sim_sir_w_date_df` containing the simulated occupancy of the $S$, $I$ and $R$ compartments. \n",
    "* The $I$ and $R$ values will provide the basis for estimating resource use.\n",
    "\n",
    "Let's run the model so that we can see exactly what this data frame looks like and see some of the other outputs from `SimSirModel`. The `runner.sim_chime` function takes a scenario ID and `Parameters` object as inputs and returns a tuple containing the `penn_chime.models.SimSirModel` model object as well as a dictionary of results (details were described near top of this notebook).\n",
    "\n"
   ]
  },
  {
   "cell_type": "code",
   "execution_count": 6,
   "metadata": {},
   "outputs": [
    {
     "name": "stdout",
     "output_type": "stream",
     "text": [
      "2020-04-06 10:45:08,717 - penn_chime.models - INFO - Using doubling_time: 3.61\n",
      "2020-04-06 10:45:08,743 - penn_chime.models - INFO - Set i_day = 34\n",
      "2020-04-06 10:45:08,743 - penn_chime.models - INFO - Estimated date_first_hospitalized: 2020-03-03; current_date: 2020-04-06; i_day: 34\n",
      "2020-04-06 10:45:08,744 - penn_chime.models - INFO - len(np.arange(-i_day, n_days+1)): 155\n",
      "2020-04-06 10:45:08,745 - penn_chime.models - INFO - len(raw_df): 155\n"
     ]
    }
   ],
   "source": [
    "model, results = runner.sim_chime(scenario, p)"
   ]
  },
  {
   "cell_type": "markdown",
   "metadata": {},
   "source": [
    "Here are the keys in the `results` dictionary."
   ]
  },
  {
   "cell_type": "code",
   "execution_count": 7,
   "metadata": {},
   "outputs": [
    {
     "data": {
      "text/plain": [
       "dict_keys(['scenario', 'input_params_dict', 'intermediate_variables_dict', 'sim_sir_w_date_df', 'dispositions_df', 'admits_df', 'census_df'])"
      ]
     },
     "execution_count": 7,
     "metadata": {},
     "output_type": "execute_result"
    }
   ],
   "source": [
    "results.keys()"
   ]
  },
  {
   "cell_type": "markdown",
   "metadata": {},
   "source": [
    "We'll get to all of these eventually, but let's just look at the `sim_sir_w_date_df` dataframe. It's the primary output of the SIR model. \n",
    "\n",
    "> All of the dataframes in the results dictionary are the exact dataframes created by the `penn_chime` code."
   ]
  },
  {
   "cell_type": "code",
   "execution_count": 8,
   "metadata": {},
   "outputs": [
    {
     "data": {
      "text/html": [
       "<div>\n",
       "<style scoped>\n",
       "    .dataframe tbody tr th:only-of-type {\n",
       "        vertical-align: middle;\n",
       "    }\n",
       "\n",
       "    .dataframe tbody tr th {\n",
       "        vertical-align: top;\n",
       "    }\n",
       "\n",
       "    .dataframe thead th {\n",
       "        text-align: right;\n",
       "    }\n",
       "</style>\n",
       "<table border=\"1\" class=\"dataframe\">\n",
       "  <thead>\n",
       "    <tr style=\"text-align: right;\">\n",
       "      <th></th>\n",
       "      <th>day</th>\n",
       "      <th>date</th>\n",
       "      <th>susceptible</th>\n",
       "      <th>infected</th>\n",
       "      <th>recovered</th>\n",
       "    </tr>\n",
       "  </thead>\n",
       "  <tbody>\n",
       "    <tr>\n",
       "      <th>0</th>\n",
       "      <td>-34</td>\n",
       "      <td>2020-03-03</td>\n",
       "      <td>5.026101e+06</td>\n",
       "      <td>125.000000</td>\n",
       "      <td>0.000000</td>\n",
       "    </tr>\n",
       "    <tr>\n",
       "      <th>1</th>\n",
       "      <td>-33</td>\n",
       "      <td>2020-03-04</td>\n",
       "      <td>5.026066e+06</td>\n",
       "      <td>151.459955</td>\n",
       "      <td>8.928571</td>\n",
       "    </tr>\n",
       "    <tr>\n",
       "      <th>2</th>\n",
       "      <td>-32</td>\n",
       "      <td>2020-03-05</td>\n",
       "      <td>5.026023e+06</td>\n",
       "      <td>183.520642</td>\n",
       "      <td>19.747140</td>\n",
       "    </tr>\n",
       "    <tr>\n",
       "      <th>3</th>\n",
       "      <td>-31</td>\n",
       "      <td>2020-03-06</td>\n",
       "      <td>5.025971e+06</td>\n",
       "      <td>222.367416</td>\n",
       "      <td>32.855757</td>\n",
       "    </tr>\n",
       "    <tr>\n",
       "      <th>4</th>\n",
       "      <td>-30</td>\n",
       "      <td>2020-03-07</td>\n",
       "      <td>5.025908e+06</td>\n",
       "      <td>269.436440</td>\n",
       "      <td>48.739144</td>\n",
       "    </tr>\n",
       "  </tbody>\n",
       "</table>\n",
       "</div>"
      ],
      "text/plain": [
       "   day       date   susceptible    infected  recovered\n",
       "0  -34 2020-03-03  5.026101e+06  125.000000   0.000000\n",
       "1  -33 2020-03-04  5.026066e+06  151.459955   8.928571\n",
       "2  -32 2020-03-05  5.026023e+06  183.520642  19.747140\n",
       "3  -31 2020-03-06  5.025971e+06  222.367416  32.855757\n",
       "4  -30 2020-03-07  5.025908e+06  269.436440  48.739144"
      ]
     },
     "execution_count": 8,
     "metadata": {},
     "output_type": "execute_result"
    }
   ],
   "source": [
    "sim_sir_w_date_df = results['sim_sir_w_date_df']\n",
    "sim_sir_w_date_df.head()"
   ]
  },
  {
   "cell_type": "markdown",
   "metadata": {},
   "source": [
    "Note that the CHIME model [\"back forecasted\" to the date of first hospital admit](https://code-for-philly.gitbook.io/chime/what-is-chime/parameters#date-of-the-first-hospitalized-case-checkbox) based on the doubling time input value we provided. The values in the last three columns are the projected number of people in the $S$, $I$ and $R$ compartments based on the inputs we provided and the dynamics of spread modeled by SIR models. Let's plot these columns. We will first melt the dataframe to get it into *long form*."
   ]
  },
  {
   "cell_type": "code",
   "execution_count": 9,
   "metadata": {},
   "outputs": [
    {
     "data": {
      "text/html": [
       "<div>\n",
       "<style scoped>\n",
       "    .dataframe tbody tr th:only-of-type {\n",
       "        vertical-align: middle;\n",
       "    }\n",
       "\n",
       "    .dataframe tbody tr th {\n",
       "        vertical-align: top;\n",
       "    }\n",
       "\n",
       "    .dataframe thead th {\n",
       "        text-align: right;\n",
       "    }\n",
       "</style>\n",
       "<table border=\"1\" class=\"dataframe\">\n",
       "  <thead>\n",
       "    <tr style=\"text-align: right;\">\n",
       "      <th></th>\n",
       "      <th>day</th>\n",
       "      <th>date</th>\n",
       "      <th>compartment</th>\n",
       "      <th>cases</th>\n",
       "    </tr>\n",
       "  </thead>\n",
       "  <tbody>\n",
       "    <tr>\n",
       "      <th>0</th>\n",
       "      <td>-34</td>\n",
       "      <td>2020-03-03</td>\n",
       "      <td>susceptible</td>\n",
       "      <td>5.026101e+06</td>\n",
       "    </tr>\n",
       "    <tr>\n",
       "      <th>1</th>\n",
       "      <td>-33</td>\n",
       "      <td>2020-03-04</td>\n",
       "      <td>susceptible</td>\n",
       "      <td>5.026066e+06</td>\n",
       "    </tr>\n",
       "    <tr>\n",
       "      <th>2</th>\n",
       "      <td>-32</td>\n",
       "      <td>2020-03-05</td>\n",
       "      <td>susceptible</td>\n",
       "      <td>5.026023e+06</td>\n",
       "    </tr>\n",
       "    <tr>\n",
       "      <th>3</th>\n",
       "      <td>-31</td>\n",
       "      <td>2020-03-06</td>\n",
       "      <td>susceptible</td>\n",
       "      <td>5.025971e+06</td>\n",
       "    </tr>\n",
       "    <tr>\n",
       "      <th>4</th>\n",
       "      <td>-30</td>\n",
       "      <td>2020-03-07</td>\n",
       "      <td>susceptible</td>\n",
       "      <td>5.025908e+06</td>\n",
       "    </tr>\n",
       "  </tbody>\n",
       "</table>\n",
       "</div>"
      ],
      "text/plain": [
       "   day       date  compartment         cases\n",
       "0  -34 2020-03-03  susceptible  5.026101e+06\n",
       "1  -33 2020-03-04  susceptible  5.026066e+06\n",
       "2  -32 2020-03-05  susceptible  5.026023e+06\n",
       "3  -31 2020-03-06  susceptible  5.025971e+06\n",
       "4  -30 2020-03-07  susceptible  5.025908e+06"
      ]
     },
     "execution_count": 9,
     "metadata": {},
     "output_type": "execute_result"
    }
   ],
   "source": [
    "sim_sir_long = pd.melt(sim_sir_w_date_df, \n",
    "  id_vars=['day', 'date'],\n",
    "                       value_vars=['susceptible', 'infected', 'recovered'],\n",
    "                       var_name='compartment', value_name='cases')\n",
    "\n",
    "sim_sir_long.head()"
   ]
  },
  {
   "cell_type": "code",
   "execution_count": 10,
   "metadata": {},
   "outputs": [
    {
     "data": {
      "text/html": [
       "<div>\n",
       "<style scoped>\n",
       "    .dataframe tbody tr th:only-of-type {\n",
       "        vertical-align: middle;\n",
       "    }\n",
       "\n",
       "    .dataframe tbody tr th {\n",
       "        vertical-align: top;\n",
       "    }\n",
       "\n",
       "    .dataframe thead th {\n",
       "        text-align: right;\n",
       "    }\n",
       "</style>\n",
       "<table border=\"1\" class=\"dataframe\">\n",
       "  <thead>\n",
       "    <tr style=\"text-align: right;\">\n",
       "      <th></th>\n",
       "      <th>day</th>\n",
       "      <th>date</th>\n",
       "      <th>compartment</th>\n",
       "      <th>cases</th>\n",
       "    </tr>\n",
       "  </thead>\n",
       "  <tbody>\n",
       "    <tr>\n",
       "      <th>220</th>\n",
       "      <td>31</td>\n",
       "      <td>2020-05-07</td>\n",
       "      <td>infected</td>\n",
       "      <td>1.225620e+06</td>\n",
       "    </tr>\n",
       "    <tr>\n",
       "      <th>221</th>\n",
       "      <td>32</td>\n",
       "      <td>2020-05-08</td>\n",
       "      <td>infected</td>\n",
       "      <td>1.264846e+06</td>\n",
       "    </tr>\n",
       "    <tr>\n",
       "      <th>222</th>\n",
       "      <td>33</td>\n",
       "      <td>2020-05-09</td>\n",
       "      <td>infected</td>\n",
       "      <td>1.299096e+06</td>\n",
       "    </tr>\n",
       "    <tr>\n",
       "      <th>223</th>\n",
       "      <td>34</td>\n",
       "      <td>2020-05-10</td>\n",
       "      <td>infected</td>\n",
       "      <td>1.327982e+06</td>\n",
       "    </tr>\n",
       "    <tr>\n",
       "      <th>224</th>\n",
       "      <td>35</td>\n",
       "      <td>2020-05-11</td>\n",
       "      <td>infected</td>\n",
       "      <td>1.351230e+06</td>\n",
       "    </tr>\n",
       "  </tbody>\n",
       "</table>\n",
       "</div>"
      ],
      "text/plain": [
       "     day       date compartment         cases\n",
       "220   31 2020-05-07    infected  1.225620e+06\n",
       "221   32 2020-05-08    infected  1.264846e+06\n",
       "222   33 2020-05-09    infected  1.299096e+06\n",
       "223   34 2020-05-10    infected  1.327982e+06\n",
       "224   35 2020-05-11    infected  1.351230e+06"
      ]
     },
     "execution_count": 10,
     "metadata": {},
     "output_type": "execute_result"
    }
   ],
   "source": [
    "sim_sir_long.iloc[220:225, :]"
   ]
  },
  {
   "cell_type": "code",
   "execution_count": 11,
   "metadata": {},
   "outputs": [
    {
     "data": {
      "text/html": [
       "<div>\n",
       "<style scoped>\n",
       "    .dataframe tbody tr th:only-of-type {\n",
       "        vertical-align: middle;\n",
       "    }\n",
       "\n",
       "    .dataframe tbody tr th {\n",
       "        vertical-align: top;\n",
       "    }\n",
       "\n",
       "    .dataframe thead th {\n",
       "        text-align: right;\n",
       "    }\n",
       "</style>\n",
       "<table border=\"1\" class=\"dataframe\">\n",
       "  <thead>\n",
       "    <tr style=\"text-align: right;\">\n",
       "      <th></th>\n",
       "      <th>day</th>\n",
       "      <th>date</th>\n",
       "      <th>compartment</th>\n",
       "      <th>cases</th>\n",
       "    </tr>\n",
       "  </thead>\n",
       "  <tbody>\n",
       "    <tr>\n",
       "      <th>460</th>\n",
       "      <td>116</td>\n",
       "      <td>2020-07-31</td>\n",
       "      <td>recovered</td>\n",
       "      <td>4.601905e+06</td>\n",
       "    </tr>\n",
       "    <tr>\n",
       "      <th>461</th>\n",
       "      <td>117</td>\n",
       "      <td>2020-08-01</td>\n",
       "      <td>recovered</td>\n",
       "      <td>4.604380e+06</td>\n",
       "    </tr>\n",
       "    <tr>\n",
       "      <th>462</th>\n",
       "      <td>118</td>\n",
       "      <td>2020-08-02</td>\n",
       "      <td>recovered</td>\n",
       "      <td>4.606716e+06</td>\n",
       "    </tr>\n",
       "    <tr>\n",
       "      <th>463</th>\n",
       "      <td>119</td>\n",
       "      <td>2020-08-03</td>\n",
       "      <td>recovered</td>\n",
       "      <td>4.608920e+06</td>\n",
       "    </tr>\n",
       "    <tr>\n",
       "      <th>464</th>\n",
       "      <td>120</td>\n",
       "      <td>2020-08-04</td>\n",
       "      <td>recovered</td>\n",
       "      <td>4.611000e+06</td>\n",
       "    </tr>\n",
       "  </tbody>\n",
       "</table>\n",
       "</div>"
      ],
      "text/plain": [
       "     day       date compartment         cases\n",
       "460  116 2020-07-31   recovered  4.601905e+06\n",
       "461  117 2020-08-01   recovered  4.604380e+06\n",
       "462  118 2020-08-02   recovered  4.606716e+06\n",
       "463  119 2020-08-03   recovered  4.608920e+06\n",
       "464  120 2020-08-04   recovered  4.611000e+06"
      ]
     },
     "execution_count": 11,
     "metadata": {},
     "output_type": "execute_result"
    }
   ],
   "source": [
    "sim_sir_long.tail()"
   ]
  },
  {
   "cell_type": "code",
   "execution_count": 12,
   "metadata": {},
   "outputs": [
    {
     "data": {
      "image/png": "[encoded data removed]",
      "text/plain": [
       "<Figure size 432x288 with 1 Axes>"
      ]
     },
     "metadata": {
      "needs_background": "light"
     },
     "output_type": "display_data"
    }
   ],
   "source": [
    "sns.lineplot(x='day', y='cases', hue='compartment', \n",
    "             data=sim_sir_long);"
   ]
  },
  {
   "cell_type": "markdown",
   "metadata": {},
   "source": [
    "Remember, these are numbers of people in the total modeled population ($P$) in $S$, $I$ and $R$. Conservation of people holds and $S + I + R = P$."
   ]
  },
  {
   "cell_type": "markdown",
   "metadata": {},
   "source": [
    "## Translating *I* and *R* --> resource use\n",
    "\n",
    "This will take a few distinct steps.\n",
    "\n",
    "### Step 1 - Dispositions\n",
    "The first step is to go from $I$ and $R$ to number of people requiring hospitalization, ICU care, and ventilator care. In Python and model terms, we need to go from `sim_sir_w_date_df` to `dispositions_df`. "
   ]
  },
  {
   "cell_type": "code",
   "execution_count": 13,
   "metadata": {},
   "outputs": [
    {
     "data": {
      "text/html": [
       "<div>\n",
       "<style scoped>\n",
       "    .dataframe tbody tr th:only-of-type {\n",
       "        vertical-align: middle;\n",
       "    }\n",
       "\n",
       "    .dataframe tbody tr th {\n",
       "        vertical-align: top;\n",
       "    }\n",
       "\n",
       "    .dataframe thead th {\n",
       "        text-align: right;\n",
       "    }\n",
       "</style>\n",
       "<table border=\"1\" class=\"dataframe\">\n",
       "  <thead>\n",
       "    <tr style=\"text-align: right;\">\n",
       "      <th></th>\n",
       "      <th>day</th>\n",
       "      <th>date</th>\n",
       "      <th>hospitalized</th>\n",
       "      <th>icu</th>\n",
       "      <th>ventilated</th>\n",
       "    </tr>\n",
       "  </thead>\n",
       "  <tbody>\n",
       "    <tr>\n",
       "      <th>30</th>\n",
       "      <td>-4</td>\n",
       "      <td>2020-04-02</td>\n",
       "      <td>420.075428</td>\n",
       "      <td>126.022628</td>\n",
       "      <td>84.015086</td>\n",
       "    </tr>\n",
       "    <tr>\n",
       "      <th>31</th>\n",
       "      <td>-3</td>\n",
       "      <td>2020-04-03</td>\n",
       "      <td>508.000269</td>\n",
       "      <td>152.400081</td>\n",
       "      <td>101.600054</td>\n",
       "    </tr>\n",
       "    <tr>\n",
       "      <th>32</th>\n",
       "      <td>-2</td>\n",
       "      <td>2020-04-04</td>\n",
       "      <td>614.042726</td>\n",
       "      <td>184.212818</td>\n",
       "      <td>122.808545</td>\n",
       "    </tr>\n",
       "    <tr>\n",
       "      <th>33</th>\n",
       "      <td>-1</td>\n",
       "      <td>2020-04-05</td>\n",
       "      <td>741.811484</td>\n",
       "      <td>222.543445</td>\n",
       "      <td>148.362297</td>\n",
       "    </tr>\n",
       "    <tr>\n",
       "      <th>34</th>\n",
       "      <td>0</td>\n",
       "      <td>2020-04-06</td>\n",
       "      <td>895.577004</td>\n",
       "      <td>268.673101</td>\n",
       "      <td>179.115401</td>\n",
       "    </tr>\n",
       "    <tr>\n",
       "      <th>35</th>\n",
       "      <td>1</td>\n",
       "      <td>2020-04-07</td>\n",
       "      <td>1023.081937</td>\n",
       "      <td>306.924581</td>\n",
       "      <td>204.616387</td>\n",
       "    </tr>\n",
       "    <tr>\n",
       "      <th>36</th>\n",
       "      <td>2</td>\n",
       "      <td>2020-04-08</td>\n",
       "      <td>1165.369664</td>\n",
       "      <td>349.610899</td>\n",
       "      <td>233.073933</td>\n",
       "    </tr>\n",
       "    <tr>\n",
       "      <th>37</th>\n",
       "      <td>3</td>\n",
       "      <td>2020-04-09</td>\n",
       "      <td>1324.004490</td>\n",
       "      <td>397.201347</td>\n",
       "      <td>264.800898</td>\n",
       "    </tr>\n",
       "    <tr>\n",
       "      <th>38</th>\n",
       "      <td>4</td>\n",
       "      <td>2020-04-10</td>\n",
       "      <td>1500.678615</td>\n",
       "      <td>450.203584</td>\n",
       "      <td>300.135723</td>\n",
       "    </tr>\n",
       "    <tr>\n",
       "      <th>39</th>\n",
       "      <td>5</td>\n",
       "      <td>2020-04-11</td>\n",
       "      <td>1697.212924</td>\n",
       "      <td>509.163877</td>\n",
       "      <td>339.442585</td>\n",
       "    </tr>\n",
       "  </tbody>\n",
       "</table>\n",
       "</div>"
      ],
      "text/plain": [
       "    day       date  hospitalized         icu  ventilated\n",
       "30   -4 2020-04-02    420.075428  126.022628   84.015086\n",
       "31   -3 2020-04-03    508.000269  152.400081  101.600054\n",
       "32   -2 2020-04-04    614.042726  184.212818  122.808545\n",
       "33   -1 2020-04-05    741.811484  222.543445  148.362297\n",
       "34    0 2020-04-06    895.577004  268.673101  179.115401\n",
       "35    1 2020-04-07   1023.081937  306.924581  204.616387\n",
       "36    2 2020-04-08   1165.369664  349.610899  233.073933\n",
       "37    3 2020-04-09   1324.004490  397.201347  264.800898\n",
       "38    4 2020-04-10   1500.678615  450.203584  300.135723\n",
       "39    5 2020-04-11   1697.212924  509.163877  339.442585"
      ]
     },
     "execution_count": 13,
     "metadata": {},
     "output_type": "execute_result"
    }
   ],
   "source": [
    "dispositions_df = results['dispositions_df']\n",
    "dispositions_df[30:40]"
   ]
  },
  {
   "cell_type": "markdown",
   "metadata": {},
   "source": [
    "Consider the **hospitalized** column - similar logic will apply to **icu** and **ventilated**. At each time step, we need to compute the number of **newly infected people** (let's call it $i_t$) - these are the *potential hospital admissions*. In essence, the CHIME model assumes that a fraction of all new potential hospital admissions at each time step immediately become hospitalized.  \n",
    "\n",
    "At first, it might seem that all we need to do to compute $i_t$ is to compute $I_t - I_{t-1}$. However, it's a little trickier than that. The value of $I_t$ is composed of:\n",
    "\n",
    "* people who were infected at time $(t-1)$, $I_{t-1}$,\n",
    "* minus those who transitioned from $I$ to $R$ - let's call it $r_t$, \n",
    "* plus the number of newly infected people, $i_t$.\n",
    "\n",
    "So, \n",
    "\n",
    "$$\n",
    "I_t = I_{t-1} - r_t + i_t \n",
    "$$\n",
    "\n",
    "and then,\n",
    "\n",
    "$$\n",
    "i_t = I_t - I_{t-1} + r_t\n",
    "$$\n",
    "\n",
    "But, $r_t$, the new transitions from $I$ to $R$, is just $R_t - R_{t-1}$. Remember, $R$ is an \"accumulating state\" and represents the cumulative number of transitions from $I$ to $R$ up through time $t$. We can rewrite the previous equation as\n",
    "\n",
    "$$\n",
    "i_t = (I_t - I_{t-1}) + (R_t - R_{t-1})\n",
    "$$\n",
    "\n",
    "which might be paraphrased as \"newly infected is equal to the change in $I$ plus the change in $R$. Now, let's regroup the terms and rewrite the equation for $i_t$ as\n",
    "\n",
    "$$\n",
    "i_t = (I_t + R_t) - (I_{t-1} + R_{t-1})\n",
    "$$\n",
    "\n",
    "or \n",
    "\n",
    "$$\n",
    "i_t = S_t^{'} - S_{t-1}^{'}\n",
    "$$\n",
    "\n",
    "The value of $S_t^{'} = (I_t + R_t)$ is the subset of the population that is no longer in the susceptible ($S$) bucket at time $t$, but is in $I$ or $R$ instead. So, $P_t = S_t + S_t^{'}$. Everyone is either in $S$ or not in $S$. \n",
    "\n",
    "We can interpret $i_t$ as the **new** group of potential resource users at time $t$.\n",
    "\n",
    "Finally, we can get to *dispositions* by multiplying $S_t^{'}$ by the appropriate resource use rate for hospitalization ($h=$ `hospitalized-rate`) and the hospital market share ($m =$ `market-share`). For hospitalizations,\n",
    "\n",
    "$$\n",
    "D_t^{H} = h \\cdot m \\cdot S_t^{'}\n",
    "$$\n",
    "\n",
    "$D_t^{H}$ is exactly what is contained in the **hospitalized** column of the `dispositions_df` dataframe we saw earlier. Let's check our thinking by computing dispositions from the raw SIR output and comparing it to `dispositions_df`."
   ]
  },
  {
   "cell_type": "code",
   "execution_count": 14,
   "metadata": {},
   "outputs": [
    {
     "name": "stdout",
     "output_type": "stream",
     "text": [
      "Market share: 0.320\n",
      "Fraction of infected needing hospitalization: 0.0250\n"
     ]
    }
   ],
   "source": [
    "hosp_market_share = p.market_share\n",
    "hospitalized_fraction = p.hospitalized.rate\n",
    "print('Market share: {:.3f}\\nFraction of infected needing hospitalization: {:.4f}'.format(\n",
    "    hosp_market_share, hospitalized_fraction))\n"
   ]
  },
  {
   "cell_type": "code",
   "execution_count": 15,
   "metadata": {},
   "outputs": [
    {
     "data": {
      "text/html": [
       "<div>\n",
       "<style scoped>\n",
       "    .dataframe tbody tr th:only-of-type {\n",
       "        vertical-align: middle;\n",
       "    }\n",
       "\n",
       "    .dataframe tbody tr th {\n",
       "        vertical-align: top;\n",
       "    }\n",
       "\n",
       "    .dataframe thead th {\n",
       "        text-align: right;\n",
       "    }\n",
       "</style>\n",
       "<table border=\"1\" class=\"dataframe\">\n",
       "  <thead>\n",
       "    <tr style=\"text-align: right;\">\n",
       "      <th></th>\n",
       "      <th>num_hospitalized</th>\n",
       "      <th>hospitalized</th>\n",
       "    </tr>\n",
       "  </thead>\n",
       "  <tbody>\n",
       "    <tr>\n",
       "      <th>0</th>\n",
       "      <td>1.000000</td>\n",
       "      <td>1.000000</td>\n",
       "    </tr>\n",
       "    <tr>\n",
       "      <th>1</th>\n",
       "      <td>1.283108</td>\n",
       "      <td>1.283108</td>\n",
       "    </tr>\n",
       "    <tr>\n",
       "      <th>2</th>\n",
       "      <td>1.626142</td>\n",
       "      <td>1.626142</td>\n",
       "    </tr>\n",
       "    <tr>\n",
       "      <th>3</th>\n",
       "      <td>2.041785</td>\n",
       "      <td>2.041785</td>\n",
       "    </tr>\n",
       "    <tr>\n",
       "      <th>4</th>\n",
       "      <td>2.545405</td>\n",
       "      <td>2.545405</td>\n",
       "    </tr>\n",
       "  </tbody>\n",
       "</table>\n",
       "</div>"
      ],
      "text/plain": [
       "   num_hospitalized  hospitalized\n",
       "0          1.000000      1.000000\n",
       "1          1.283108      1.283108\n",
       "2          1.626142      1.626142\n",
       "3          2.041785      2.041785\n",
       "4          2.545405      2.545405"
      ]
     },
     "execution_count": 15,
     "metadata": {},
     "output_type": "execute_result"
    }
   ],
   "source": [
    "# Compute D = (I + R) * m * h\n",
    "dispos_hosp = (sim_sir_w_date_df.infected + sim_sir_w_date_df.recovered) * hosp_market_share * hospitalized_fraction\n",
    "\n",
    "# Create mini DataFrame of our computed D and the actual D from dispositions_df. \n",
    "# The two columns should be equal.\n",
    "dispos_hosp.name = 'num_hospitalized'  # Give Series a nice name\n",
    "pd.DataFrame({dispos_hosp.name: dispos_hosp, \n",
    "              'hospitalized': dispositions_df.hospitalized}, index=None).head()\n",
    "\n"
   ]
  },
  {
   "cell_type": "markdown",
   "metadata": {},
   "source": [
    "Looks good, but let's double check that they contain equal values by making an assertion."
   ]
  },
  {
   "cell_type": "code",
   "execution_count": 16,
   "metadata": {},
   "outputs": [],
   "source": [
    "pd.testing.assert_series_equal(dispositions_df['hospitalized'], dispos_hosp,\n",
    "                                        check_names=False)"
   ]
  },
  {
   "cell_type": "markdown",
   "metadata": {},
   "source": [
    "Great. "
   ]
  },
  {
   "cell_type": "markdown",
   "metadata": {},
   "source": [
    "> **IMPORTANT** The above logic holds for ICU and ventilator use as well since the user inputs, `icu-rate` and `ventilated-rate` are expressed as percentages of the total population. So, let's use $D_t^{C}$ and $D_t^{V}$ to represent dispositions for icu and ventilated patients."
   ]
  },
  {
   "cell_type": "markdown",
   "metadata": {},
   "source": [
    "In fact, we can actually see all of the above math and logic play out in the following function in `penn_chime.models`. I've taken the liberty of adding a few additional comments.\n",
    "\n",
    "```python\n",
    "    def build_dispositions_df(\n",
    "        raw_df: pd.DataFrame,\n",
    "        rates: Dict[str, float],\n",
    "        market_share: float,\n",
    "        current_date: datetime,\n",
    "    ) -> pd.DataFrame:\n",
    "        \"\"\"Build dispositions dataframe of patients adjusted by rate and market_share.\"\"\"\n",
    "        patients = raw_df.infected + raw_df.recovered    # Here is S' = I + R\n",
    "        day = raw_df.day\n",
    "        return pd.DataFrame({\n",
    "            \"day\": day,\n",
    "            \"date\": day.astype('timedelta64[D]') + np.datetime64(current_date),\n",
    "            **{\n",
    "                key: patients * rate * market_share # Use rate for hospital, icu, or vent\n",
    "                for key, rate in rates.items()      # Iterating over hospital, icu, vent\n",
    "            }\n",
    "        })\n",
    "```"
   ]
  },
  {
   "cell_type": "markdown",
   "metadata": {},
   "source": [
    "### Step 2- Admits\n",
    "We saw above that $i_t = S_t^{'} - S_{t-1}^{'}$ is the number of new potential resource users. Since dispositions is just a rescaled version of $S_t^{'}$, we can compute the estimated number of new admits by\n",
    "\n",
    "$$\n",
    "A_t = D_t - D_{t-1}\n",
    "$$"
   ]
  },
  {
   "cell_type": "markdown",
   "metadata": {},
   "source": [
    "Of course, we do this separately for hospitalizations, icu, and vents. Here's the annotated function from `penn_chime.models`."
   ]
  },
  {
   "cell_type": "markdown",
   "metadata": {},
   "source": [
    "```python\n",
    "def build_admits_df(dispositions_df: pd.DataFrame) -> pd.DataFrame:\n",
    "    \"\"\"Build admits dataframe from dispositions.\"\"\"\n",
    "    admits_df = dispositions_df - dispositions_df.shift(1)  #D_{t} - D_{t-1}\n",
    "    admits_df.day = dispositions_df.day\n",
    "    admits_df.date = dispositions_df.date\n",
    "    return admits_df\n",
    "```"
   ]
  },
  {
   "cell_type": "code",
   "execution_count": 17,
   "metadata": {},
   "outputs": [
    {
     "data": {
      "text/html": [
       "<div>\n",
       "<style scoped>\n",
       "    .dataframe tbody tr th:only-of-type {\n",
       "        vertical-align: middle;\n",
       "    }\n",
       "\n",
       "    .dataframe tbody tr th {\n",
       "        vertical-align: top;\n",
       "    }\n",
       "\n",
       "    .dataframe thead th {\n",
       "        text-align: right;\n",
       "    }\n",
       "</style>\n",
       "<table border=\"1\" class=\"dataframe\">\n",
       "  <thead>\n",
       "    <tr style=\"text-align: right;\">\n",
       "      <th></th>\n",
       "      <th>day</th>\n",
       "      <th>date</th>\n",
       "      <th>hospitalized</th>\n",
       "      <th>icu</th>\n",
       "      <th>ventilated</th>\n",
       "    </tr>\n",
       "  </thead>\n",
       "  <tbody>\n",
       "    <tr>\n",
       "      <th>0</th>\n",
       "      <td>-34</td>\n",
       "      <td>2020-03-03</td>\n",
       "      <td>NaN</td>\n",
       "      <td>NaN</td>\n",
       "      <td>NaN</td>\n",
       "    </tr>\n",
       "    <tr>\n",
       "      <th>1</th>\n",
       "      <td>-33</td>\n",
       "      <td>2020-03-04</td>\n",
       "      <td>0.283108</td>\n",
       "      <td>0.084932</td>\n",
       "      <td>0.056622</td>\n",
       "    </tr>\n",
       "    <tr>\n",
       "      <th>2</th>\n",
       "      <td>-32</td>\n",
       "      <td>2020-03-05</td>\n",
       "      <td>0.343034</td>\n",
       "      <td>0.102910</td>\n",
       "      <td>0.068607</td>\n",
       "    </tr>\n",
       "    <tr>\n",
       "      <th>3</th>\n",
       "      <td>-31</td>\n",
       "      <td>2020-03-06</td>\n",
       "      <td>0.415643</td>\n",
       "      <td>0.124693</td>\n",
       "      <td>0.083129</td>\n",
       "    </tr>\n",
       "    <tr>\n",
       "      <th>4</th>\n",
       "      <td>-30</td>\n",
       "      <td>2020-03-07</td>\n",
       "      <td>0.503619</td>\n",
       "      <td>0.151086</td>\n",
       "      <td>0.100724</td>\n",
       "    </tr>\n",
       "  </tbody>\n",
       "</table>\n",
       "</div>"
      ],
      "text/plain": [
       "   day       date  hospitalized       icu  ventilated\n",
       "0  -34 2020-03-03           NaN       NaN         NaN\n",
       "1  -33 2020-03-04      0.283108  0.084932    0.056622\n",
       "2  -32 2020-03-05      0.343034  0.102910    0.068607\n",
       "3  -31 2020-03-06      0.415643  0.124693    0.083129\n",
       "4  -30 2020-03-07      0.503619  0.151086    0.100724"
      ]
     },
     "execution_count": 17,
     "metadata": {},
     "output_type": "execute_result"
    }
   ],
   "source": [
    "results['admits_df'].head()"
   ]
  },
  {
   "cell_type": "code",
   "execution_count": 18,
   "metadata": {},
   "outputs": [
    {
     "data": {
      "text/html": [
       "<div>\n",
       "<style scoped>\n",
       "    .dataframe tbody tr th:only-of-type {\n",
       "        vertical-align: middle;\n",
       "    }\n",
       "\n",
       "    .dataframe tbody tr th {\n",
       "        vertical-align: top;\n",
       "    }\n",
       "\n",
       "    .dataframe thead th {\n",
       "        text-align: right;\n",
       "    }\n",
       "</style>\n",
       "<table border=\"1\" class=\"dataframe\">\n",
       "  <thead>\n",
       "    <tr style=\"text-align: right;\">\n",
       "      <th></th>\n",
       "      <th>day</th>\n",
       "      <th>date</th>\n",
       "      <th>hospitalized</th>\n",
       "      <th>icu</th>\n",
       "      <th>ventilated</th>\n",
       "    </tr>\n",
       "  </thead>\n",
       "  <tbody>\n",
       "    <tr>\n",
       "      <th>30</th>\n",
       "      <td>-4</td>\n",
       "      <td>2020-04-02</td>\n",
       "      <td>72.843830</td>\n",
       "      <td>21.853149</td>\n",
       "      <td>14.568766</td>\n",
       "    </tr>\n",
       "    <tr>\n",
       "      <th>31</th>\n",
       "      <td>-3</td>\n",
       "      <td>2020-04-03</td>\n",
       "      <td>87.924841</td>\n",
       "      <td>26.377452</td>\n",
       "      <td>17.584968</td>\n",
       "    </tr>\n",
       "    <tr>\n",
       "      <th>32</th>\n",
       "      <td>-2</td>\n",
       "      <td>2020-04-04</td>\n",
       "      <td>106.042456</td>\n",
       "      <td>31.812737</td>\n",
       "      <td>21.208491</td>\n",
       "    </tr>\n",
       "    <tr>\n",
       "      <th>33</th>\n",
       "      <td>-1</td>\n",
       "      <td>2020-04-05</td>\n",
       "      <td>127.768758</td>\n",
       "      <td>38.330627</td>\n",
       "      <td>25.553752</td>\n",
       "    </tr>\n",
       "    <tr>\n",
       "      <th>34</th>\n",
       "      <td>0</td>\n",
       "      <td>2020-04-06</td>\n",
       "      <td>153.765520</td>\n",
       "      <td>46.129656</td>\n",
       "      <td>30.753104</td>\n",
       "    </tr>\n",
       "    <tr>\n",
       "      <th>35</th>\n",
       "      <td>1</td>\n",
       "      <td>2020-04-07</td>\n",
       "      <td>127.504933</td>\n",
       "      <td>38.251480</td>\n",
       "      <td>25.500987</td>\n",
       "    </tr>\n",
       "    <tr>\n",
       "      <th>36</th>\n",
       "      <td>2</td>\n",
       "      <td>2020-04-08</td>\n",
       "      <td>142.287727</td>\n",
       "      <td>42.686318</td>\n",
       "      <td>28.457545</td>\n",
       "    </tr>\n",
       "    <tr>\n",
       "      <th>37</th>\n",
       "      <td>3</td>\n",
       "      <td>2020-04-09</td>\n",
       "      <td>158.634826</td>\n",
       "      <td>47.590448</td>\n",
       "      <td>31.726965</td>\n",
       "    </tr>\n",
       "    <tr>\n",
       "      <th>38</th>\n",
       "      <td>4</td>\n",
       "      <td>2020-04-10</td>\n",
       "      <td>176.674125</td>\n",
       "      <td>53.002237</td>\n",
       "      <td>35.334825</td>\n",
       "    </tr>\n",
       "    <tr>\n",
       "      <th>39</th>\n",
       "      <td>5</td>\n",
       "      <td>2020-04-11</td>\n",
       "      <td>196.534309</td>\n",
       "      <td>58.960293</td>\n",
       "      <td>39.306862</td>\n",
       "    </tr>\n",
       "    <tr>\n",
       "      <th>40</th>\n",
       "      <td>6</td>\n",
       "      <td>2020-04-12</td>\n",
       "      <td>218.341935</td>\n",
       "      <td>65.502580</td>\n",
       "      <td>43.668387</td>\n",
       "    </tr>\n",
       "    <tr>\n",
       "      <th>41</th>\n",
       "      <td>7</td>\n",
       "      <td>2020-04-13</td>\n",
       "      <td>242.217688</td>\n",
       "      <td>72.665306</td>\n",
       "      <td>48.443538</td>\n",
       "    </tr>\n",
       "    <tr>\n",
       "      <th>42</th>\n",
       "      <td>8</td>\n",
       "      <td>2020-04-14</td>\n",
       "      <td>268.271729</td>\n",
       "      <td>80.481519</td>\n",
       "      <td>53.654346</td>\n",
       "    </tr>\n",
       "    <tr>\n",
       "      <th>43</th>\n",
       "      <td>9</td>\n",
       "      <td>2020-04-15</td>\n",
       "      <td>296.598021</td>\n",
       "      <td>88.979406</td>\n",
       "      <td>59.319604</td>\n",
       "    </tr>\n",
       "    <tr>\n",
       "      <th>44</th>\n",
       "      <td>10</td>\n",
       "      <td>2020-04-16</td>\n",
       "      <td>327.267587</td>\n",
       "      <td>98.180276</td>\n",
       "      <td>65.453517</td>\n",
       "    </tr>\n",
       "  </tbody>\n",
       "</table>\n",
       "</div>"
      ],
      "text/plain": [
       "    day       date  hospitalized        icu  ventilated\n",
       "30   -4 2020-04-02     72.843830  21.853149   14.568766\n",
       "31   -3 2020-04-03     87.924841  26.377452   17.584968\n",
       "32   -2 2020-04-04    106.042456  31.812737   21.208491\n",
       "33   -1 2020-04-05    127.768758  38.330627   25.553752\n",
       "34    0 2020-04-06    153.765520  46.129656   30.753104\n",
       "35    1 2020-04-07    127.504933  38.251480   25.500987\n",
       "36    2 2020-04-08    142.287727  42.686318   28.457545\n",
       "37    3 2020-04-09    158.634826  47.590448   31.726965\n",
       "38    4 2020-04-10    176.674125  53.002237   35.334825\n",
       "39    5 2020-04-11    196.534309  58.960293   39.306862\n",
       "40    6 2020-04-12    218.341935  65.502580   43.668387\n",
       "41    7 2020-04-13    242.217688  72.665306   48.443538\n",
       "42    8 2020-04-14    268.271729  80.481519   53.654346\n",
       "43    9 2020-04-15    296.598021  88.979406   59.319604\n",
       "44   10 2020-04-16    327.267587  98.180276   65.453517"
      ]
     },
     "execution_count": 18,
     "metadata": {},
     "output_type": "execute_result"
    }
   ],
   "source": [
    "results['admits_df'][30:45]"
   ]
  },
  {
   "cell_type": "code",
   "execution_count": 19,
   "metadata": {},
   "outputs": [
    {
     "data": {
      "image/png": "[encoded data removed]",
      "text/plain": [
       "<Figure size 432x288 with 1 Axes>"
      ]
     },
     "metadata": {
      "needs_background": "light"
     },
     "output_type": "display_data"
    }
   ],
   "source": [
    "admits_df = results['admits_df']\n",
    "admits_long = pd.melt(admits_df, \n",
    "  id_vars=['day', 'date'],\n",
    "                       value_vars=['hospitalized', 'icu', 'ventilated'],\n",
    "                       var_name='disposition', value_name='admits')\n",
    "\n",
    "\n",
    "sns.lineplot(x='day', y='admits', hue='disposition', \n",
    "             data=admits_long);"
   ]
  },
  {
   "cell_type": "markdown",
   "metadata": {},
   "source": [
    "Well, that was easy. On to census."
   ]
  },
  {
   "cell_type": "markdown",
   "metadata": {},
   "source": [
    "### Step 3 - Census\n",
    "Remember, this is a deterministic model. The user is asked to provide three average length of stay (ALOS) values:\n",
    "\n",
    "* `hospitalized-day` - average time spent in the hospital by **any covid-19 patient, in any bed type**.\n",
    "* `icu days` - average time spent in an ICU bed **only for those covid-19 patients who went to an ICU**.\n",
    "* `ventilated-day` - average time spent on a ventilator **only for those covid-19 patients who were ventilated**\n",
    "\n",
    "**IMPORTANT** - see the Documentation on user inputs for ALOS at https://code-for-philly.gitbook.io/chime/what-is-chime/parameters#length-of-stay.\n",
    "\n",
    "### Assumptions and interpretations\n",
    "\n",
    "There are some other important assumptions and interpretations regarding the interplay between these ALOS values for the different resources."
   ]
  },
  {
   "cell_type": "markdown",
   "metadata": {},
   "source": [
    "$$\n",
    "H \\subset C \\subset V\n",
    "$$\n",
    "\n",
    "Ventilated patients are a subset of ICU patients and ICU patients are a subset of hospitalized patients. This keeps things simpler in the sense that we are estimating average census values for each resource independently by, essentially, multiplying the arrival rate (average number of new dispositions per day) by the appropriate ALOS value (the Python code does this in a different manner but the result is the same). A couple of points:\n",
    "\n",
    "* for those of you with a bit of queueing or \"process physics\" knowledge, this is just [Little's Law](https://en.wikipedia.org/wiki/Little%27s_law).\n",
    "* this model is not in any way looking at details of patient flow patterns such as the fact that patients may take different paths through the hospital:\n",
    "  - Regular bed --> Discharge\n",
    "  - Regular bed --> ICU --> Regular/step down --> Discharge\n",
    "  - Regular bed --> ICU --> Discharge\n",
    "  - ICU --> Discharge\n",
    "  - ICU --> Regular/step down --> Discharge\n",
    "  - Step Down --> Discharge\n",
    "  - ... etc.\n",
    "* there is no explicit consideration of capacity limits,\n",
    "* there is no explicit consideration of parameter uncertainty or stochastic processes.\n"
   ]
  },
  {
   "cell_type": "markdown",
   "metadata": {},
   "source": [
    "This is **not** a criticism of the model. All models are approximations, models have varying purposes and there are always tradeoffs. The CHIME model balances complexity, number and availability of user inputs, and its goal of being a quick, rough approximation of resource implications during early to middle stages (i.e. before capacity becomes the limiting factor) of a spreading virus. As capacity becomes more of an issue, there will likely be a need for additional models. Discrete event patient flow simulation models are one of the likely candidates. If interested, you can see simple examples of such models using the Python [simpy](https://simpy.readthedocs.io/en/latest/) package in two blog posts I did, [here](http://hselab.org/simpy-getting-started-patient-flow-modeling.html) and [here](http://hselab.org/simpy-first-oo-patflow-model.html)."
   ]
  },
  {
   "cell_type": "markdown",
   "metadata": {},
   "source": [
    "### Computing average census values\n",
    "Census can be computed for each resource independently using the `admits_df` DataFrame and the appropriate ALOS value for the resource. Here's the annotated code."
   ]
  },
  {
   "cell_type": "markdown",
   "metadata": {},
   "source": [
    "```python\n",
    "def build_census_df(\n",
    "    admits_df: pd.DataFrame,\n",
    "    lengths_of_stay: Dict[str, int],\n",
    ") -> pd.DataFrame:\n",
    "    \"\"\"Average Length of Stay for each disposition of COVID-19 case (total guesses)\"\"\"\n",
    "    return pd.DataFrame({\n",
    "        'day': admits_df.day,\n",
    "        'date': admits_df.date,\n",
    "        **{\n",
    "            key: (                       # See below for illustration of this computation\n",
    "                admits_df[key].cumsum()\n",
    "                - admits_df[key].cumsum().shift(los).fillna(0)\n",
    "            )\n",
    "            for key, los in lengths_of_stay.items()\n",
    "        }\n",
    "    })\n",
    "```"
   ]
  },
  {
   "cell_type": "markdown",
   "metadata": {},
   "source": [
    "Ok, the key line is\n",
    "\n",
    "```python\n",
    "admits_df[key].cumsum()\n",
    "                - admits_df[key].cumsum().shift(los).fillna(0)\n",
    "```\n",
    "\n",
    "Let's see how this works."
   ]
  },
  {
   "cell_type": "code",
   "execution_count": 20,
   "metadata": {},
   "outputs": [
    {
     "data": {
      "text/html": [
       "<div>\n",
       "<style scoped>\n",
       "    .dataframe tbody tr th:only-of-type {\n",
       "        vertical-align: middle;\n",
       "    }\n",
       "\n",
       "    .dataframe tbody tr th {\n",
       "        vertical-align: top;\n",
       "    }\n",
       "\n",
       "    .dataframe thead th {\n",
       "        text-align: right;\n",
       "    }\n",
       "</style>\n",
       "<table border=\"1\" class=\"dataframe\">\n",
       "  <thead>\n",
       "    <tr style=\"text-align: right;\">\n",
       "      <th></th>\n",
       "      <th>admits</th>\n",
       "      <th>cum_admits</th>\n",
       "      <th>shifted_cum_admits</th>\n",
       "      <th>census_computation</th>\n",
       "      <th>census_chime</th>\n",
       "    </tr>\n",
       "  </thead>\n",
       "  <tbody>\n",
       "    <tr>\n",
       "      <th>0</th>\n",
       "      <td>NaN</td>\n",
       "      <td>NaN</td>\n",
       "      <td>0.000000</td>\n",
       "      <td>NaN</td>\n",
       "      <td>NaN</td>\n",
       "    </tr>\n",
       "    <tr>\n",
       "      <th>1</th>\n",
       "      <td>0.283108</td>\n",
       "      <td>0.283108</td>\n",
       "      <td>0.000000</td>\n",
       "      <td>0.283108</td>\n",
       "      <td>0.283108</td>\n",
       "    </tr>\n",
       "    <tr>\n",
       "      <th>2</th>\n",
       "      <td>0.343034</td>\n",
       "      <td>0.626142</td>\n",
       "      <td>0.000000</td>\n",
       "      <td>0.626142</td>\n",
       "      <td>0.626142</td>\n",
       "    </tr>\n",
       "    <tr>\n",
       "      <th>3</th>\n",
       "      <td>0.415643</td>\n",
       "      <td>1.041785</td>\n",
       "      <td>0.000000</td>\n",
       "      <td>1.041785</td>\n",
       "      <td>1.041785</td>\n",
       "    </tr>\n",
       "    <tr>\n",
       "      <th>4</th>\n",
       "      <td>0.503619</td>\n",
       "      <td>1.545405</td>\n",
       "      <td>0.000000</td>\n",
       "      <td>1.545405</td>\n",
       "      <td>1.545405</td>\n",
       "    </tr>\n",
       "    <tr>\n",
       "      <th>5</th>\n",
       "      <td>0.610214</td>\n",
       "      <td>2.155619</td>\n",
       "      <td>0.000000</td>\n",
       "      <td>2.155619</td>\n",
       "      <td>2.155619</td>\n",
       "    </tr>\n",
       "    <tr>\n",
       "      <th>6</th>\n",
       "      <td>0.739366</td>\n",
       "      <td>2.894984</td>\n",
       "      <td>0.000000</td>\n",
       "      <td>2.894984</td>\n",
       "      <td>2.894984</td>\n",
       "    </tr>\n",
       "    <tr>\n",
       "      <th>7</th>\n",
       "      <td>0.895847</td>\n",
       "      <td>3.790831</td>\n",
       "      <td>0.000000</td>\n",
       "      <td>3.790831</td>\n",
       "      <td>3.790831</td>\n",
       "    </tr>\n",
       "    <tr>\n",
       "      <th>8</th>\n",
       "      <td>1.085437</td>\n",
       "      <td>4.876268</td>\n",
       "      <td>0.283108</td>\n",
       "      <td>4.593160</td>\n",
       "      <td>4.593160</td>\n",
       "    </tr>\n",
       "    <tr>\n",
       "      <th>9</th>\n",
       "      <td>1.315137</td>\n",
       "      <td>6.191406</td>\n",
       "      <td>0.626142</td>\n",
       "      <td>5.565264</td>\n",
       "      <td>5.565264</td>\n",
       "    </tr>\n",
       "    <tr>\n",
       "      <th>10</th>\n",
       "      <td>1.593428</td>\n",
       "      <td>7.784834</td>\n",
       "      <td>1.041785</td>\n",
       "      <td>6.743048</td>\n",
       "      <td>6.743048</td>\n",
       "    </tr>\n",
       "    <tr>\n",
       "      <th>11</th>\n",
       "      <td>1.930578</td>\n",
       "      <td>9.715412</td>\n",
       "      <td>1.545405</td>\n",
       "      <td>8.170007</td>\n",
       "      <td>8.170007</td>\n",
       "    </tr>\n",
       "    <tr>\n",
       "      <th>12</th>\n",
       "      <td>2.339024</td>\n",
       "      <td>12.054436</td>\n",
       "      <td>2.155619</td>\n",
       "      <td>9.898818</td>\n",
       "      <td>9.898818</td>\n",
       "    </tr>\n",
       "    <tr>\n",
       "      <th>13</th>\n",
       "      <td>2.833823</td>\n",
       "      <td>14.888259</td>\n",
       "      <td>2.894984</td>\n",
       "      <td>11.993275</td>\n",
       "      <td>11.993275</td>\n",
       "    </tr>\n",
       "    <tr>\n",
       "      <th>14</th>\n",
       "      <td>3.433203</td>\n",
       "      <td>18.321463</td>\n",
       "      <td>3.790831</td>\n",
       "      <td>14.530631</td>\n",
       "      <td>14.530631</td>\n",
       "    </tr>\n",
       "  </tbody>\n",
       "</table>\n",
       "</div>"
      ],
      "text/plain": [
       "      admits  cum_admits  shifted_cum_admits  census_computation  census_chime\n",
       "0        NaN         NaN            0.000000                 NaN           NaN\n",
       "1   0.283108    0.283108            0.000000            0.283108      0.283108\n",
       "2   0.343034    0.626142            0.000000            0.626142      0.626142\n",
       "3   0.415643    1.041785            0.000000            1.041785      1.041785\n",
       "4   0.503619    1.545405            0.000000            1.545405      1.545405\n",
       "5   0.610214    2.155619            0.000000            2.155619      2.155619\n",
       "6   0.739366    2.894984            0.000000            2.894984      2.894984\n",
       "7   0.895847    3.790831            0.000000            3.790831      3.790831\n",
       "8   1.085437    4.876268            0.283108            4.593160      4.593160\n",
       "9   1.315137    6.191406            0.626142            5.565264      5.565264\n",
       "10  1.593428    7.784834            1.041785            6.743048      6.743048\n",
       "11  1.930578    9.715412            1.545405            8.170007      8.170007\n",
       "12  2.339024   12.054436            2.155619            9.898818      9.898818\n",
       "13  2.833823   14.888259            2.894984           11.993275     11.993275\n",
       "14  3.433203   18.321463            3.790831           14.530631     14.530631"
      ]
     },
     "execution_count": 20,
     "metadata": {},
     "output_type": "execute_result"
    }
   ],
   "source": [
    "# Grab the dataframes we need\n",
    "admits_df = results['admits_df']\n",
    "census_df = results['census_df']\n",
    "\n",
    "# Let's look at hospitalized \n",
    "key = 'hospitalized'\n",
    "los = 7\n",
    "\n",
    "# Make a mini DataFrame with columns to illustrate the computation\n",
    "admits = admits_df[key]\n",
    "census = census_df[key]\n",
    "cum_admits = admits_df[key].cumsum()\n",
    "shifted_cum_admits = admits_df[key].cumsum().shift(los).fillna(0)\n",
    "\n",
    "census_demo_df = pd.DataFrame({\n",
    "    'admits': admits,\n",
    "    'cum_admits': cum_admits,\n",
    "    'shifted_cum_admits': shifted_cum_admits,\n",
    "    'census_computation': cum_admits - shifted_cum_admits,\n",
    "    'census_chime': census\n",
    "})\n",
    "\n",
    "census_demo_df.head(15)"
   ]
  },
  {
   "cell_type": "markdown",
   "metadata": {},
   "source": [
    "Consider day 9. The ALOS is 7 days. So, which admits contribute to census on day 9? Well it's the admits from day 3-9, inclusive (7 days worth). All that the code is doing is summing up all the admits from day 0-9, the `cumsum`, and then subtracting off those from 0-2, the shifted `cumsum`. Doing this prevents us from having to do \"index math\"."
   ]
  },
  {
   "cell_type": "code",
   "execution_count": 21,
   "metadata": {},
   "outputs": [
    {
     "data": {
      "image/png": "[encoded data removed]",
      "text/plain": [
       "<Figure size 432x288 with 1 Axes>"
      ]
     },
     "metadata": {
      "needs_background": "light"
     },
     "output_type": "display_data"
    }
   ],
   "source": [
    "census_df = results['census_df']\n",
    "census_long = pd.melt(census_df, \n",
    "  id_vars=['day', 'date'],\n",
    "                       value_vars=['hospitalized', 'icu', 'ventilated'],\n",
    "                       var_name='disposition', value_name='census')\n",
    "\n",
    "\n",
    "sns.lineplot(x='day', y='census', hue='disposition', \n",
    "             data=census_long);"
   ]
  },
  {
   "cell_type": "markdown",
   "metadata": {},
   "source": [
    "## Concluding remarks\n",
    "Hopefully this helps clarify how CHIME is currently computing resource use. In the next notebook, I'll build on this and explore the implied arrival rates and ALOS values for subpopulations of patients such as those covid-19 patients who do NOT use ICU and those ICU patients who do NOT use a vent. These are simple algebraic computations and by feeding them back to users, might help people calibrate their inputs better."
   ]
  },
  {
   "cell_type": "markdown",
   "metadata": {},
   "source": [
    "<font size=\"2\">This material is made available under the [MIT License](https://opensource.org/licenses/MIT).</font>"
   ]
  },
  {
   "cell_type": "code",
   "execution_count": null,
   "metadata": {},
   "outputs": [],
   "source": []
  }
 ],
 "metadata": {
  "kernelspec": {
   "display_name": "Python 3",
   "language": "python",
   "name": "python3"
  },
  "language_info": {
   "codemirror_mode": {
    "name": "ipython",
    "version": 3
   },
   "file_extension": ".py",
   "mimetype": "text/x-python",
   "name": "python",
   "nbconvert_exporter": "python",
   "pygments_lexer": "ipython3",
   "version": "3.8.1"
  }
 },
 "nbformat": 4,
 "nbformat_minor": 4
}
