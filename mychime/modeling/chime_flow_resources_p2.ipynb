{
 "cells": [
  {
   "cell_type": "code",
   "execution_count": 3,
   "metadata": {},
   "outputs": [],
   "source": [
    "import pandas as pd\n",
    "import numpy as np\n",
    "import seaborn as sns; sns.set()\n",
    "import matplotlib.pyplot as plt"
   ]
  },
  {
   "cell_type": "code",
   "execution_count": 4,
   "metadata": {},
   "outputs": [],
   "source": [
    "from scipy.optimize import curve_fit"
   ]
  },
  {
   "cell_type": "code",
   "execution_count": 5,
   "metadata": {},
   "outputs": [],
   "source": [
    "%matplotlib inline"
   ]
  },
  {
   "cell_type": "markdown",
   "metadata": {},
   "source": [
    "# Resource modeling in CHIME - Part 2 of n\n",
    "## A prototype stochastic census submodel\n",
    "\n",
    "In [Part 1](https://github.com/misken/c19/blob/master/mychime/modeling/chime_flow_resources_p1.ipynb) of this CHIME resource modeling series, the goal was to:\n",
    "\n",
    "> try to help people (including myself) better understand the concepts, math and code behind the resource modeling in [CHIME](https://github.com/CodeForPhilly/chime).\n",
    "\n",
    "In this notebook I want to explore possibilities for using queueing model based approximations for the census projections in CHIME. My primary reasons are:\n",
    "\n",
    "* current census model is a deterministic, discrete time, \"fluid flow\" type model and I wonder about the impact of ignoring stochastic effects in length of stay and in number of admits per day.\n",
    "* a stochastic model offers the possibility of presenting projected census distribution information for each day instead of one fixed point forecast. It's the tails that can get you.\n",
    "* I've spent a good part of my career building stochastic models, both queueing based and discrete event simulations, for healthcare systems and I've seen the value they can bring.\n",
    "\n",
    "**Note:** This notebook was created on 2020-04-05 based on CHIME code as of that date."
   ]
  },
  {
   "cell_type": "markdown",
   "metadata": {},
   "source": [
    "## Simulate a base scenario\n",
    "\n",
    "We'll use the same example from [Part 1](https://github.com/misken/c19/blob/master/mychime/modeling/chime_flow_resources_p1.ipynb). I'll also run the model using the `sim_chime_scenario_runner` wrapper I developed which calls the CHIME model. See Part 1 for details. The important thing is that we'll be working with the exact, unmodified, outputs from the standard CHIME model.\n",
    "\n",
    "Here are a set of [CHIME input values](https://code-for-philly.gitbook.io/chime/what-is-chime/parameters) for the current model.\n",
    "\n"
   ]
  },
  {
   "cell_type": "markdown",
   "metadata": {},
   "source": [
    "    %load tests/dt361.cfg\n",
    "\n",
    "    --current-hospitalized 802\n",
    "    --mitigation-date 2020-03-21\n",
    "    --current-date 2020-03-27\n",
    "    --doubling-time 3.61\n",
    "    --hospitalized-day 7\n",
    "    --hospitalized-rate 0.025\n",
    "    --icu-days 9\n",
    "    --icu-rate 0.0075\n",
    "    --market-share 0.32\n",
    "    --infectious-days 14\n",
    "    --n-days 120\n",
    "    --relative-contact-rate 0.31\n",
    "    --population 5026226\n",
    "    --ventilated-day 10\n",
    "    --ventilated-rate 0.005\n",
    "\n",
    "\n",
    "\n",
    "\n"
   ]
  },
  {
   "cell_type": "markdown",
   "metadata": {},
   "source": [
    "Let's run the CHIME model for this scenario."
   ]
  },
  {
   "cell_type": "code",
   "execution_count": 6,
   "metadata": {},
   "outputs": [],
   "source": [
    "# Import the scenario runner. It will import various penn_chime artifacts.\n",
    "import sim_chime_scenario_runner as runner"
   ]
  },
  {
   "cell_type": "code",
   "execution_count": 7,
   "metadata": {},
   "outputs": [
    {
     "name": "stdout",
     "output_type": "stream",
     "text": [
      "2020-04-06 22:08:05,292 - penn_chime.models - INFO - Using doubling_time: 3.61\n",
      "2020-04-06 22:08:05,359 - penn_chime.models - INFO - Set i_day = 35\n",
      "2020-04-06 22:08:05,359 - penn_chime.models - INFO - Estimated date_first_hospitalized: 2020-02-21; current_date: 2020-03-27; i_day: 35\n",
      "2020-04-06 22:08:05,360 - penn_chime.models - INFO - len(np.arange(-i_day, n_days+1)): 156\n",
      "2020-04-06 22:08:05,360 - penn_chime.models - INFO - len(raw_df): 156\n"
     ]
    }
   ],
   "source": [
    "# This scenario name string will get prepended to all output files\n",
    "scenario = 'base_dt361'\n",
    "\n",
    "# Create a penn_chime Parameters object\n",
    "p = runner.create_params_from_file(\"tests/dt361.cfg\") \n",
    "\n",
    "# Run the model\n",
    "model, results = runner.sim_chime(scenario, p) "
   ]
  },
  {
   "cell_type": "markdown",
   "metadata": {},
   "source": [
    "As a reminder, here are the keys in the `results` dictionary. My `sim_chime_scenario_runner.sim_chime()` function just packages up the various dataframes as well as a few dictionaries of variable values into a container dictionary for output processing convenience."
   ]
  },
  {
   "cell_type": "code",
   "execution_count": 8,
   "metadata": {
    "jupyter": {
     "source_hidden": true
    }
   },
   "outputs": [
    {
     "data": {
      "text/plain": [
       "dict_keys(['scenario', 'input_params_dict', 'intermediate_variables_dict', 'sim_sir_w_date_df', 'dispositions_df', 'admits_df', 'census_df'])"
      ]
     },
     "execution_count": 8,
     "metadata": {},
     "output_type": "execute_result"
    }
   ],
   "source": [
    "results.keys()"
   ]
  },
  {
   "cell_type": "markdown",
   "metadata": {},
   "source": [
    "This notebook will mostly be using `admits_df`, `census_df` and the `input_params_dict`. So, let's pull them out into variables to save some typing."
   ]
  },
  {
   "cell_type": "code",
   "execution_count": 9,
   "metadata": {},
   "outputs": [
    {
     "name": "stdout",
     "output_type": "stream",
     "text": [
      "    day       date   susceptible      infected     recovered\n",
      "32   -3 2020-03-24  4.961608e+06  45820.673366  18797.631243\n",
      "33   -2 2020-03-25  4.952772e+06  51383.738170  22070.536484\n",
      "34   -1 2020-03-26  4.942881e+06  57604.565698  25740.803496\n",
      "35    0 2020-03-27  4.931814e+06  64556.379610  29855.415331\n",
      "36    1 2020-03-28  4.919440e+06  72319.383652  34466.585303\n"
     ]
    }
   ],
   "source": [
    "print(results['sim_sir_w_date_df'].iloc[32:37, :])"
   ]
  },
  {
   "cell_type": "code",
   "execution_count": 10,
   "metadata": {},
   "outputs": [],
   "source": [
    "admits_df = results['admits_df']\n",
    "census_df = results['census_df']\n",
    "inputs = results['input_params_dict']"
   ]
  },
  {
   "cell_type": "markdown",
   "metadata": {},
   "source": [
    "Let's take a look at each."
   ]
  },
  {
   "cell_type": "code",
   "execution_count": 11,
   "metadata": {},
   "outputs": [
    {
     "data": {
      "text/html": [
       "<div>\n",
       "<style scoped>\n",
       "    .dataframe tbody tr th:only-of-type {\n",
       "        vertical-align: middle;\n",
       "    }\n",
       "\n",
       "    .dataframe tbody tr th {\n",
       "        vertical-align: top;\n",
       "    }\n",
       "\n",
       "    .dataframe thead th {\n",
       "        text-align: right;\n",
       "    }\n",
       "</style>\n",
       "<table border=\"1\" class=\"dataframe\">\n",
       "  <thead>\n",
       "    <tr style=\"text-align: right;\">\n",
       "      <th></th>\n",
       "      <th>day</th>\n",
       "      <th>date</th>\n",
       "      <th>hospitalized</th>\n",
       "      <th>icu</th>\n",
       "      <th>ventilated</th>\n",
       "    </tr>\n",
       "  </thead>\n",
       "  <tbody>\n",
       "    <tr>\n",
       "      <th>0</th>\n",
       "      <td>-35</td>\n",
       "      <td>2020-02-21</td>\n",
       "      <td>NaN</td>\n",
       "      <td>NaN</td>\n",
       "      <td>NaN</td>\n",
       "    </tr>\n",
       "    <tr>\n",
       "      <th>1</th>\n",
       "      <td>-34</td>\n",
       "      <td>2020-02-22</td>\n",
       "      <td>0.283108</td>\n",
       "      <td>0.084932</td>\n",
       "      <td>0.056622</td>\n",
       "    </tr>\n",
       "    <tr>\n",
       "      <th>2</th>\n",
       "      <td>-33</td>\n",
       "      <td>2020-02-23</td>\n",
       "      <td>0.343034</td>\n",
       "      <td>0.102910</td>\n",
       "      <td>0.068607</td>\n",
       "    </tr>\n",
       "    <tr>\n",
       "      <th>3</th>\n",
       "      <td>-32</td>\n",
       "      <td>2020-02-24</td>\n",
       "      <td>0.415643</td>\n",
       "      <td>0.124693</td>\n",
       "      <td>0.083129</td>\n",
       "    </tr>\n",
       "    <tr>\n",
       "      <th>4</th>\n",
       "      <td>-31</td>\n",
       "      <td>2020-02-25</td>\n",
       "      <td>0.503619</td>\n",
       "      <td>0.151086</td>\n",
       "      <td>0.100724</td>\n",
       "    </tr>\n",
       "    <tr>\n",
       "      <th>5</th>\n",
       "      <td>-30</td>\n",
       "      <td>2020-02-26</td>\n",
       "      <td>0.610214</td>\n",
       "      <td>0.183064</td>\n",
       "      <td>0.122043</td>\n",
       "    </tr>\n",
       "    <tr>\n",
       "      <th>6</th>\n",
       "      <td>-29</td>\n",
       "      <td>2020-02-27</td>\n",
       "      <td>0.739366</td>\n",
       "      <td>0.221810</td>\n",
       "      <td>0.147873</td>\n",
       "    </tr>\n",
       "    <tr>\n",
       "      <th>7</th>\n",
       "      <td>-28</td>\n",
       "      <td>2020-02-28</td>\n",
       "      <td>0.895847</td>\n",
       "      <td>0.268754</td>\n",
       "      <td>0.179169</td>\n",
       "    </tr>\n",
       "    <tr>\n",
       "      <th>8</th>\n",
       "      <td>-27</td>\n",
       "      <td>2020-02-29</td>\n",
       "      <td>1.085437</td>\n",
       "      <td>0.325631</td>\n",
       "      <td>0.217087</td>\n",
       "    </tr>\n",
       "    <tr>\n",
       "      <th>9</th>\n",
       "      <td>-26</td>\n",
       "      <td>2020-03-01</td>\n",
       "      <td>1.315137</td>\n",
       "      <td>0.394541</td>\n",
       "      <td>0.263027</td>\n",
       "    </tr>\n",
       "  </tbody>\n",
       "</table>\n",
       "</div>"
      ],
      "text/plain": [
       "   day       date  hospitalized       icu  ventilated\n",
       "0  -35 2020-02-21           NaN       NaN         NaN\n",
       "1  -34 2020-02-22      0.283108  0.084932    0.056622\n",
       "2  -33 2020-02-23      0.343034  0.102910    0.068607\n",
       "3  -32 2020-02-24      0.415643  0.124693    0.083129\n",
       "4  -31 2020-02-25      0.503619  0.151086    0.100724\n",
       "5  -30 2020-02-26      0.610214  0.183064    0.122043\n",
       "6  -29 2020-02-27      0.739366  0.221810    0.147873\n",
       "7  -28 2020-02-28      0.895847  0.268754    0.179169\n",
       "8  -27 2020-02-29      1.085437  0.325631    0.217087\n",
       "9  -26 2020-03-01      1.315137  0.394541    0.263027"
      ]
     },
     "execution_count": 11,
     "metadata": {},
     "output_type": "execute_result"
    }
   ],
   "source": [
    "admits_df.head(10)"
   ]
  },
  {
   "cell_type": "code",
   "execution_count": 12,
   "metadata": {},
   "outputs": [
    {
     "data": {
      "text/html": [
       "<div>\n",
       "<style scoped>\n",
       "    .dataframe tbody tr th:only-of-type {\n",
       "        vertical-align: middle;\n",
       "    }\n",
       "\n",
       "    .dataframe tbody tr th {\n",
       "        vertical-align: top;\n",
       "    }\n",
       "\n",
       "    .dataframe thead th {\n",
       "        text-align: right;\n",
       "    }\n",
       "</style>\n",
       "<table border=\"1\" class=\"dataframe\">\n",
       "  <thead>\n",
       "    <tr style=\"text-align: right;\">\n",
       "      <th></th>\n",
       "      <th>day</th>\n",
       "      <th>date</th>\n",
       "      <th>hospitalized</th>\n",
       "      <th>icu</th>\n",
       "      <th>ventilated</th>\n",
       "    </tr>\n",
       "  </thead>\n",
       "  <tbody>\n",
       "    <tr>\n",
       "      <th>0</th>\n",
       "      <td>-35</td>\n",
       "      <td>2020-02-21</td>\n",
       "      <td>NaN</td>\n",
       "      <td>NaN</td>\n",
       "      <td>NaN</td>\n",
       "    </tr>\n",
       "    <tr>\n",
       "      <th>1</th>\n",
       "      <td>-34</td>\n",
       "      <td>2020-02-22</td>\n",
       "      <td>0.283108</td>\n",
       "      <td>0.084932</td>\n",
       "      <td>0.056622</td>\n",
       "    </tr>\n",
       "    <tr>\n",
       "      <th>2</th>\n",
       "      <td>-33</td>\n",
       "      <td>2020-02-23</td>\n",
       "      <td>0.626142</td>\n",
       "      <td>0.187843</td>\n",
       "      <td>0.125228</td>\n",
       "    </tr>\n",
       "    <tr>\n",
       "      <th>3</th>\n",
       "      <td>-32</td>\n",
       "      <td>2020-02-24</td>\n",
       "      <td>1.041785</td>\n",
       "      <td>0.312536</td>\n",
       "      <td>0.208357</td>\n",
       "    </tr>\n",
       "    <tr>\n",
       "      <th>4</th>\n",
       "      <td>-31</td>\n",
       "      <td>2020-02-25</td>\n",
       "      <td>1.545405</td>\n",
       "      <td>0.463621</td>\n",
       "      <td>0.309081</td>\n",
       "    </tr>\n",
       "    <tr>\n",
       "      <th>5</th>\n",
       "      <td>-30</td>\n",
       "      <td>2020-02-26</td>\n",
       "      <td>2.155619</td>\n",
       "      <td>0.646686</td>\n",
       "      <td>0.431124</td>\n",
       "    </tr>\n",
       "    <tr>\n",
       "      <th>6</th>\n",
       "      <td>-29</td>\n",
       "      <td>2020-02-27</td>\n",
       "      <td>2.894984</td>\n",
       "      <td>0.868495</td>\n",
       "      <td>0.578997</td>\n",
       "    </tr>\n",
       "    <tr>\n",
       "      <th>7</th>\n",
       "      <td>-28</td>\n",
       "      <td>2020-02-28</td>\n",
       "      <td>3.790831</td>\n",
       "      <td>1.137249</td>\n",
       "      <td>0.758166</td>\n",
       "    </tr>\n",
       "    <tr>\n",
       "      <th>8</th>\n",
       "      <td>-27</td>\n",
       "      <td>2020-02-29</td>\n",
       "      <td>4.593160</td>\n",
       "      <td>1.462881</td>\n",
       "      <td>0.975254</td>\n",
       "    </tr>\n",
       "    <tr>\n",
       "      <th>9</th>\n",
       "      <td>-26</td>\n",
       "      <td>2020-03-01</td>\n",
       "      <td>5.565264</td>\n",
       "      <td>1.857422</td>\n",
       "      <td>1.238281</td>\n",
       "    </tr>\n",
       "  </tbody>\n",
       "</table>\n",
       "</div>"
      ],
      "text/plain": [
       "   day       date  hospitalized       icu  ventilated\n",
       "0  -35 2020-02-21           NaN       NaN         NaN\n",
       "1  -34 2020-02-22      0.283108  0.084932    0.056622\n",
       "2  -33 2020-02-23      0.626142  0.187843    0.125228\n",
       "3  -32 2020-02-24      1.041785  0.312536    0.208357\n",
       "4  -31 2020-02-25      1.545405  0.463621    0.309081\n",
       "5  -30 2020-02-26      2.155619  0.646686    0.431124\n",
       "6  -29 2020-02-27      2.894984  0.868495    0.578997\n",
       "7  -28 2020-02-28      3.790831  1.137249    0.758166\n",
       "8  -27 2020-02-29      4.593160  1.462881    0.975254\n",
       "9  -26 2020-03-01      5.565264  1.857422    1.238281"
      ]
     },
     "execution_count": 12,
     "metadata": {},
     "output_type": "execute_result"
    }
   ],
   "source": [
    "census_df.head(10)"
   ]
  },
  {
   "cell_type": "code",
   "execution_count": 13,
   "metadata": {},
   "outputs": [
    {
     "data": {
      "text/plain": [
       "{'current_hospitalized': 802,\n",
       " 'mitigation_date': datetime.date(2020, 3, 21),\n",
       " 'current_date': datetime.date(2020, 3, 27),\n",
       " 'infectious_days': 14,\n",
       " 'market_share': 0.32,\n",
       " 'n_days': 120,\n",
       " 'relative_contact_rate': 0.31,\n",
       " 'population': 5026226,\n",
       " 'hospitalized': Disposition(rate=0.025, days=7),\n",
       " 'icu': Disposition(rate=0.0075, days=9),\n",
       " 'ventilated': Disposition(rate=0.005, days=10),\n",
       " 'date_first_hospitalized': datetime.date(2020, 2, 21),\n",
       " 'doubling_time': 3.61,\n",
       " 'max_y_axis': None,\n",
       " 'recovered': 0,\n",
       " 'region': None,\n",
       " 'labels': {'hospitalized': 'Hospitalized',\n",
       "  'icu': 'ICU',\n",
       "  'ventilated': 'Ventilated',\n",
       "  'day': 'Day',\n",
       "  'date': 'Date',\n",
       "  'susceptible': 'Susceptible',\n",
       "  'infected': 'Infected',\n",
       "  'recovered': 'Recovered'},\n",
       " 'dispositions': {'hospitalized': Disposition(rate=0.025, days=7),\n",
       "  'icu': Disposition(rate=0.0075, days=9),\n",
       "  'ventilated': Disposition(rate=0.005, days=10)}}"
      ]
     },
     "execution_count": 13,
     "metadata": {},
     "output_type": "execute_result"
    }
   ],
   "source": [
    "inputs"
   ]
  },
  {
   "cell_type": "markdown",
   "metadata": {},
   "source": [
    "## Temporal relationship between admits and census\n",
    "\n",
    "Well known in infinite capacity queueing models with time-dependent Poisson arrivals that census lags behind arrivals (admits). Makes sense. Let's see this.\n"
   ]
  },
  {
   "cell_type": "code",
   "execution_count": 14,
   "metadata": {},
   "outputs": [
    {
     "data": {
      "image/png": "[encoded data removed]",
      "text/plain": [
       "<Figure size 432x288 with 1 Axes>"
      ]
     },
     "metadata": {
      "needs_background": "light"
     },
     "output_type": "display_data"
    }
   ],
   "source": [
    "admits_df = results['admits_df']\n",
    "admits_long = pd.melt(admits_df, \n",
    "  id_vars=['day', 'date'],\n",
    "                       value_vars=['hospitalized', 'icu', 'ventilated'],\n",
    "                       var_name='disposition', value_name='admits')\n",
    "\n",
    "\n",
    "sns.lineplot(x='day', y='admits', hue='disposition', \n",
    "             data=admits_long);"
   ]
  },
  {
   "cell_type": "code",
   "execution_count": 15,
   "metadata": {},
   "outputs": [],
   "source": [
    "hosp_admits = admits_df.loc[:, ['day', 'hospitalized']]\n",
    "hosp_admits.fillna(0, inplace=True)\n",
    "hosp_admits['rel_day'] = hosp_admits.index.values\n",
    "\n",
    "hosp_census = census_df.loc[:, ['day', 'hospitalized']]\n",
    "hosp_census.fillna(0, inplace=True)\n",
    "hosp_census['rel_day'] = hosp_census.index.values"
   ]
  },
  {
   "cell_type": "code",
   "execution_count": 16,
   "metadata": {},
   "outputs": [
    {
     "data": {
      "text/html": [
       "<div>\n",
       "<style scoped>\n",
       "    .dataframe tbody tr th:only-of-type {\n",
       "        vertical-align: middle;\n",
       "    }\n",
       "\n",
       "    .dataframe tbody tr th {\n",
       "        vertical-align: top;\n",
       "    }\n",
       "\n",
       "    .dataframe thead th {\n",
       "        text-align: right;\n",
       "    }\n",
       "</style>\n",
       "<table border=\"1\" class=\"dataframe\">\n",
       "  <thead>\n",
       "    <tr style=\"text-align: right;\">\n",
       "      <th></th>\n",
       "      <th>day</th>\n",
       "      <th>hospitalized</th>\n",
       "      <th>rel_day</th>\n",
       "    </tr>\n",
       "  </thead>\n",
       "  <tbody>\n",
       "    <tr>\n",
       "      <th>0</th>\n",
       "      <td>-35</td>\n",
       "      <td>0.000000</td>\n",
       "      <td>0</td>\n",
       "    </tr>\n",
       "    <tr>\n",
       "      <th>1</th>\n",
       "      <td>-34</td>\n",
       "      <td>0.283108</td>\n",
       "      <td>1</td>\n",
       "    </tr>\n",
       "    <tr>\n",
       "      <th>2</th>\n",
       "      <td>-33</td>\n",
       "      <td>0.343034</td>\n",
       "      <td>2</td>\n",
       "    </tr>\n",
       "    <tr>\n",
       "      <th>3</th>\n",
       "      <td>-32</td>\n",
       "      <td>0.415643</td>\n",
       "      <td>3</td>\n",
       "    </tr>\n",
       "    <tr>\n",
       "      <th>4</th>\n",
       "      <td>-31</td>\n",
       "      <td>0.503619</td>\n",
       "      <td>4</td>\n",
       "    </tr>\n",
       "    <tr>\n",
       "      <th>...</th>\n",
       "      <td>...</td>\n",
       "      <td>...</td>\n",
       "      <td>...</td>\n",
       "    </tr>\n",
       "    <tr>\n",
       "      <th>151</th>\n",
       "      <td>116</td>\n",
       "      <td>5.167029</td>\n",
       "      <td>151</td>\n",
       "    </tr>\n",
       "    <tr>\n",
       "      <th>152</th>\n",
       "      <td>117</td>\n",
       "      <td>4.869097</td>\n",
       "      <td>152</td>\n",
       "    </tr>\n",
       "    <tr>\n",
       "      <th>153</th>\n",
       "      <td>118</td>\n",
       "      <td>4.588644</td>\n",
       "      <td>153</td>\n",
       "    </tr>\n",
       "    <tr>\n",
       "      <th>154</th>\n",
       "      <td>119</td>\n",
       "      <td>4.324613</td>\n",
       "      <td>154</td>\n",
       "    </tr>\n",
       "    <tr>\n",
       "      <th>155</th>\n",
       "      <td>120</td>\n",
       "      <td>4.076012</td>\n",
       "      <td>155</td>\n",
       "    </tr>\n",
       "  </tbody>\n",
       "</table>\n",
       "<p>156 rows × 3 columns</p>\n",
       "</div>"
      ],
      "text/plain": [
       "     day  hospitalized  rel_day\n",
       "0    -35      0.000000        0\n",
       "1    -34      0.283108        1\n",
       "2    -33      0.343034        2\n",
       "3    -32      0.415643        3\n",
       "4    -31      0.503619        4\n",
       "..   ...           ...      ...\n",
       "151  116      5.167029      151\n",
       "152  117      4.869097      152\n",
       "153  118      4.588644      153\n",
       "154  119      4.324613      154\n",
       "155  120      4.076012      155\n",
       "\n",
       "[156 rows x 3 columns]"
      ]
     },
     "execution_count": 16,
     "metadata": {},
     "output_type": "execute_result"
    }
   ],
   "source": [
    "hosp_admits"
   ]
  },
  {
   "cell_type": "code",
   "execution_count": 17,
   "metadata": {},
   "outputs": [
    {
     "data": {
      "text/html": [
       "<div>\n",
       "<style scoped>\n",
       "    .dataframe tbody tr th:only-of-type {\n",
       "        vertical-align: middle;\n",
       "    }\n",
       "\n",
       "    .dataframe tbody tr th {\n",
       "        vertical-align: top;\n",
       "    }\n",
       "\n",
       "    .dataframe thead th {\n",
       "        text-align: right;\n",
       "    }\n",
       "</style>\n",
       "<table border=\"1\" class=\"dataframe\">\n",
       "  <thead>\n",
       "    <tr style=\"text-align: right;\">\n",
       "      <th></th>\n",
       "      <th>day</th>\n",
       "      <th>hospitalized</th>\n",
       "      <th>rel_day</th>\n",
       "    </tr>\n",
       "  </thead>\n",
       "  <tbody>\n",
       "    <tr>\n",
       "      <th>0</th>\n",
       "      <td>-35</td>\n",
       "      <td>0.000000</td>\n",
       "      <td>0</td>\n",
       "    </tr>\n",
       "    <tr>\n",
       "      <th>1</th>\n",
       "      <td>-34</td>\n",
       "      <td>0.283108</td>\n",
       "      <td>1</td>\n",
       "    </tr>\n",
       "    <tr>\n",
       "      <th>2</th>\n",
       "      <td>-33</td>\n",
       "      <td>0.626142</td>\n",
       "      <td>2</td>\n",
       "    </tr>\n",
       "    <tr>\n",
       "      <th>3</th>\n",
       "      <td>-32</td>\n",
       "      <td>1.041785</td>\n",
       "      <td>3</td>\n",
       "    </tr>\n",
       "    <tr>\n",
       "      <th>4</th>\n",
       "      <td>-31</td>\n",
       "      <td>1.545405</td>\n",
       "      <td>4</td>\n",
       "    </tr>\n",
       "    <tr>\n",
       "      <th>...</th>\n",
       "      <td>...</td>\n",
       "      <td>...</td>\n",
       "      <td>...</td>\n",
       "    </tr>\n",
       "    <tr>\n",
       "      <th>151</th>\n",
       "      <td>116</td>\n",
       "      <td>43.557454</td>\n",
       "      <td>151</td>\n",
       "    </tr>\n",
       "    <tr>\n",
       "      <th>152</th>\n",
       "      <td>117</td>\n",
       "      <td>41.035727</td>\n",
       "      <td>152</td>\n",
       "    </tr>\n",
       "    <tr>\n",
       "      <th>153</th>\n",
       "      <td>118</td>\n",
       "      <td>38.663053</td>\n",
       "      <td>153</td>\n",
       "    </tr>\n",
       "    <tr>\n",
       "      <th>154</th>\n",
       "      <td>119</td>\n",
       "      <td>36.430292</td>\n",
       "      <td>154</td>\n",
       "    </tr>\n",
       "    <tr>\n",
       "      <th>155</th>\n",
       "      <td>120</td>\n",
       "      <td>34.328899</td>\n",
       "      <td>155</td>\n",
       "    </tr>\n",
       "  </tbody>\n",
       "</table>\n",
       "<p>156 rows × 3 columns</p>\n",
       "</div>"
      ],
      "text/plain": [
       "     day  hospitalized  rel_day\n",
       "0    -35      0.000000        0\n",
       "1    -34      0.283108        1\n",
       "2    -33      0.626142        2\n",
       "3    -32      1.041785        3\n",
       "4    -31      1.545405        4\n",
       "..   ...           ...      ...\n",
       "151  116     43.557454      151\n",
       "152  117     41.035727      152\n",
       "153  118     38.663053      153\n",
       "154  119     36.430292      154\n",
       "155  120     34.328899      155\n",
       "\n",
       "[156 rows x 3 columns]"
      ]
     },
     "execution_count": 17,
     "metadata": {},
     "output_type": "execute_result"
    }
   ],
   "source": [
    "hosp_census"
   ]
  },
  {
   "cell_type": "code",
   "execution_count": 18,
   "metadata": {},
   "outputs": [
    {
     "data": {
      "text/plain": [
       "<matplotlib.axes._subplots.AxesSubplot at 0x7f0ae6dc42b0>"
      ]
     },
     "execution_count": 18,
     "metadata": {},
     "output_type": "execute_result"
    },
    {
     "data": {
      "image/png": "[encoded data removed]",
      "text/plain": [
       "<Figure size 432x288 with 1 Axes>"
      ]
     },
     "metadata": {
      "needs_background": "light"
     },
     "output_type": "display_data"
    }
   ],
   "source": [
    "sns.lineplot(data=hosp_admits['hospitalized'])\n",
    "sns.lineplot(data=hosp_census['hospitalized'])"
   ]
  },
  {
   "cell_type": "markdown",
   "metadata": {},
   "source": [
    "Let's look more closely at how the peaks relate."
   ]
  },
  {
   "cell_type": "code",
   "execution_count": 19,
   "metadata": {},
   "outputs": [],
   "source": [
    "x = np.array(hosp_admits.rel_day)\n",
    "y_admits = np.array(hosp_admits.hospitalized)\n",
    "y_census = hosp_census.hospitalized\n",
    "admit_peak = np.argmax(y_admits)\n",
    "census_peak = np.argmax(y_census)\n",
    "lag_txt = \"Census lag = {} days\".format(census_peak - admit_peak)"
   ]
  },
  {
   "cell_type": "code",
   "execution_count": 20,
   "metadata": {},
   "outputs": [
    {
     "data": {
      "image/png": "[encoded data removed]",
      "text/plain": [
       "<Figure size 432x288 with 1 Axes>"
      ]
     },
     "metadata": {
      "needs_background": "light"
     },
     "output_type": "display_data"
    }
   ],
   "source": [
    "plt.plot(x, y_admits, 'g--', label=\"Admits\")\n",
    "plt.plot(x, y_census, 'b--', label=\"Census\")\n",
    "plt.xlabel('days since Feb 20')\n",
    "plt.ylabel('patients')\n",
    "plt.axvline(admit_peak, color = 'g')\n",
    "plt.axvline(census_peak, color = 'b')\n",
    "plt.text(90,5000, lag_txt)\n",
    "plt.legend()\n",
    "plt.show()"
   ]
  },
  {
   "cell_type": "markdown",
   "metadata": {},
   "source": [
    "Zoom."
   ]
  },
  {
   "cell_type": "code",
   "execution_count": 21,
   "metadata": {},
   "outputs": [
    {
     "data": {
      "image/png": "[encoded data removed]",
      "text/plain": [
       "<Figure size 432x288 with 1 Axes>"
      ]
     },
     "metadata": {
      "needs_background": "light"
     },
     "output_type": "display_data"
    }
   ],
   "source": [
    "plt.plot(x, y_admits, 'g--', label=\"Admits\")\n",
    "plt.plot(x, y_census, 'b--', label=\"Census\")\n",
    "plt.xlabel('days since Feb 20')\n",
    "plt.ylabel('patients')\n",
    "plt.xlim(55, 75)\n",
    "plt.axvline(admit_peak, color = 'g')\n",
    "plt.axvline(census_peak, color = 'b')\n",
    "plt.text(57, 4000, lag_txt)\n",
    "plt.legend()\n",
    "plt.show()"
   ]
  },
  {
   "cell_type": "markdown",
   "metadata": {},
   "source": [
    "## Plan of attack for stochastic census model\n",
    "For $M_t/G/\\inf$ queueing models, there are really nice computational formulas for computing the mean value function, $m(t)$, which gives the mean of the Poisson distribution of occupancy at each time $t$. \n",
    "\n",
    "In order to use them, we need two things:\n",
    "\n",
    "* fit some sort of arrival rate function $\\lambda(t)$ to the projected admit time series\n",
    "* decide on length of stay distribution to use for $G$.\n",
    "* do the above two things wisely so that the math and computing isn't too terrible but is sufficiently accurate in matching mean census.\n",
    "\n",
    "### Arrival rate plan\n",
    "\n",
    "From looking at the admit plots above and knowing what we know about SIR models, I'm going to try to fit two logistic functions, one for the growth phase and one for the decay phase. We'll see how they fit together and, if needed, shim them with a quadratic or cubic polynomial. These should be not too bad to work with in the queueing model.\n",
    "\n",
    "### Service time (LOS) distribution plan\n",
    "\n",
    "My first thought is to use a hyperexponential distribution with three parallel stages representing three different patient types - patients with no ICU stay, patients who stay in ICU but no vent, and vent patients. The math works out quite nicely for hyperexponential service time (cite the MS paper).\n",
    "\n",
    "Add citations to work of Eick, Massey and Whitt."
   ]
  },
  {
   "cell_type": "markdown",
   "metadata": {},
   "source": [
    "## Fit logistic functions to admits\n",
    "Piece two logistic together - one that's growth and one that's decay. Then we'll shim them if needed. Start by just exploring a logistic growth model for the first part of the projected admit data."
   ]
  },
  {
   "cell_type": "code",
   "execution_count": 22,
   "metadata": {},
   "outputs": [],
   "source": [
    "# Function to fit\n",
    "def logistic_func(x, a, b, c):\n",
    "     return a /(1 + b * c ** -x)"
   ]
  },
  {
   "cell_type": "markdown",
   "metadata": {},
   "source": [
    "Let's just throw some reasonable values in and plot."
   ]
  },
  {
   "cell_type": "code",
   "execution_count": 23,
   "metadata": {},
   "outputs": [],
   "source": [
    "(a, b, c) = (1000.0, 100, 1.125)"
   ]
  },
  {
   "cell_type": "code",
   "execution_count": 24,
   "metadata": {},
   "outputs": [],
   "source": [
    "x = np.array(hosp_admits.rel_day)\n",
    "y1 = np.array(logistic_func(x, a, b, c))"
   ]
  },
  {
   "cell_type": "code",
   "execution_count": 25,
   "metadata": {},
   "outputs": [
    {
     "data": {
      "image/png": "[encoded data removed]",
      "text/plain": [
       "<Figure size 432x288 with 1 Axes>"
      ]
     },
     "metadata": {
      "needs_background": "light"
     },
     "output_type": "display_data"
    }
   ],
   "source": [
    "plt.plot(x, y1, 'g--',\n",
    "         label='fit: a={:5.3f}, b={:5.3f}, c={:5.3f}'.format(a, b, c))\n",
    "plt.plot(x, y_admits, 'b--')\n",
    "plt.xlabel('days since Feb 20')\n",
    "plt.ylabel('admits')\n",
    "plt.legend()\n",
    "plt.show()"
   ]
  },
  {
   "cell_type": "markdown",
   "metadata": {},
   "source": [
    "Ok, let's try to find a good fit from time 0 up until the peak."
   ]
  },
  {
   "cell_type": "code",
   "execution_count": 26,
   "metadata": {},
   "outputs": [],
   "source": [
    "x_peak = np.argmax(y_admits)\n",
    "admits_peak = np.max(y_admits)\n",
    "x_growth = x[:x_peak + 1]\n",
    "x_decay = x[x_peak + 1:]\n",
    "y_act_growth = y_admits[:x_peak + 1]\n",
    "y_act_decay = y_admits[x_peak + 1:]\n",
    "\n",
    "(a0_growth, b0_growth, c0_growth) = (1000, 1000, 1.1)\n",
    "# [1.29378304e+03 1.02204732e+03 1.14296202e+00]\n",
    "(a0_decay, b0_decay, c0_decay) = (1000, 0.001, 0.9)"
   ]
  },
  {
   "cell_type": "code",
   "execution_count": 27,
   "metadata": {},
   "outputs": [
    {
     "name": "stdout",
     "output_type": "stream",
     "text": [
      "[1.26609963e+03 1.60265523e+03 1.14380768e+00]\n"
     ]
    }
   ],
   "source": [
    "popt, pcov = curve_fit(logistic_func, x_growth, y_act_growth,  p0=(a0_growth, b0_growth, c0_growth))\n",
    "print(popt)\n",
    "y_fit_growth = logistic_func(x_growth, *popt)"
   ]
  },
  {
   "cell_type": "code",
   "execution_count": 28,
   "metadata": {},
   "outputs": [
    {
     "data": {
      "image/png": "[encoded data removed]",
      "text/plain": [
       "<Figure size 432x288 with 1 Axes>"
      ]
     },
     "metadata": {
      "needs_background": "light"
     },
     "output_type": "display_data"
    }
   ],
   "source": [
    "plt.plot(x_growth, y_fit_growth, 'g--',\n",
    "         label='fit: a={:5.3f}, b={:5.3f}, c={:5.3f}'.format(*popt))\n",
    "plt.plot(x_growth, y_act_growth, 'b--')\n",
    "plt.xlabel('days since Feb 20')\n",
    "plt.ylabel('admits')\n",
    "plt.legend()\n",
    "plt.show()"
   ]
  },
  {
   "cell_type": "markdown",
   "metadata": {},
   "source": [
    "Now fit the decay side in a similar way."
   ]
  },
  {
   "cell_type": "code",
   "execution_count": 29,
   "metadata": {},
   "outputs": [
    {
     "name": "stdout",
     "output_type": "stream",
     "text": [
      "[1.56413231e+03 6.24626446e-04 9.07435017e-01]\n"
     ]
    }
   ],
   "source": [
    "popt, pcov = curve_fit(logistic_func, x_decay, y_act_decay,  p0=(a0_decay, b0_decay, c0_decay))\n",
    "print(popt)\n",
    "y_fit_decay = logistic_func(x_decay, *popt)"
   ]
  },
  {
   "cell_type": "code",
   "execution_count": 30,
   "metadata": {},
   "outputs": [
    {
     "data": {
      "image/png": "[encoded data removed]",
      "text/plain": [
       "<Figure size 432x288 with 1 Axes>"
      ]
     },
     "metadata": {
      "needs_background": "light"
     },
     "output_type": "display_data"
    }
   ],
   "source": [
    "plt.plot(x_decay, y_fit_decay, 'g--',\n",
    "         label='fit: a={:5.3f}, b={:5.3f}, c={:5.3f}'.format(*popt))\n",
    "plt.plot(x_decay, y_act_decay, 'b--')\n",
    "plt.xlabel('days since Feb 20')\n",
    "plt.ylabel('admits')\n",
    "plt.legend()\n",
    "plt.show()"
   ]
  },
  {
   "cell_type": "markdown",
   "metadata": {},
   "source": [
    "Let's join the two pieces together and check the overall fit, especially near the peak where the two logistic functions are duct taped together."
   ]
  },
  {
   "cell_type": "code",
   "execution_count": 31,
   "metadata": {},
   "outputs": [],
   "source": [
    "# Join the pieces\n",
    "y_fit = np.concatenate((y_fit_growth, y_fit_decay), axis=None)\n",
    "x_fit_peak = np.argmax(y_fit)\n",
    "admits_fit_peak = np.max(y_fit)"
   ]
  },
  {
   "cell_type": "code",
   "execution_count": 32,
   "metadata": {},
   "outputs": [
    {
     "data": {
      "image/png": "[encoded data removed]",
      "text/plain": [
       "<Figure size 432x288 with 1 Axes>"
      ]
     },
     "metadata": {
      "needs_background": "light"
     },
     "output_type": "display_data"
    }
   ],
   "source": [
    "plt.plot(x, y_fit, 'g--',\n",
    "         label='fitted pieces')\n",
    "plt.plot(x, y_admits, 'g',\n",
    "         label='actual admits')\n",
    "plt.xlabel('days since Feb 20')\n",
    "plt.ylabel('admits')\n",
    "plt.legend()\n",
    "plt.show()"
   ]
  },
  {
   "cell_type": "markdown",
   "metadata": {},
   "source": [
    "Zoom in on the peak."
   ]
  },
  {
   "cell_type": "code",
   "execution_count": 33,
   "metadata": {},
   "outputs": [
    {
     "data": {
      "image/png": "[encoded data removed]",
      "text/plain": [
       "<Figure size 432x288 with 1 Axes>"
      ]
     },
     "metadata": {
      "needs_background": "light"
     },
     "output_type": "display_data"
    }
   ],
   "source": [
    "plt.plot(x, y_fit, 'g--',\n",
    "         label='fitted pieces')\n",
    "plt.plot(x, y_admits, 'b',\n",
    "         label='actual admits')\n",
    "plt.xlabel('days since Feb 20')\n",
    "plt.ylabel('admits')\n",
    "plt.xlim(60, 75)\n",
    "plt.ylim(900, 1100)\n",
    "label_fitted = \"{:.2f}\".format(admits_fit_peak)\n",
    "label_admits = \"{:.2f}\".format(admits_peak)\n",
    "plt.annotate(label_fitted, # this is the text\n",
    "                 (x_fit_peak, admits_fit_peak), # this is the point to label\n",
    "                 textcoords=\"offset points\", # how to position the text\n",
    "                 xytext=(0,10), # distance from text to points (x,y)\n",
    "                 ha='center') # horizontal alignment can be left, right or center\n",
    "plt.annotate(label_admits, # this is the text\n",
    "                 (x_peak, admits_peak), # this is the point to label\n",
    "                 textcoords=\"offset points\", # how to position the text\n",
    "                 xytext=(0,10), # distance from text to points (x,y)\n",
    "                 ha='center') # horizontal alignment can be left, right or center\n",
    "plt.legend()\n",
    "plt.show()"
   ]
  },
  {
   "cell_type": "markdown",
   "metadata": {},
   "source": [
    "Good enough for now. Let's get the queueing part working. Then we can improve this by perhaps using a spline to match the hump between, say, x=62 and x=67. Actually, let's shim them now. Seems fun."
   ]
  },
  {
   "cell_type": "code",
   "execution_count": 34,
   "metadata": {},
   "outputs": [],
   "source": [
    "shimx_lower = 65\n",
    "shimx_upper = 71\n",
    "x_shim = x[shimx_lower:shimx_upper + 1]\n",
    "y_shim = y_admits[shimx_lower:shimx_upper + 1]"
   ]
  },
  {
   "cell_type": "markdown",
   "metadata": {},
   "source": [
    "I'm going to try a quadratic as it looks sufficient to match the hump."
   ]
  },
  {
   "cell_type": "code",
   "execution_count": 35,
   "metadata": {},
   "outputs": [],
   "source": [
    "quad_shim = np.polyfit(x_shim, y_shim, 2)"
   ]
  },
  {
   "cell_type": "code",
   "execution_count": 36,
   "metadata": {},
   "outputs": [],
   "source": [
    "# Function to fit\n",
    "def quad_func(x, a, b, c):\n",
    "     return a * x **2 + b * x + c"
   ]
  },
  {
   "cell_type": "code",
   "execution_count": 37,
   "metadata": {},
   "outputs": [
    {
     "data": {
      "text/plain": [
       "array([1004.49448924, 1016.30394435, 1021.42262271, 1019.85052431,\n",
       "       1011.58764916,  996.63399725,  974.98956859])"
      ]
     },
     "execution_count": 37,
     "metadata": {},
     "output_type": "execute_result"
    }
   ],
   "source": [
    "y_fit_shim = quad_func(x_shim, *quad_shim)\n",
    "y_fit_shim"
   ]
  },
  {
   "cell_type": "code",
   "execution_count": 38,
   "metadata": {},
   "outputs": [],
   "source": [
    "y_fit_w_shim = np.concatenate((y_fit_growth[:shimx_lower], y_fit_shim, y_fit_decay[shimx_upper - x_peak:]), axis=None)"
   ]
  },
  {
   "cell_type": "code",
   "execution_count": 39,
   "metadata": {},
   "outputs": [],
   "source": [
    "# Check for shape consistency (e.g. no off by one errors)\n",
    "assert y_fit_w_shim.shape == x.shape"
   ]
  },
  {
   "cell_type": "code",
   "execution_count": 40,
   "metadata": {},
   "outputs": [
    {
     "data": {
      "image/png": "[encoded data removed]",
      "text/plain": [
       "<Figure size 432x288 with 1 Axes>"
      ]
     },
     "metadata": {
      "needs_background": "light"
     },
     "output_type": "display_data"
    }
   ],
   "source": [
    "plt.plot(x, y_fit_w_shim, 'g--', label='yfit with shim')\n",
    "plt.plot(x, y_fit, 'r--', label='yfit without shim')\n",
    "plt.plot(x, y_admits, 'b--', label='actual admits')\n",
    "plt.xlabel('days since Feb 20')\n",
    "plt.ylabel('admits')\n",
    "plt.legend()\n",
    "plt.show()"
   ]
  },
  {
   "cell_type": "code",
   "execution_count": 41,
   "metadata": {},
   "outputs": [
    {
     "data": {
      "image/png": "[encoded data removed]",
      "text/plain": [
       "<Figure size 432x288 with 1 Axes>"
      ]
     },
     "metadata": {
      "needs_background": "light"
     },
     "output_type": "display_data"
    }
   ],
   "source": [
    "plt.plot(x, y_fit_w_shim, 'g--', label='yfit with shim')\n",
    "plt.plot(x, y_fit, 'r--', label='yfit without shim')\n",
    "plt.plot(x, y_admits, 'b--', label='actual admits')\n",
    "plt.xlabel('days since Feb 20')\n",
    "plt.ylabel('admits')\n",
    "plt.xlim(60, 70)\n",
    "plt.ylim(900, 1100)\n",
    "label_fitted = \"{:.2f}\".format(admits_fit_peak)\n",
    "label_admits = \"{:.2f}\".format(admits_peak)\n",
    "plt.annotate(label_fitted, # this is the text\n",
    "                 (x_fit_peak, admits_fit_peak), # this is the point to label\n",
    "                 textcoords=\"offset points\", # how to position the text\n",
    "                 xytext=(0,10), # distance from text to points (x,y)\n",
    "                 ha='center') # horizontal alignment can be left, right or center\n",
    "plt.annotate(label_admits, # this is the text\n",
    "                 (x_peak, admits_peak), # this is the point to label\n",
    "                 textcoords=\"offset points\", # how to position the text\n",
    "                 xytext=(0,10), # distance from text to points (x,y)\n",
    "                 ha='center') # horizontal alignment can be left, right or center\n",
    "plt.legend()\n",
    "plt.show()"
   ]
  },
  {
   "cell_type": "markdown",
   "metadata": {},
   "source": [
    "Nice."
   ]
  },
  {
   "cell_type": "markdown",
   "metadata": {},
   "source": [
    "## Service time distribution parameters\n",
    "WIP - this is next"
   ]
  },
  {
   "cell_type": "markdown",
   "metadata": {},
   "source": [
    "    # %load tests/dt361.cfg\n",
    "    \n",
    "    --current-hospitalized 802\n",
    "    --mitigation-date 2020-03-21\n",
    "    --current-date 2020-03-27\n",
    "    --doubling-time 3.61\n",
    "    --hospitalized-day 7\n",
    "    --hospitalized-rate 0.025\n",
    "    --icu-days 9\n",
    "    --icu-rate 0.0075\n",
    "    --market-share 0.32\n",
    "    --infectious-days 14\n",
    "    --n-days 120\n",
    "    --relative-contact-rate 0.31\n",
    "    --population 5026226\n",
    "    --ventilated-day 10\n",
    "    --ventilated-rate 0.005"
   ]
  },
  {
   "cell_type": "code",
   "execution_count": 79,
   "metadata": {},
   "outputs": [
    {
     "data": {
      "text/plain": [
       "{'current_hospitalized': 802,\n",
       " 'mitigation_date': datetime.date(2020, 3, 21),\n",
       " 'current_date': datetime.date(2020, 3, 27),\n",
       " 'infectious_days': 14,\n",
       " 'market_share': 0.32,\n",
       " 'n_days': 120,\n",
       " 'relative_contact_rate': 0.31,\n",
       " 'population': 5026226,\n",
       " 'hospitalized': Disposition(rate=0.025, days=7),\n",
       " 'icu': Disposition(rate=0.0075, days=9),\n",
       " 'ventilated': Disposition(rate=0.005, days=10),\n",
       " 'date_first_hospitalized': datetime.date(2020, 2, 21),\n",
       " 'doubling_time': 3.61,\n",
       " 'max_y_axis': None,\n",
       " 'recovered': 0,\n",
       " 'region': None,\n",
       " 'labels': {'hospitalized': 'Hospitalized',\n",
       "  'icu': 'ICU',\n",
       "  'ventilated': 'Ventilated',\n",
       "  'day': 'Day',\n",
       "  'date': 'Date',\n",
       "  'susceptible': 'Susceptible',\n",
       "  'infected': 'Infected',\n",
       "  'recovered': 'Recovered'},\n",
       " 'dispositions': {'hospitalized': Disposition(rate=0.025, days=7),\n",
       "  'icu': Disposition(rate=0.0075, days=9),\n",
       "  'ventilated': Disposition(rate=0.005, days=10)}}"
      ]
     },
     "execution_count": 79,
     "metadata": {},
     "output_type": "execute_result"
    }
   ],
   "source": [
    "vars(p)"
   ]
  },
  {
   "cell_type": "code",
   "execution_count": 80,
   "metadata": {},
   "outputs": [],
   "source": [
    "hosp_los = p.hospitalized.days\n",
    "icu_los = p.icu.days\n",
    "vent_los = p.ventilated.days\n",
    "icu_pct = p.icu.rate\n",
    "vent_pct = p.ventilated.days"
   ]
  },
  {
   "cell_type": "markdown",
   "metadata": {},
   "source": [
    "Let's start with independent models for hospital beds, ICU beds, and vents."
   ]
  },
  {
   "cell_type": "code",
   "execution_count": null,
   "metadata": {},
   "outputs": [],
   "source": []
  },
  {
   "cell_type": "code",
   "execution_count": null,
   "metadata": {},
   "outputs": [],
   "source": []
  },
  {
   "cell_type": "code",
   "execution_count": null,
   "metadata": {},
   "outputs": [],
   "source": []
  },
  {
   "cell_type": "markdown",
   "metadata": {},
   "source": [
    "Now let's pretend there are three simplified patient types.\n",
    "\n",
    "* Type 1 - just use hospital bed, no icu (and, obviously, no vent)\n",
    "* Type 2 - just use icu bed but not a vent\n",
    "* Type 3 - use icu and vent"
   ]
  },
  {
   "cell_type": "code",
   "execution_count": null,
   "metadata": {},
   "outputs": [],
   "source": []
  },
  {
   "cell_type": "code",
   "execution_count": null,
   "metadata": {},
   "outputs": [],
   "source": []
  },
  {
   "cell_type": "code",
   "execution_count": null,
   "metadata": {},
   "outputs": [],
   "source": []
  },
  {
   "cell_type": "markdown",
   "metadata": {},
   "source": [
    "## M(t)/H3/inf model"
   ]
  },
  {
   "cell_type": "markdown",
   "metadata": {},
   "source": [
    "WIP - then this"
   ]
  },
  {
   "cell_type": "markdown",
   "metadata": {},
   "source": [
    "## Stuff from part 1 of the modeling posts\n",
    "Below is the census related stuff from part 1. We'll likely need some of this to compare queueing model census projections to CHIME census projections."
   ]
  },
  {
   "cell_type": "markdown",
   "metadata": {},
   "source": [
    "### Step 3 - Census\n",
    "Remember, this is a deterministic model. The user is asked to provide three average length of stay (ALOS) values:\n",
    "\n",
    "* `hospitalized-day` - average time spent in the hospital by **any covid-19 patient, in any bed type**.\n",
    "* `icu days` - average time spent in an ICU bed **only for those covid-19 patients who went to an ICU**.\n",
    "* `ventilated-day` - average time spent on a ventilator **only for those covid-19 patients who were ventilated**\n",
    "\n",
    "**IMPORTANT** - see the Documentation on user inputs for ALOS at https://code-for-philly.gitbook.io/chime/what-is-chime/parameters#length-of-stay.\n",
    "\n",
    "### Assumptions and interpretations\n",
    "\n",
    "There are some other important assumptions and interpretations regarding the interplay between these ALOS values for the different resources."
   ]
  },
  {
   "cell_type": "markdown",
   "metadata": {},
   "source": [
    "$$\n",
    "H \\subset C \\subset V\n",
    "$$\n",
    "\n",
    "Ventilated patients are a subset of ICU patients and ICU patients are a subset of hospitalized patients. This keeps things simpler in the sense that we are estimating average census values for each resource independently by, essentially, multiplying the arrival rate (average number of new dispositions per day) by the appropriate ALOS value (the Python code does this in a different manner but the result is the same). A couple of points:\n",
    "\n",
    "* for those of you with a bit of queueing or \"process physics\" knowledge, this is just [Little's Law](https://en.wikipedia.org/wiki/Little%27s_law).\n",
    "* this model is not in any way looking at details of patient flow patterns such as the fact that patients may take different paths through the hospital:\n",
    "  - Regular bed --> Discharge\n",
    "  - Regular bed --> ICU --> Regular/step down --> Discharge\n",
    "  - Regular bed --> ICU --> Discharge\n",
    "  - ICU --> Discharge\n",
    "  - ICU --> Regular/step down --> Discharge\n",
    "  - Step Down --> Discharge\n",
    "  - ... etc.\n",
    "* there is no explicit consideration of capacity limits,\n",
    "* there is no explicit consideration of parameter uncertainty or stochastic processes."
   ]
  },
  {
   "cell_type": "markdown",
   "metadata": {},
   "source": [
    "This is **not** a criticism of the model. All models are approximations, models have varying purposes and there are always tradeoffs. The CHIME model balances complexity, number and availability of user inputs, and its goal of being a quick, rough approximation of resource implications during early to middle stages (i.e. before capacity becomes the limiting factor) of a spreading virus. As capacity becomes more of an issue, there will likely be a need for additional models. Discrete event patient flow simulation models are one of the likely candidates. If interested, you can see simple examples of such models using the Python [simpy](https://simpy.readthedocs.io/en/latest/) package in two blog posts I did, [here](http://hselab.org/simpy-getting-started-patient-flow-modeling.html) and [here](http://hselab.org/simpy-first-oo-patflow-model.html)."
   ]
  },
  {
   "cell_type": "markdown",
   "metadata": {},
   "source": [
    "### Computing average census values\n",
    "Census can be computed for each resource independently using the `admits_df` DataFrame and the appropriate ALOS value for the resource. Here's the annotated code."
   ]
  },
  {
   "cell_type": "markdown",
   "metadata": {},
   "source": [
    "```python\n",
    "def build_census_df(\n",
    "    admits_df: pd.DataFrame,\n",
    "    lengths_of_stay: Dict[str, int],\n",
    ") -> pd.DataFrame:\n",
    "    \"\"\"Average Length of Stay for each disposition of COVID-19 case (total guesses)\"\"\"\n",
    "    return pd.DataFrame({\n",
    "        'day': admits_df.day,\n",
    "        'date': admits_df.date,\n",
    "        **{\n",
    "            key: (                       # See below for illustration of this computation\n",
    "                admits_df[key].cumsum()\n",
    "                - admits_df[key].cumsum().shift(los).fillna(0)\n",
    "            )\n",
    "            for key, los in lengths_of_stay.items()\n",
    "        }\n",
    "    })\n",
    "```"
   ]
  },
  {
   "cell_type": "markdown",
   "metadata": {},
   "source": [
    "Ok, the key line is\n",
    "\n",
    "```python\n",
    "admits_df[key].cumsum()\n",
    "                - admits_df[key].cumsum().shift(los).fillna(0)\n",
    "```\n",
    "\n",
    "Let's see how this works."
   ]
  },
  {
   "cell_type": "code",
   "execution_count": 12,
   "metadata": {},
   "outputs": [
    {
     "data": {
      "text/html": [
       "<div>\n",
       "<style scoped>\n",
       "    .dataframe tbody tr th:only-of-type {\n",
       "        vertical-align: middle;\n",
       "    }\n",
       "\n",
       "    .dataframe tbody tr th {\n",
       "        vertical-align: top;\n",
       "    }\n",
       "\n",
       "    .dataframe thead th {\n",
       "        text-align: right;\n",
       "    }\n",
       "</style>\n",
       "<table border=\"1\" class=\"dataframe\">\n",
       "  <thead>\n",
       "    <tr style=\"text-align: right;\">\n",
       "      <th></th>\n",
       "      <th>admits</th>\n",
       "      <th>cum_admits</th>\n",
       "      <th>shifted_cum_admits</th>\n",
       "      <th>census_computation</th>\n",
       "      <th>census_chime</th>\n",
       "    </tr>\n",
       "  </thead>\n",
       "  <tbody>\n",
       "    <tr>\n",
       "      <th>0</th>\n",
       "      <td>NaN</td>\n",
       "      <td>NaN</td>\n",
       "      <td>0.000000</td>\n",
       "      <td>NaN</td>\n",
       "      <td>NaN</td>\n",
       "    </tr>\n",
       "    <tr>\n",
       "      <th>1</th>\n",
       "      <td>0.283108</td>\n",
       "      <td>0.283108</td>\n",
       "      <td>0.000000</td>\n",
       "      <td>0.283108</td>\n",
       "      <td>0.283108</td>\n",
       "    </tr>\n",
       "    <tr>\n",
       "      <th>2</th>\n",
       "      <td>0.343034</td>\n",
       "      <td>0.626142</td>\n",
       "      <td>0.000000</td>\n",
       "      <td>0.626142</td>\n",
       "      <td>0.626142</td>\n",
       "    </tr>\n",
       "    <tr>\n",
       "      <th>3</th>\n",
       "      <td>0.415643</td>\n",
       "      <td>1.041785</td>\n",
       "      <td>0.000000</td>\n",
       "      <td>1.041785</td>\n",
       "      <td>1.041785</td>\n",
       "    </tr>\n",
       "    <tr>\n",
       "      <th>4</th>\n",
       "      <td>0.503619</td>\n",
       "      <td>1.545405</td>\n",
       "      <td>0.000000</td>\n",
       "      <td>1.545405</td>\n",
       "      <td>1.545405</td>\n",
       "    </tr>\n",
       "    <tr>\n",
       "      <th>5</th>\n",
       "      <td>0.610214</td>\n",
       "      <td>2.155619</td>\n",
       "      <td>0.000000</td>\n",
       "      <td>2.155619</td>\n",
       "      <td>2.155619</td>\n",
       "    </tr>\n",
       "    <tr>\n",
       "      <th>6</th>\n",
       "      <td>0.739366</td>\n",
       "      <td>2.894984</td>\n",
       "      <td>0.000000</td>\n",
       "      <td>2.894984</td>\n",
       "      <td>2.894984</td>\n",
       "    </tr>\n",
       "    <tr>\n",
       "      <th>7</th>\n",
       "      <td>0.895847</td>\n",
       "      <td>3.790831</td>\n",
       "      <td>0.000000</td>\n",
       "      <td>3.790831</td>\n",
       "      <td>3.790831</td>\n",
       "    </tr>\n",
       "    <tr>\n",
       "      <th>8</th>\n",
       "      <td>1.085437</td>\n",
       "      <td>4.876268</td>\n",
       "      <td>0.283108</td>\n",
       "      <td>4.593160</td>\n",
       "      <td>4.593160</td>\n",
       "    </tr>\n",
       "    <tr>\n",
       "      <th>9</th>\n",
       "      <td>1.315137</td>\n",
       "      <td>6.191406</td>\n",
       "      <td>0.626142</td>\n",
       "      <td>5.565264</td>\n",
       "      <td>5.565264</td>\n",
       "    </tr>\n",
       "    <tr>\n",
       "      <th>10</th>\n",
       "      <td>1.593428</td>\n",
       "      <td>7.784834</td>\n",
       "      <td>1.041785</td>\n",
       "      <td>6.743048</td>\n",
       "      <td>6.743048</td>\n",
       "    </tr>\n",
       "    <tr>\n",
       "      <th>11</th>\n",
       "      <td>1.930578</td>\n",
       "      <td>9.715412</td>\n",
       "      <td>1.545405</td>\n",
       "      <td>8.170007</td>\n",
       "      <td>8.170007</td>\n",
       "    </tr>\n",
       "    <tr>\n",
       "      <th>12</th>\n",
       "      <td>2.339024</td>\n",
       "      <td>12.054436</td>\n",
       "      <td>2.155619</td>\n",
       "      <td>9.898818</td>\n",
       "      <td>9.898818</td>\n",
       "    </tr>\n",
       "    <tr>\n",
       "      <th>13</th>\n",
       "      <td>2.833823</td>\n",
       "      <td>14.888259</td>\n",
       "      <td>2.894984</td>\n",
       "      <td>11.993275</td>\n",
       "      <td>11.993275</td>\n",
       "    </tr>\n",
       "    <tr>\n",
       "      <th>14</th>\n",
       "      <td>3.433203</td>\n",
       "      <td>18.321463</td>\n",
       "      <td>3.790831</td>\n",
       "      <td>14.530631</td>\n",
       "      <td>14.530631</td>\n",
       "    </tr>\n",
       "  </tbody>\n",
       "</table>\n",
       "</div>"
      ],
      "text/plain": [
       "      admits  cum_admits  shifted_cum_admits  census_computation  census_chime\n",
       "0        NaN         NaN            0.000000                 NaN           NaN\n",
       "1   0.283108    0.283108            0.000000            0.283108      0.283108\n",
       "2   0.343034    0.626142            0.000000            0.626142      0.626142\n",
       "3   0.415643    1.041785            0.000000            1.041785      1.041785\n",
       "4   0.503619    1.545405            0.000000            1.545405      1.545405\n",
       "5   0.610214    2.155619            0.000000            2.155619      2.155619\n",
       "6   0.739366    2.894984            0.000000            2.894984      2.894984\n",
       "7   0.895847    3.790831            0.000000            3.790831      3.790831\n",
       "8   1.085437    4.876268            0.283108            4.593160      4.593160\n",
       "9   1.315137    6.191406            0.626142            5.565264      5.565264\n",
       "10  1.593428    7.784834            1.041785            6.743048      6.743048\n",
       "11  1.930578    9.715412            1.545405            8.170007      8.170007\n",
       "12  2.339024   12.054436            2.155619            9.898818      9.898818\n",
       "13  2.833823   14.888259            2.894984           11.993275     11.993275\n",
       "14  3.433203   18.321463            3.790831           14.530631     14.530631"
      ]
     },
     "execution_count": 12,
     "metadata": {},
     "output_type": "execute_result"
    }
   ],
   "source": [
    "# Grab the dataframes we need\n",
    "admits_df = results['admits_df']\n",
    "census_df = results['census_df']\n",
    "\n",
    "# Let's look at hospitalized \n",
    "key = 'hospitalized'\n",
    "los = 7\n",
    "\n",
    "# Make a mini DataFrame with columns to illustrate the computation\n",
    "admits = admits_df[key]\n",
    "census = census_df[key]\n",
    "cum_admits = admits_df[key].cumsum()\n",
    "shifted_cum_admits = admits_df[key].cumsum().shift(los).fillna(0)\n",
    "\n",
    "census_demo_df = pd.DataFrame({\n",
    "    'admits': admits,\n",
    "    'cum_admits': cum_admits,\n",
    "    'shifted_cum_admits': shifted_cum_admits,\n",
    "    'census_computation': cum_admits - shifted_cum_admits,\n",
    "    'census_chime': census\n",
    "})\n",
    "\n",
    "census_demo_df.head(15)"
   ]
  },
  {
   "cell_type": "markdown",
   "metadata": {},
   "source": [
    "Consider day 9. The ALOS is 7 days. So, which admits contribute to census on day 9? Well it's the admits from day 3-9, inclusive (7 days worth). All that the code is doing is summing up all the admits from day 0-9, the `cumsum`, and then subtracting off those from 0-2, the shifted `cumsum`. Doing this prevents us from having to do \"index math\"."
   ]
  },
  {
   "cell_type": "code",
   "execution_count": 47,
   "metadata": {},
   "outputs": [
    {
     "data": {
      "image/png": "[encoded data removed]",
      "text/plain": [
       "<Figure size 432x288 with 1 Axes>"
      ]
     },
     "metadata": {
      "needs_background": "light"
     },
     "output_type": "display_data"
    }
   ],
   "source": [
    "census_df = results['census_df']\n",
    "census_long = pd.melt(census_df, \n",
    "  id_vars=['day', 'date'],\n",
    "                       value_vars=['hospitalized', 'icu', 'ventilated'],\n",
    "                       var_name='disposition', value_name='census')\n",
    "\n",
    "\n",
    "sns.lineplot(x='day', y='census', hue='disposition', \n",
    "             data=census_long);"
   ]
  },
  {
   "cell_type": "code",
   "execution_count": null,
   "metadata": {},
   "outputs": [],
   "source": []
  },
  {
   "cell_type": "markdown",
   "metadata": {},
   "source": [
    "## Sinusoidal arrival rates (not a good fit)"
   ]
  },
  {
   "cell_type": "code",
   "execution_count": 60,
   "metadata": {},
   "outputs": [
    {
     "data": {
      "text/plain": [
       "239.3990216771688"
      ]
     },
     "execution_count": 60,
     "metadata": {},
     "output_type": "execute_result"
    }
   ],
   "source": [
    "# Compute average arrival rate\n",
    "lambda_bar = hosp_admits['hospitalized'].mean()\n",
    "lambda_bar"
   ]
  },
  {
   "cell_type": "code",
   "execution_count": 109,
   "metadata": {},
   "outputs": [
    {
     "data": {
      "text/plain": [
       "0.031415926535897934"
      ]
     },
     "execution_count": 109,
     "metadata": {},
     "output_type": "execute_result"
    }
   ],
   "source": [
    "psi_cycle_len_guess = 200\n",
    "gamma_freq_guess = 2 * math.pi / psi_cycle_len_guess\n",
    "gamma_freq_guess"
   ]
  },
  {
   "cell_type": "code",
   "execution_count": 110,
   "metadata": {},
   "outputs": [],
   "source": [
    "# Relative \n",
    "alpha_rel_amp_guess = 4"
   ]
  },
  {
   "cell_type": "code",
   "execution_count": 111,
   "metadata": {},
   "outputs": [
    {
     "data": {
      "text/plain": [
       "957.5960867086752"
      ]
     },
     "execution_count": 111,
     "metadata": {},
     "output_type": "execute_result"
    }
   ],
   "source": [
    "beta_guess = lambda_bar * alpha_rel_amp_guess\n",
    "beta_guess"
   ]
  },
  {
   "cell_type": "code",
   "execution_count": 112,
   "metadata": {},
   "outputs": [
    {
     "data": {
      "text/plain": [
       "0      239.399022\n",
       "1      269.477842\n",
       "2      299.526977\n",
       "3      329.516774\n",
       "4      359.417636\n",
       "          ...    \n",
       "150   -718.197065\n",
       "151   -717.724549\n",
       "152   -716.307468\n",
       "153   -713.947220\n",
       "154   -710.646134\n",
       "Name: rel_day, Length: 155, dtype: float64"
      ]
     },
     "execution_count": 112,
     "metadata": {},
     "output_type": "execute_result"
    }
   ],
   "source": [
    "sin_guess = lambda_bar + beta_guess * np.sin(gamma_freq_guess * hosp_admits.rel_day)\n",
    "sin_guess"
   ]
  },
  {
   "cell_type": "code",
   "execution_count": null,
   "metadata": {},
   "outputs": [],
   "source": []
  },
  {
   "cell_type": "code",
   "execution_count": 113,
   "metadata": {},
   "outputs": [],
   "source": [
    "x = np.array(hosp_admits.rel_day)\n",
    "y = np.array(sin_guess)\n",
    "y_act = hosp_admits['hospitalized']"
   ]
  },
  {
   "cell_type": "code",
   "execution_count": 114,
   "metadata": {},
   "outputs": [
    {
     "name": "stdout",
     "output_type": "stream",
     "text": [
      "2020-04-05 10:11:23,960 - matplotlib.legend - WARNING - No handles with labels found to put in legend.\n"
     ]
    },
    {
     "data": {
      "image/png": "[encoded data removed]",
      "text/plain": [
       "<Figure size 432x288 with 1 Axes>"
      ]
     },
     "metadata": {
      "needs_background": "light"
     },
     "output_type": "display_data"
    }
   ],
   "source": [
    "plt.plot(x, y, 'g--')\n",
    "plt.plot(x, y_act, 'b--')\n",
    "plt.xlabel('days since Feb 20')\n",
    "plt.ylabel('admits')\n",
    "plt.legend()\n",
    "plt.show()"
   ]
  },
  {
   "cell_type": "code",
   "execution_count": 115,
   "metadata": {},
   "outputs": [],
   "source": [
    "# Function to fit\n",
    "def sin_func(x, a, b, c):\n",
    "     return a + b * np.sin(c * x)"
   ]
  },
  {
   "cell_type": "code",
   "execution_count": 116,
   "metadata": {},
   "outputs": [
    {
     "name": "stdout",
     "output_type": "stream",
     "text": [
      "[-8.24497333e+01  5.91986511e+02  2.28486209e-02]\n"
     ]
    }
   ],
   "source": [
    "popt, pcov = curve_fit(sin_func, x, y_act,  p0=(240, 950, 0.03))\n",
    "print(popt)"
   ]
  },
  {
   "cell_type": "code",
   "execution_count": 117,
   "metadata": {},
   "outputs": [
    {
     "data": {
      "image/png": "[encoded data removed]",
      "text/plain": [
       "<Figure size 432x288 with 1 Axes>"
      ]
     },
     "metadata": {
      "needs_background": "light"
     },
     "output_type": "display_data"
    }
   ],
   "source": [
    "plt.plot(x, func(x, *popt), 'g--',\n",
    "         label='fit: a={:5.3f}, b={:5.3f}, c={:5.3f}'.format(*popt))\n",
    "plt.plot(x, y_act, 'b--')\n",
    "plt.xlabel('days since Feb 20')\n",
    "plt.ylabel('admits')\n",
    "plt.legend()\n",
    "plt.show()"
   ]
  },
  {
   "cell_type": "code",
   "execution_count": null,
   "metadata": {},
   "outputs": [],
   "source": []
  },
  {
   "cell_type": "code",
   "execution_count": null,
   "metadata": {},
   "outputs": [],
   "source": []
  },
  {
   "cell_type": "code",
   "execution_count": null,
   "metadata": {},
   "outputs": [],
   "source": []
  },
  {
   "cell_type": "code",
   "execution_count": null,
   "metadata": {},
   "outputs": [],
   "source": []
  },
  {
   "cell_type": "code",
   "execution_count": null,
   "metadata": {},
   "outputs": [],
   "source": []
  },
  {
   "cell_type": "code",
   "execution_count": null,
   "metadata": {},
   "outputs": [],
   "source": []
  },
  {
   "cell_type": "code",
   "execution_count": null,
   "metadata": {},
   "outputs": [],
   "source": []
  },
  {
   "cell_type": "code",
   "execution_count": null,
   "metadata": {},
   "outputs": [],
   "source": []
  },
  {
   "cell_type": "code",
   "execution_count": null,
   "metadata": {},
   "outputs": [],
   "source": []
  },
  {
   "cell_type": "code",
   "execution_count": null,
   "metadata": {},
   "outputs": [],
   "source": []
  },
  {
   "cell_type": "markdown",
   "metadata": {},
   "source": [
    "## Concluding remarks\n",
    "Hopefully this helps clarify how CHIME is currently computing resource use. In the next notebook, I'll build on this and explore the implied arrival rates and ALOS values for subpopulations of patients such as those covid-19 patients who do NOT use ICU and those ICU patients who do NOT use a vent. These are simple algebraic computations and by feeding them back to users, might help people calibrate their inputs better."
   ]
  },
  {
   "cell_type": "markdown",
   "metadata": {},
   "source": [
    "<font size=\"2\">This material is made available under the [MIT License](https://opensource.org/licenses/MIT).</font>"
   ]
  },
  {
   "cell_type": "code",
   "execution_count": null,
   "metadata": {},
   "outputs": [],
   "source": []
  }
 ],
 "metadata": {
  "kernelspec": {
   "display_name": "Python 3",
   "language": "python",
   "name": "python3"
  },
  "language_info": {
   "codemirror_mode": {
    "name": "ipython",
    "version": 3
   },
   "file_extension": ".py",
   "mimetype": "text/x-python",
   "name": "python",
   "nbconvert_exporter": "python",
   "pygments_lexer": "ipython3",
   "version": "3.8.1"
  }
 },
 "nbformat": 4,
 "nbformat_minor": 4
}
