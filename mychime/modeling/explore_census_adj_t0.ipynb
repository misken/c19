{
 "cells": [
  {
   "cell_type": "markdown",
   "metadata": {},
   "source": [
    "### Capacity driven census and admission adjustments to CHIME model\n",
    "\n",
    "Had idea for adjusting census and admission sduring **early stages** of virus spread to deal with census at time 0 problem. \n",
    "\n",
    "Basic idea is that underlying epidemic has its dynamics that will play out almost independent of resources. But for capacity constrained resources it seems like there are a few phases during the early growth stage and then later stages of the virus. Let's just use hospital beds as the example resource."
   ]
  },
  {
   "cell_type": "markdown",
   "metadata": {},
   "source": [
    "#### Growth phase - haven't hit capacity yet and epidemic in exponential growth phase\n",
    "\n",
    "In this phase, we have the \"zero census\" problem with the underlying model. But if we are in growth phase, should be easy to just solve for $t_{0}^{*} \\lt t_0$ in the basic exponential growth equation to \"reconstruct\" the admission history and use that along with LOS to compute census for the period $(t_{0}^{*}, t_0)$ and thus have a better estimate of starting census at $t_0$ as well as decent approximation of the mix of how far along those patients are in there stay to better model them leaving - as opposed to assuming all patients at $t_0$ just started there stay, which causes a weird census spike at start of model projections.\n",
    "\n",
    "A complication is that the virus grew at intrinsic growth rate for a while and then\n",
    "when social distancing started, grew at implied growth rate.\n",
    "\n",
    "Hacked around in Excel so I could see what I was doing and this appears to make some sense for this phase. Talking\n",
    "it through with a few colleagues and then Pythonizing it as a post-processing tool that can be used\n",
    "with standard CHIME output and as few as possible new user inputs.\n",
    "\n",
    "See 'model' sheet in [explore_census_adj.xlsx](https://github.com/misken/c19/blob/master/explore_census_adj.xlsx)."
   ]
  },
  {
   "cell_type": "markdown",
   "metadata": {},
   "source": [
    "#### Flat phase - at capacity\n",
    "\n",
    "I'm guessing we are going to hit capacity constraints well before epidemic passes inflection point\n",
    "in the standard logistic model of its exponential spread and then eventual slowing growth.\n",
    "\n",
    "At this stage, no matter how many admits predicting by underlying SIR model, we have our max admission rate, $A^{*}$ and max census $C^{*}$. We will stay in this state until the underlying SIR model has admission rate $A \\lt A^{*}$. So, resource use is flat, though there will be much adaptive behavior\n",
    "by hospitals as they cope with insufficient resources which will likely affect recovery rates,\n",
    "death rates, and resource use rates."
   ]
  },
  {
   "cell_type": "markdown",
   "metadata": {},
   "source": [
    "#### Decay phase\n",
    "\n",
    "When $A \\lt A^{*}$, the underlying growth rate in the epidemic must be slowing and now, we can use $A$ to compute census in normal way."
   ]
  },
  {
   "cell_type": "markdown",
   "metadata": {},
   "source": [
    "### Plan\n",
    "\n",
    "I'm going to try to put a procedure together that uses standard outputs from the current chime model to implement these ideas. It would likely require user to input capacity for each resource being modelled (will just start with beds)."
   ]
  },
  {
   "cell_type": "markdown",
   "metadata": {},
   "source": []
  }
 ],
 "metadata": {
  "kernelspec": {
   "display_name": "Python 3",
   "language": "python",
   "name": "python3"
  },
  "language_info": {
   "codemirror_mode": {
    "name": "ipython",
    "version": 3
   },
   "file_extension": ".py",
   "mimetype": "text/x-python",
   "name": "python",
   "nbconvert_exporter": "python",
   "pygments_lexer": "ipython3",
   "version": "3.8.1"
  }
 },
 "nbformat": 4,
 "nbformat_minor": 4
}
