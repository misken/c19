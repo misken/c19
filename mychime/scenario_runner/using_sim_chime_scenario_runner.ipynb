{
 "cells": [
  {
   "cell_type": "code",
   "execution_count": 1,
   "metadata": {
    "collapsed": true,
    "jupyter": {
     "outputs_hidden": true
    }
   },
   "outputs": [
    {
     "name": "stdout",
     "output_type": "stream",
     "text": [
      "2020-04-01 08:21:38,577 - penn_chime.models - INFO - Using doubling_time: 3.61\n",
      "2020-04-01 08:21:38,593 - penn_chime.models - INFO - Set i_day = 34\n",
      "2020-04-01 08:21:38,593 - penn_chime.models - INFO - Estimated date_first_hospitalized: 2020-02-27; current_date: 2020-04-01; i_day: 34\n",
      "2020-04-01 08:21:38,593 - penn_chime.models - INFO - len(np.arange(-i_day, n_days+1)): 155\n",
      "2020-04-01 08:21:38,593 - penn_chime.models - INFO - len(raw_df): 155\n",
      "Scenario: test_from_jmagic\n",
      "\n",
      "\n",
      "Input parameters\n",
      "--------------------------------------------------\n",
      "{\n",
      "    \"current_hospitalized\": 658,\n",
      "    \"relative_contact_rate\": 0.31,\n",
      "    \"hospitalized\": [\n",
      "        0.025,\n",
      "        7\n",
      "    ],\n",
      "    \"icu\": [\n",
      "        0.0075,\n",
      "        9\n",
      "    ],\n",
      "    \"ventilated\": [\n",
      "        0.005,\n",
      "        10\n",
      "    ],\n",
      "    \"region\": null,\n",
      "    \"population\": 5026226,\n",
      "    \"current_date\": \"2020-04-01\",\n",
      "    \"date_first_hospitalized\": \"2020-02-27\",\n",
      "    \"doubling_time\": 3.61,\n",
      "    \"infectious_days\": 14.0,\n",
      "    \"market_share\": 0.32,\n",
      "    \"max_y_axis\": null,\n",
      "    \"n_days\": 120,\n",
      "    \"recovered\": 0,\n",
      "    \"labels\": {\n",
      "        \"hospitalized\": \"Hospitalized\",\n",
      "        \"icu\": \"ICU\",\n",
      "        \"ventilated\": \"Ventilated\",\n",
      "        \"day\": \"Day\",\n",
      "        \"date\": \"Date\",\n",
      "        \"susceptible\": \"Susceptible\",\n",
      "        \"infected\": \"Infected\",\n",
      "        \"recovered\": \"Recovered\"\n",
      "    },\n",
      "    \"dispositions\": {\n",
      "        \"hospitalized\": [\n",
      "            0.025,\n",
      "            7\n",
      "        ],\n",
      "        \"icu\": [\n",
      "            0.0075,\n",
      "            9\n",
      "        ],\n",
      "        \"ventilated\": [\n",
      "            0.005,\n",
      "            10\n",
      "        ]\n",
      "    }\n",
      "}\n",
      "\n",
      "Intermediate variables\n",
      "--------------------------------------------------\n",
      "{\n",
      "    \"intrinsic_growth_rate\": 0.21167963995855832,\n",
      "    \"gamma\": 0.07142857142857142,\n",
      "    \"beta\": 5.6327600935024925e-08,\n",
      "    \"r_naught\": 3.963514959419816,\n",
      "    \"r_t\": 2.734825321999673,\n",
      "    \"doubling_time_t\": 5.933509014640464\n",
      "}\n",
      "\n",
      "\n"
     ]
    }
   ],
   "source": [
    "# scenario = 'test_from_jupyter_magic'\n",
    "!python sim_chime_scenario_runner.py cli_inputs_semi_dt3.61.cfg --scenario test_from_jupyter_magic --output-path ./output/"
   ]
  },
  {
   "cell_type": "code",
   "execution_count": 2,
   "metadata": {},
   "outputs": [],
   "source": [
    "import sim_chime_scenario_runner as runner"
   ]
  },
  {
   "cell_type": "code",
   "execution_count": 3,
   "metadata": {},
   "outputs": [],
   "source": [
    "scenario = 'test_from_jupyter_import'\n",
    "p = runner.create_params_from_file(\"cli_inputs_semi_dt3.61.cfg\")"
   ]
  },
  {
   "cell_type": "code",
   "execution_count": 6,
   "metadata": {},
   "outputs": [
    {
     "name": "stdout",
     "output_type": "stream",
     "text": [
      "{'current_hospitalized': 658, 'relative_contact_rate': 0.31, 'hospitalized': Disposition(rate=0.025, days=7), 'icu': Disposition(rate=0.0075, days=9), 'ventilated': Disposition(rate=0.005, days=10), 'region': None, 'population': 5026226, 'current_date': datetime.date(2020, 4, 1), 'date_first_hospitalized': None, 'doubling_time': 3.61, 'infectious_days': 14.0, 'market_share': 0.32, 'max_y_axis': None, 'n_days': 120, 'recovered': 0, 'labels': {'hospitalized': 'Hospitalized', 'icu': 'ICU', 'ventilated': 'Ventilated', 'day': 'Day', 'date': 'Date', 'susceptible': 'Susceptible', 'infected': 'Infected', 'recovered': 'Recovered'}, 'dispositions': {'hospitalized': Disposition(rate=0.025, days=7), 'icu': Disposition(rate=0.0075, days=9), 'ventilated': Disposition(rate=0.005, days=10)}}\n"
     ]
    }
   ],
   "source": [
    "print(vars(p))"
   ]
  },
  {
   "cell_type": "code",
   "execution_count": 7,
   "metadata": {},
   "outputs": [
    {
     "name": "stdout",
     "output_type": "stream",
     "text": [
      "2020-04-01 08:27:51,745 - penn_chime.models - INFO - Using doubling_time: 3.61\n",
      "2020-04-01 08:27:51,772 - penn_chime.models - INFO - Set i_day = 34\n",
      "2020-04-01 08:27:51,772 - penn_chime.models - INFO - Estimated date_first_hospitalized: 2020-02-27; current_date: 2020-04-01; i_day: 34\n",
      "2020-04-01 08:27:51,772 - penn_chime.models - INFO - len(np.arange(-i_day, n_days+1)): 155\n",
      "2020-04-01 08:27:51,773 - penn_chime.models - INFO - len(raw_df): 155\n"
     ]
    }
   ],
   "source": [
    "results = runner.sim_chime(scenario, p)"
   ]
  },
  {
   "cell_type": "code",
   "execution_count": 9,
   "metadata": {},
   "outputs": [
    {
     "data": {
      "text/plain": [
       "dict_keys(['scenario', 'input_params_dict', 'intermediate_variables_dict', 'raw_sir_df', 'dispositions_df', 'admits_df', 'census_df'])"
      ]
     },
     "execution_count": 9,
     "metadata": {},
     "output_type": "execute_result"
    }
   ],
   "source": [
    "results.keys()"
   ]
  },
  {
   "cell_type": "code",
   "execution_count": null,
   "metadata": {},
   "outputs": [],
   "source": []
  }
 ],
 "metadata": {
  "kernelspec": {
   "display_name": "Python 3",
   "language": "python",
   "name": "python3"
  },
  "language_info": {
   "codemirror_mode": {
    "name": "ipython",
    "version": 3
   },
   "file_extension": ".py",
   "mimetype": "text/x-python",
   "name": "python",
   "nbconvert_exporter": "python",
   "pygments_lexer": "ipython3",
   "version": "3.8.1"
  }
 },
 "nbformat": 4,
 "nbformat_minor": 4
}
