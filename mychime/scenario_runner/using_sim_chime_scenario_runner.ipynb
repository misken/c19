{
 "cells": [
  {
   "cell_type": "markdown",
   "metadata": {},
   "source": [
    "## Quick demo of sim_chime_scenario_runner.py\n",
    "\n",
    "Location: https://github.com/misken/c19/tree/master/mychime/scenario_runner\n",
    "\n",
    "**sim_chime_scenario_runner.py** is a simple Python module for working with the penn_chime model\n",
    "that: \n",
    "\n",
    "* allows running simulations from command line (like **cli.py** in penn_chime)\n",
    "* is importable so can also run simulations via function call\n",
    "* includes a few additional command line (or passable) arguments, including:\n",
    "  - standard CHIME input config filename is a required input\n",
    "  - a scenario name (prepended to output filenames)\n",
    "  - output path\n",
    "* after a simulation scenario is run, a results dictionary is created that contains:\n",
    "  - the scenario name\n",
    "  - the standard admits, census, and sim_sir_w_date dataframes\n",
    "  - the dispositions dataframe\n",
    "  - a dictionary containing the input parameters\n",
    "  - a dictionary containing important intermediate variable values such as beta, doubling_time, ...\n",
    "* writes out the results \n",
    "  - dataframes to csv\n",
    "  - dictionaries to json\n",
    "* (WIP) runs multiple scenarios corresponding to user specified ranges for one or more input variables."
   ]
  },
  {
   "cell_type": "markdown",
   "metadata": {},
   "source": [
    "## Example 1 - run from command line\n",
    "Note that the config filename is a required argument. Here's what that file looks like for this scenario:\n",
    "\n",
    "    --current-hospitalized 658\n",
    "    --doubling-time 3.61\n",
    "    --hospitalized-day 7\n",
    "    --hospitalized-rate 0.025\n",
    "    --icu-days 9\n",
    "    --icu-rate 0.0075\n",
    "    --market_share 0.32\n",
    "    --infectious-days 14\n",
    "    --n-days 120\n",
    "    --relative-contact-rate 0.31\n",
    "    --population 5026226\n",
    "    --ventilated-day 10\n",
    "    --ventilated-rate 0.005"
   ]
  },
  {
   "cell_type": "code",
   "execution_count": 14,
   "metadata": {},
   "outputs": [
    {
     "name": "stdout",
     "output_type": "stream",
     "text": [
      "2020-04-01 10:34:54,972 - penn_chime.models - INFO - Using doubling_time: 3.61\n",
      "2020-04-01 10:34:54,988 - penn_chime.models - INFO - Set i_day = 34\n",
      "2020-04-01 10:34:54,988 - penn_chime.models - INFO - Estimated date_first_hospitalized: 2020-02-27; current_date: 2020-04-01; i_day: 34\n",
      "2020-04-01 10:34:54,988 - penn_chime.models - INFO - len(np.arange(-i_day, n_days+1)): 155\n",
      "2020-04-01 10:34:54,988 - penn_chime.models - INFO - len(raw_df): 155\n",
      "Scenario: test_from_command_line\n",
      "\n",
      "\n",
      "Input parameters\n",
      "--------------------------------------------------\n",
      "{\n",
      "    \"current_hospitalized\": 658,\n",
      "    \"relative_contact_rate\": 0.31,\n",
      "    \"hospitalized\": [\n",
      "        0.025,\n",
      "        7\n",
      "    ],\n",
      "    \"icu\": [\n",
      "        0.0075,\n",
      "        9\n",
      "    ],\n",
      "    \"ventilated\": [\n",
      "        0.005,\n",
      "        10\n",
      "    ],\n",
      "    \"region\": null,\n",
      "    \"population\": 5026226,\n",
      "    \"current_date\": \"2020-04-01\",\n",
      "    \"date_first_hospitalized\": \"2020-02-27\",\n",
      "    \"doubling_time\": 3.61,\n",
      "    \"infectious_days\": 14.0,\n",
      "    \"market_share\": 0.32,\n",
      "    \"max_y_axis\": null,\n",
      "    \"n_days\": 120,\n",
      "    \"recovered\": 0,\n",
      "    \"labels\": {\n",
      "        \"hospitalized\": \"Hospitalized\",\n",
      "        \"icu\": \"ICU\",\n",
      "        \"ventilated\": \"Ventilated\",\n",
      "        \"day\": \"Day\",\n",
      "        \"date\": \"Date\",\n",
      "        \"susceptible\": \"Susceptible\",\n",
      "        \"infected\": \"Infected\",\n",
      "        \"recovered\": \"Recovered\"\n",
      "    },\n",
      "    \"dispositions\": {\n",
      "        \"hospitalized\": [\n",
      "            0.025,\n",
      "            7\n",
      "        ],\n",
      "        \"icu\": [\n",
      "            0.0075,\n",
      "            9\n",
      "        ],\n",
      "        \"ventilated\": [\n",
      "            0.005,\n",
      "            10\n",
      "        ]\n",
      "    }\n",
      "}\n",
      "\n",
      "Intermediate variables\n",
      "--------------------------------------------------\n",
      "{\n",
      "    \"intrinsic_growth_rate\": 0.21167963995855832,\n",
      "    \"gamma\": 0.07142857142857142,\n",
      "    \"beta\": 5.6327600935024925e-08,\n",
      "    \"r_naught\": 3.963514959419816,\n",
      "    \"r_t\": 2.734825321999673,\n",
      "    \"doubling_time_t\": 5.933509014640464\n",
      "}\n",
      "\n",
      "\n"
     ]
    }
   ],
   "source": [
    "# scenario = 'test_from_command_line'\n",
    "!python sim_chime_scenario_runner.py cli_inputs_semi_dt3.61.cfg --scenario test_from_command_line --output-path ./output/"
   ]
  },
  {
   "cell_type": "markdown",
   "metadata": {},
   "source": [
    "## Example 2 - run from function call\n",
    "The basic steps are:\n",
    "\n",
    "* import the `sim_chime_scenario_runner` module\n",
    "* specify scenario name (if you don't, default is current datetime)\n",
    "* create a `penn_chime.Parameters` object from the input config file using `create_params_from_file`\n",
    "* call `sim_chime` to run the simulation and return results dictionary\n",
    "* do whatever you want with the results\n",
    "  - csv and json outputs just happen for command line use as in penn_chime cli.py\n",
    "  - `write_results` function will write out all dataframes (to csv) and dicts (to json)\n",
    "  - or selectively do whatever you want with components of the results dictionary"
   ]
  },
  {
   "cell_type": "code",
   "execution_count": 15,
   "metadata": {},
   "outputs": [],
   "source": [
    "import sim_chime_scenario_runner as runner"
   ]
  },
  {
   "cell_type": "code",
   "execution_count": 16,
   "metadata": {},
   "outputs": [],
   "source": [
    "scenario = 'test_from_jupyter_import'\n",
    "p = runner.create_params_from_file(\"cli_inputs_semi_dt3.61.cfg\")"
   ]
  },
  {
   "cell_type": "markdown",
   "metadata": {},
   "source": [
    "Let's look at the parameter values."
   ]
  },
  {
   "cell_type": "code",
   "execution_count": 17,
   "metadata": {},
   "outputs": [
    {
     "data": {
      "text/plain": [
       "{'current_hospitalized': 658,\n",
       " 'relative_contact_rate': 0.31,\n",
       " 'hospitalized': Disposition(rate=0.025, days=7),\n",
       " 'icu': Disposition(rate=0.0075, days=9),\n",
       " 'ventilated': Disposition(rate=0.005, days=10),\n",
       " 'region': None,\n",
       " 'population': 5026226,\n",
       " 'current_date': datetime.date(2020, 4, 1),\n",
       " 'date_first_hospitalized': None,\n",
       " 'doubling_time': 3.61,\n",
       " 'infectious_days': 14.0,\n",
       " 'market_share': 0.32,\n",
       " 'max_y_axis': None,\n",
       " 'n_days': 120,\n",
       " 'recovered': 0,\n",
       " 'labels': {'hospitalized': 'Hospitalized',\n",
       "  'icu': 'ICU',\n",
       "  'ventilated': 'Ventilated',\n",
       "  'day': 'Day',\n",
       "  'date': 'Date',\n",
       "  'susceptible': 'Susceptible',\n",
       "  'infected': 'Infected',\n",
       "  'recovered': 'Recovered'},\n",
       " 'dispositions': {'hospitalized': Disposition(rate=0.025, days=7),\n",
       "  'icu': Disposition(rate=0.0075, days=9),\n",
       "  'ventilated': Disposition(rate=0.005, days=10)}}"
      ]
     },
     "execution_count": 17,
     "metadata": {},
     "output_type": "execute_result"
    }
   ],
   "source": [
    "vars(p)"
   ]
  },
  {
   "cell_type": "markdown",
   "metadata": {},
   "source": [
    "Run the simulation and capture the results."
   ]
  },
  {
   "cell_type": "code",
   "execution_count": 18,
   "metadata": {},
   "outputs": [
    {
     "name": "stdout",
     "output_type": "stream",
     "text": [
      "2020-04-01 10:34:55,201 - penn_chime.models - INFO - Using doubling_time: 3.61\n",
      "2020-04-01 10:34:55,228 - penn_chime.models - INFO - Set i_day = 34\n",
      "2020-04-01 10:34:55,229 - penn_chime.models - INFO - Estimated date_first_hospitalized: 2020-02-27; current_date: 2020-04-01; i_day: 34\n",
      "2020-04-01 10:34:55,230 - penn_chime.models - INFO - len(np.arange(-i_day, n_days+1)): 155\n",
      "2020-04-01 10:34:55,230 - penn_chime.models - INFO - len(raw_df): 155\n"
     ]
    }
   ],
   "source": [
    "model, results = runner.sim_chime(scenario, p)"
   ]
  },
  {
   "cell_type": "markdown",
   "metadata": {},
   "source": [
    "Here are the keys in the `results` dictionary."
   ]
  },
  {
   "cell_type": "code",
   "execution_count": 19,
   "metadata": {},
   "outputs": [
    {
     "data": {
      "text/plain": [
       "dict_keys(['scenario', 'input_params_dict', 'intermediate_variables_dict', 'sim_sir_w_date_df', 'dispositions_df', 'admits_df', 'census_df'])"
      ]
     },
     "execution_count": 19,
     "metadata": {},
     "output_type": "execute_result"
    }
   ],
   "source": [
    "results.keys()"
   ]
  },
  {
   "cell_type": "markdown",
   "metadata": {},
   "source": [
    "Let's check out a few of the dataframes to make sure they contain what we think they contain."
   ]
  },
  {
   "cell_type": "code",
   "execution_count": 20,
   "metadata": {},
   "outputs": [
    {
     "data": {
      "text/html": [
       "<div>\n",
       "<style scoped>\n",
       "    .dataframe tbody tr th:only-of-type {\n",
       "        vertical-align: middle;\n",
       "    }\n",
       "\n",
       "    .dataframe tbody tr th {\n",
       "        vertical-align: top;\n",
       "    }\n",
       "\n",
       "    .dataframe thead th {\n",
       "        text-align: right;\n",
       "    }\n",
       "</style>\n",
       "<table border=\"1\" class=\"dataframe\">\n",
       "  <thead>\n",
       "    <tr style=\"text-align: right;\">\n",
       "      <th></th>\n",
       "      <th>day</th>\n",
       "      <th>date</th>\n",
       "      <th>hospitalized</th>\n",
       "      <th>icu</th>\n",
       "      <th>ventilated</th>\n",
       "    </tr>\n",
       "  </thead>\n",
       "  <tbody>\n",
       "    <tr>\n",
       "      <th>0</th>\n",
       "      <td>-34</td>\n",
       "      <td>2020-02-27</td>\n",
       "      <td>NaN</td>\n",
       "      <td>NaN</td>\n",
       "      <td>NaN</td>\n",
       "    </tr>\n",
       "    <tr>\n",
       "      <th>1</th>\n",
       "      <td>-33</td>\n",
       "      <td>2020-02-28</td>\n",
       "      <td>0.283108</td>\n",
       "      <td>0.084932</td>\n",
       "      <td>0.056622</td>\n",
       "    </tr>\n",
       "    <tr>\n",
       "      <th>2</th>\n",
       "      <td>-32</td>\n",
       "      <td>2020-02-29</td>\n",
       "      <td>0.343034</td>\n",
       "      <td>0.102910</td>\n",
       "      <td>0.068607</td>\n",
       "    </tr>\n",
       "    <tr>\n",
       "      <th>3</th>\n",
       "      <td>-31</td>\n",
       "      <td>2020-03-01</td>\n",
       "      <td>0.415643</td>\n",
       "      <td>0.124693</td>\n",
       "      <td>0.083129</td>\n",
       "    </tr>\n",
       "    <tr>\n",
       "      <th>4</th>\n",
       "      <td>-30</td>\n",
       "      <td>2020-03-02</td>\n",
       "      <td>0.503619</td>\n",
       "      <td>0.151086</td>\n",
       "      <td>0.100724</td>\n",
       "    </tr>\n",
       "  </tbody>\n",
       "</table>\n",
       "</div>"
      ],
      "text/plain": [
       "   day       date  hospitalized       icu  ventilated\n",
       "0  -34 2020-02-27           NaN       NaN         NaN\n",
       "1  -33 2020-02-28      0.283108  0.084932    0.056622\n",
       "2  -32 2020-02-29      0.343034  0.102910    0.068607\n",
       "3  -31 2020-03-01      0.415643  0.124693    0.083129\n",
       "4  -30 2020-03-02      0.503619  0.151086    0.100724"
      ]
     },
     "execution_count": 20,
     "metadata": {},
     "output_type": "execute_result"
    }
   ],
   "source": [
    "results['admits_df'].head()"
   ]
  },
  {
   "cell_type": "code",
   "execution_count": 21,
   "metadata": {},
   "outputs": [
    {
     "data": {
      "text/html": [
       "<div>\n",
       "<style scoped>\n",
       "    .dataframe tbody tr th:only-of-type {\n",
       "        vertical-align: middle;\n",
       "    }\n",
       "\n",
       "    .dataframe tbody tr th {\n",
       "        vertical-align: top;\n",
       "    }\n",
       "\n",
       "    .dataframe thead th {\n",
       "        text-align: right;\n",
       "    }\n",
       "</style>\n",
       "<table border=\"1\" class=\"dataframe\">\n",
       "  <thead>\n",
       "    <tr style=\"text-align: right;\">\n",
       "      <th></th>\n",
       "      <th>day</th>\n",
       "      <th>date</th>\n",
       "      <th>hospitalized</th>\n",
       "      <th>icu</th>\n",
       "      <th>ventilated</th>\n",
       "    </tr>\n",
       "  </thead>\n",
       "  <tbody>\n",
       "    <tr>\n",
       "      <th>0</th>\n",
       "      <td>-34</td>\n",
       "      <td>2020-02-27</td>\n",
       "      <td>NaN</td>\n",
       "      <td>NaN</td>\n",
       "      <td>NaN</td>\n",
       "    </tr>\n",
       "    <tr>\n",
       "      <th>1</th>\n",
       "      <td>-33</td>\n",
       "      <td>2020-02-28</td>\n",
       "      <td>1.0</td>\n",
       "      <td>1.0</td>\n",
       "      <td>1.0</td>\n",
       "    </tr>\n",
       "    <tr>\n",
       "      <th>2</th>\n",
       "      <td>-32</td>\n",
       "      <td>2020-02-29</td>\n",
       "      <td>1.0</td>\n",
       "      <td>1.0</td>\n",
       "      <td>1.0</td>\n",
       "    </tr>\n",
       "    <tr>\n",
       "      <th>3</th>\n",
       "      <td>-31</td>\n",
       "      <td>2020-03-01</td>\n",
       "      <td>2.0</td>\n",
       "      <td>1.0</td>\n",
       "      <td>1.0</td>\n",
       "    </tr>\n",
       "    <tr>\n",
       "      <th>4</th>\n",
       "      <td>-30</td>\n",
       "      <td>2020-03-02</td>\n",
       "      <td>2.0</td>\n",
       "      <td>1.0</td>\n",
       "      <td>1.0</td>\n",
       "    </tr>\n",
       "  </tbody>\n",
       "</table>\n",
       "</div>"
      ],
      "text/plain": [
       "   day       date  hospitalized  icu  ventilated\n",
       "0  -34 2020-02-27           NaN  NaN         NaN\n",
       "1  -33 2020-02-28           1.0  1.0         1.0\n",
       "2  -32 2020-02-29           1.0  1.0         1.0\n",
       "3  -31 2020-03-01           2.0  1.0         1.0\n",
       "4  -30 2020-03-02           2.0  1.0         1.0"
      ]
     },
     "execution_count": 21,
     "metadata": {},
     "output_type": "execute_result"
    }
   ],
   "source": [
    "results['census_df'].head()"
   ]
  },
  {
   "cell_type": "code",
   "execution_count": 22,
   "metadata": {},
   "outputs": [
    {
     "data": {
      "text/html": [
       "<div>\n",
       "<style scoped>\n",
       "    .dataframe tbody tr th:only-of-type {\n",
       "        vertical-align: middle;\n",
       "    }\n",
       "\n",
       "    .dataframe tbody tr th {\n",
       "        vertical-align: top;\n",
       "    }\n",
       "\n",
       "    .dataframe thead th {\n",
       "        text-align: right;\n",
       "    }\n",
       "</style>\n",
       "<table border=\"1\" class=\"dataframe\">\n",
       "  <thead>\n",
       "    <tr style=\"text-align: right;\">\n",
       "      <th></th>\n",
       "      <th>day</th>\n",
       "      <th>date</th>\n",
       "      <th>susceptible</th>\n",
       "      <th>infected</th>\n",
       "      <th>recovered</th>\n",
       "    </tr>\n",
       "  </thead>\n",
       "  <tbody>\n",
       "    <tr>\n",
       "      <th>0</th>\n",
       "      <td>-34</td>\n",
       "      <td>2020-02-27</td>\n",
       "      <td>5.026101e+06</td>\n",
       "      <td>125.000000</td>\n",
       "      <td>0.000000</td>\n",
       "    </tr>\n",
       "    <tr>\n",
       "      <th>1</th>\n",
       "      <td>-33</td>\n",
       "      <td>2020-02-28</td>\n",
       "      <td>5.026066e+06</td>\n",
       "      <td>151.459955</td>\n",
       "      <td>8.928571</td>\n",
       "    </tr>\n",
       "    <tr>\n",
       "      <th>2</th>\n",
       "      <td>-32</td>\n",
       "      <td>2020-02-29</td>\n",
       "      <td>5.026023e+06</td>\n",
       "      <td>183.520642</td>\n",
       "      <td>19.747140</td>\n",
       "    </tr>\n",
       "    <tr>\n",
       "      <th>3</th>\n",
       "      <td>-31</td>\n",
       "      <td>2020-03-01</td>\n",
       "      <td>5.025971e+06</td>\n",
       "      <td>222.367416</td>\n",
       "      <td>32.855757</td>\n",
       "    </tr>\n",
       "    <tr>\n",
       "      <th>4</th>\n",
       "      <td>-30</td>\n",
       "      <td>2020-03-02</td>\n",
       "      <td>5.025908e+06</td>\n",
       "      <td>269.436440</td>\n",
       "      <td>48.739144</td>\n",
       "    </tr>\n",
       "  </tbody>\n",
       "</table>\n",
       "</div>"
      ],
      "text/plain": [
       "   day       date   susceptible    infected  recovered\n",
       "0  -34 2020-02-27  5.026101e+06  125.000000   0.000000\n",
       "1  -33 2020-02-28  5.026066e+06  151.459955   8.928571\n",
       "2  -32 2020-02-29  5.026023e+06  183.520642  19.747140\n",
       "3  -31 2020-03-01  5.025971e+06  222.367416  32.855757\n",
       "4  -30 2020-03-02  5.025908e+06  269.436440  48.739144"
      ]
     },
     "execution_count": 22,
     "metadata": {},
     "output_type": "execute_result"
    }
   ],
   "source": [
    "results['sim_sir_w_date_df'].head()"
   ]
  },
  {
   "cell_type": "code",
   "execution_count": 23,
   "metadata": {},
   "outputs": [
    {
     "data": {
      "text/html": [
       "<div>\n",
       "<style scoped>\n",
       "    .dataframe tbody tr th:only-of-type {\n",
       "        vertical-align: middle;\n",
       "    }\n",
       "\n",
       "    .dataframe tbody tr th {\n",
       "        vertical-align: top;\n",
       "    }\n",
       "\n",
       "    .dataframe thead th {\n",
       "        text-align: right;\n",
       "    }\n",
       "</style>\n",
       "<table border=\"1\" class=\"dataframe\">\n",
       "  <thead>\n",
       "    <tr style=\"text-align: right;\">\n",
       "      <th></th>\n",
       "      <th>day</th>\n",
       "      <th>date</th>\n",
       "      <th>hospitalized</th>\n",
       "      <th>icu</th>\n",
       "      <th>ventilated</th>\n",
       "    </tr>\n",
       "  </thead>\n",
       "  <tbody>\n",
       "    <tr>\n",
       "      <th>0</th>\n",
       "      <td>-34</td>\n",
       "      <td>2020-02-27</td>\n",
       "      <td>1.000000</td>\n",
       "      <td>0.300000</td>\n",
       "      <td>0.200000</td>\n",
       "    </tr>\n",
       "    <tr>\n",
       "      <th>1</th>\n",
       "      <td>-33</td>\n",
       "      <td>2020-02-28</td>\n",
       "      <td>1.283108</td>\n",
       "      <td>0.384932</td>\n",
       "      <td>0.256622</td>\n",
       "    </tr>\n",
       "    <tr>\n",
       "      <th>2</th>\n",
       "      <td>-32</td>\n",
       "      <td>2020-02-29</td>\n",
       "      <td>1.626142</td>\n",
       "      <td>0.487843</td>\n",
       "      <td>0.325228</td>\n",
       "    </tr>\n",
       "    <tr>\n",
       "      <th>3</th>\n",
       "      <td>-31</td>\n",
       "      <td>2020-03-01</td>\n",
       "      <td>2.041785</td>\n",
       "      <td>0.612536</td>\n",
       "      <td>0.408357</td>\n",
       "    </tr>\n",
       "    <tr>\n",
       "      <th>4</th>\n",
       "      <td>-30</td>\n",
       "      <td>2020-03-02</td>\n",
       "      <td>2.545405</td>\n",
       "      <td>0.763621</td>\n",
       "      <td>0.509081</td>\n",
       "    </tr>\n",
       "  </tbody>\n",
       "</table>\n",
       "</div>"
      ],
      "text/plain": [
       "   day       date  hospitalized       icu  ventilated\n",
       "0  -34 2020-02-27      1.000000  0.300000    0.200000\n",
       "1  -33 2020-02-28      1.283108  0.384932    0.256622\n",
       "2  -32 2020-02-29      1.626142  0.487843    0.325228\n",
       "3  -31 2020-03-01      2.041785  0.612536    0.408357\n",
       "4  -30 2020-03-02      2.545405  0.763621    0.509081"
      ]
     },
     "execution_count": 23,
     "metadata": {},
     "output_type": "execute_result"
    }
   ],
   "source": [
    "results['dispositions_df'].head()"
   ]
  },
  {
   "cell_type": "markdown",
   "metadata": {},
   "source": [
    "Here's the intermediate variables dictionary."
   ]
  },
  {
   "cell_type": "code",
   "execution_count": 24,
   "metadata": {},
   "outputs": [
    {
     "data": {
      "text/plain": [
       "{'intrinsic_growth_rate': 0.21167963995855832,\n",
       " 'gamma': 0.07142857142857142,\n",
       " 'beta': 5.6327600935024925e-08,\n",
       " 'r_naught': 3.963514959419816,\n",
       " 'r_t': 2.734825321999673,\n",
       " 'doubling_time_t': 5.933509014640464}"
      ]
     },
     "execution_count": 24,
     "metadata": {},
     "output_type": "execute_result"
    }
   ],
   "source": [
    "results['intermediate_variables_dict']"
   ]
  },
  {
   "cell_type": "markdown",
   "metadata": {},
   "source": [
    "Finally, hear are the inputs we used. Note that, since we input the doubling time, the first hospitalized date is estimated by `penn_chime.SimSirModel`. You'll also see that it's a datetime and json hates that. So, when the dictionary gets written to a json file, the date is stringified."
   ]
  },
  {
   "cell_type": "code",
   "execution_count": 25,
   "metadata": {},
   "outputs": [
    {
     "data": {
      "text/plain": [
       "{'current_hospitalized': 658,\n",
       " 'relative_contact_rate': 0.31,\n",
       " 'hospitalized': Disposition(rate=0.025, days=7),\n",
       " 'icu': Disposition(rate=0.0075, days=9),\n",
       " 'ventilated': Disposition(rate=0.005, days=10),\n",
       " 'region': None,\n",
       " 'population': 5026226,\n",
       " 'current_date': datetime.date(2020, 4, 1),\n",
       " 'date_first_hospitalized': datetime.date(2020, 2, 27),\n",
       " 'doubling_time': 3.61,\n",
       " 'infectious_days': 14.0,\n",
       " 'market_share': 0.32,\n",
       " 'max_y_axis': None,\n",
       " 'n_days': 120,\n",
       " 'recovered': 0,\n",
       " 'labels': {'hospitalized': 'Hospitalized',\n",
       "  'icu': 'ICU',\n",
       "  'ventilated': 'Ventilated',\n",
       "  'day': 'Day',\n",
       "  'date': 'Date',\n",
       "  'susceptible': 'Susceptible',\n",
       "  'infected': 'Infected',\n",
       "  'recovered': 'Recovered'},\n",
       " 'dispositions': {'hospitalized': Disposition(rate=0.025, days=7),\n",
       "  'icu': Disposition(rate=0.0075, days=9),\n",
       "  'ventilated': Disposition(rate=0.005, days=10)}}"
      ]
     },
     "execution_count": 25,
     "metadata": {},
     "output_type": "execute_result"
    }
   ],
   "source": [
    "results['input_params_dict']"
   ]
  },
  {
   "cell_type": "markdown",
   "metadata": {},
   "source": [
    "Write out all the results. Dataframes go to csv and dictionaries to json."
   ]
  },
  {
   "cell_type": "code",
   "execution_count": 26,
   "metadata": {},
   "outputs": [
    {
     "name": "stdout",
     "output_type": "stream",
     "text": [
      "Writing out all results to ./output/ for scenario --> test_from_jupyter_import\n"
     ]
    }
   ],
   "source": [
    "output_path = './output/' # default is current working directory\n",
    "print(\"Writing out all results to {} for scenario --> {}\".format(output_path, scenario))\n",
    "runner.write_results(results, scenario, output_path)"
   ]
  },
  {
   "cell_type": "markdown",
   "metadata": {},
   "source": [
    "## Example 3 - run several scenarios for range of input values\n",
    "I'm still working on this, but see the function `sim_chimes()` (plural) for the basic idea. I loop over an array of values for the social distancing parameter, run `sim_chime()` (singular) for each, and gather outputs in a big list of results dictionaries."
   ]
  },
  {
   "cell_type": "code",
   "execution_count": null,
   "metadata": {},
   "outputs": [],
   "source": []
  }
 ],
 "metadata": {
  "kernelspec": {
   "display_name": "Python 3",
   "language": "python",
   "name": "python3"
  },
  "language_info": {
   "codemirror_mode": {
    "name": "ipython",
    "version": 3
   },
   "file_extension": ".py",
   "mimetype": "text/x-python",
   "name": "python",
   "nbconvert_exporter": "python",
   "pygments_lexer": "ipython3",
   "version": "3.8.1"
  }
 },
 "nbformat": 4,
 "nbformat_minor": 4
}
