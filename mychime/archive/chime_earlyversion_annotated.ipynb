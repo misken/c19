{
 "cells": [
  {
   "cell_type": "markdown",
   "metadata": {},
   "source": [
    "## Port of CHIME model to simple Jupyter notebook\n",
    "\n",
    "**IMPORTANT NOTE: This was based on a very EARLY VERSION of the CHIME model. Nevertheless,\n",
    "the comments might still be useful to someone trying to understand the basic\n",
    "logic of the model.**\n",
    "\n",
    "**DO NOT USE ME FOR ACTUAL WORK**\n",
    "\n",
    "Just pulling out the code bits from the CHIME streamlit app for trying to build and test new resource logic. I'm keeping in some of the streamlit app code in but just commenting it out.\n",
    "\n",
    "https://github.com/pennsignals/chime\n",
    "\n",
    "I've added tons of code comments and other descriptive text throughout the notebook to help others understand exactly how this works and how we might adapt it for our use.\n",
    "\n",
    "The work below is based on the terrific work of the UPenn team and the CodeForPhilly project. Their project is under an MIT License. This notebook, which is derived from the CHIME project, is also licensed with an MIT License. The license and copyright info can be found at the bottom of the notebook."
   ]
  },
  {
   "cell_type": "code",
   "execution_count": 1,
   "metadata": {},
   "outputs": [],
   "source": [
    "from functools import reduce\n",
    "from typing import Tuple, Dict, Any\n",
    "import pandas as pd\n",
    "#import streamlit as st\n",
    "import numpy as np\n",
    "#import altair as alt\n",
    "\n",
    "from IPython.display import display, Markdown, Latex\n"
   ]
  },
  {
   "cell_type": "code",
   "execution_count": 2,
   "metadata": {},
   "outputs": [],
   "source": [
    "import seaborn as sns; sns.set()\n",
    "\n",
    "import matplotlib.pyplot as plt"
   ]
  },
  {
   "cell_type": "code",
   "execution_count": 3,
   "metadata": {},
   "outputs": [],
   "source": [
    "%matplotlib inline"
   ]
  },
  {
   "cell_type": "markdown",
   "metadata": {},
   "source": [
    "## Input parameters"
   ]
  },
  {
   "cell_type": "markdown",
   "metadata": {},
   "source": [
    "### Define region to model\n",
    "The following input parameters define the region we are modeling in any given scenario."
   ]
  },
  {
   "cell_type": "code",
   "execution_count": 4,
   "metadata": {},
   "outputs": [],
   "source": [
    "# TODO: Just made these up. Need real counties and pops.\n",
    "oakland = 1248141\n",
    "macomb = 867502\n",
    "wayne = 1778396\n",
    "washtenaw = 326058\n",
    "stclair = 158313\n",
    "S_default = oakland + macomb + wayne + washtenaw + stclair"
   ]
  },
  {
   "cell_type": "code",
   "execution_count": 5,
   "metadata": {},
   "outputs": [],
   "source": [
    "# TODO: Just left these in from Penn app - they are numbers for the entire *region* being\n",
    "# modeled, where region is defined by whatever counties and populations we put in\n",
    "# previous cell.\n",
    "known_infections = 91 # update daily\n",
    "known_cases = 4 # update daily"
   ]
  },
  {
   "cell_type": "markdown",
   "metadata": {},
   "source": [
    "## SIR and resource model input parameters"
   ]
  },
  {
   "cell_type": "code",
   "execution_count": 7,
   "metadata": {},
   "outputs": [],
   "source": [
    "\n",
    "# Currently Hospitalized COVID-19 Patients\n",
    "current_hosp = known_cases\n",
    "\n",
    "# Doubling time before social distancing (days)\n",
    "doubling_time = 6\n",
    "\n",
    "# Social distancing (% reduction in social contact)\n",
    "relative_contact_rate = 0.0\n",
    "\n",
    "# Hospitalization %(total infections)\n",
    "hosp_rate = 0.05\n",
    "\n",
    "# ICU %(total infections)\n",
    "icu_rate = 0.02\n",
    "\n",
    "# Ventilated %(total infections)\n",
    "vent_rate = 0.01\n",
    "# Hospital average Length of Stay (days)\n",
    "hosp_los = 7\n",
    "# ICU average Length of Stay (days)\n",
    "icu_los = 9\n",
    "# Vent average Length of Stay (days)\n",
    "vent_los = 10\n",
    "\n",
    "# Hospital Market Share (%)\n",
    "BH_market_share = 0.15\n",
    "\n",
    "# Regional Population\n",
    "S = S_default\n",
    "\n",
    "# Currently Known Regional Infections (only used to compute detection rate - does not change projections\n",
    "initial_infections = known_infections"
   ]
  },
  {
   "cell_type": "markdown",
   "metadata": {},
   "source": [
    "## Compute values needed for modeling\n",
    "Based on input parameter values, we can compute a bunch of key intermediate values that are used to drive the simulation and the resource computations. This is where we do stuff that needs to be computed before main simulation can run.\n",
    "\n",
    "Good overview of SIR model available at https://en.wikipedia.org/wiki/Compartmental_models_in_epidemiology."
   ]
  },
  {
   "cell_type": "code",
   "execution_count": 6,
   "metadata": {},
   "outputs": [],
   "source": [
    "# Seems like estimating initial number of total infections in the population *region*\n",
    "# we are modeling (i.e. that we put population numbers in above) by inferring from the\n",
    "# number we have in hospital and then inflating by both our market share and then\n",
    "# the hospitalization rate of infecteds. So, total_infections is in our entire\n",
    "# region.\n",
    "\n",
    "total_infections = current_hosp / BH_market_share / hosp_rate\n",
    "\n",
    "# Estimate prob[detection | infected]. Will be used to initialize size of I.\n",
    "detection_prob = initial_infections / total_infections\n",
    "\n",
    "# Compute initial values for S, I, and R (susceptible, infectious, recovered)\n",
    "# Note that initial value for S was set up above based on input params\n",
    "# I is initialized by reflecting the fact that there are a bunch of undetected\n",
    "# cases out there and R is initially set to 0.\n",
    "S, I, R = S, initial_infections / detection_prob, 0\n",
    "\n",
    "# Since this model lets user input the doubling time (time for I -> 2I), we can back into the\n",
    "# implied intrinsic growth rate of the pandemic. We'll use this below to get to \n",
    "# key model terms like \"basic reproduction number\"\n",
    "intrinsic_growth_rate = 2 ** (1 / doubling_time) - 1\n",
    "\n",
    "recovery_days = 14.0 # Hmm, this is hard coded. Probably should get moved up into input params.\n",
    "# mean recovery rate, gamma, (in 1/days).\n",
    "gamma = 1 / recovery_days\n",
    "\n",
    "# Contact rate, beta\n",
    "beta = (\n",
    "    intrinsic_growth_rate + gamma\n",
    ") / S * (1-relative_contact_rate) # {rate based on doubling time} / {initial S}\n",
    "\n",
    "# Now can compute the \"basic reproduction number\". It's kind of like the\n",
    "# rho term in queueing models. When > 1, epidemic grows.\n",
    "r_t = beta / gamma * S # r_t is r_0 after distancing\n",
    "r_naught = r_t / (1-relative_contact_rate)\n",
    "doubling_time_t = 1/np.log2(beta*S - gamma +1) # doubling time after distancing"
   ]
  },
  {
   "cell_type": "markdown",
   "metadata": {},
   "source": [
    "## Credits and illustrating rendering\n",
    "I wanted to keep the UPenn credits and info as well as show how easy it is to render and display Markdown in a Jupyter notebook."
   ]
  },
  {
   "cell_type": "code",
   "execution_count": 19,
   "metadata": {},
   "outputs": [
    {
     "data": {
      "text/markdown": [
       "*This tool was developed by the [Predictive Healthcare team](http://predictivehealthcare.pennmedicine.org/) at\n",
       "    Penn Medicine. For questions and comments please see our\n",
       "    [contact page](http://predictivehealthcare.pennmedicine.org/contact/). Code can be found on [Github](https://github.com/pennsignals/chime).\n",
       "    Join our [Slack channel](https://codeforphilly.org/chat?channel=covid19-chime-penn) if you would like to get involved!*"
      ],
      "text/plain": [
       "<IPython.core.display.Markdown object>"
      ]
     },
     "metadata": {},
     "output_type": "display_data"
    }
   ],
   "source": [
    "display(Markdown(\n",
    "        \"\"\"*This tool was developed by the [Predictive Healthcare team](http://predictivehealthcare.pennmedicine.org/) at\n",
    "    Penn Medicine. For questions and comments please see our\n",
    "    [contact page](http://predictivehealthcare.pennmedicine.org/contact/). Code can be found on [Github](https://github.com/pennsignals/chime).\n",
    "    Join our [Slack channel](https://codeforphilly.org/chat?channel=covid19-chime-penn) if you would like to get involved!*\"\"\"))\n"
   ]
  },
  {
   "cell_type": "code",
   "execution_count": 14,
   "metadata": {},
   "outputs": [
    {
     "data": {
      "text/markdown": [
       "The estimated number of currently infected individuals is **533**. The **91**\n",
       "    confirmed cases in the region imply a **17%** rate of detection. This is based on current inputs for\n",
       "    Hospitalizations (**4**), Hospitalization rate (**5%**), Region size (**500000**),\n",
       "    and Hospital market share (**15%**).\n",
       "\n",
       "An initial doubling time of **6** days and a recovery time of **14.0** days imply an $R_0$ of\n",
       "**2.71**.\n",
       "\n",
       "**Mitigation**: A **0%** reduction in social contact after the onset of the outbreak reduces the doubling time to **6.0** days, implying an effective $R_t$ of **$2.71$**.\n"
      ],
      "text/plain": [
       "<IPython.core.display.Markdown object>"
      ]
     },
     "metadata": {},
     "output_type": "display_data"
    }
   ],
   "source": [
    "display(Markdown(\"\"\"The estimated number of currently infected individuals is **{total_infections:.0f}**. The **{initial_infections}**\n",
    "    confirmed cases in the region imply a **{detection_prob:.0%}** rate of detection. This is based on current inputs for\n",
    "    Hospitalizations (**{current_hosp}**), Hospitalization rate (**{hosp_rate:.0%}**), Region size (**{S}**),\n",
    "    and Hospital market share (**{BH_market_share:.0%}**).\n",
    "\n",
    "An initial doubling time of **{doubling_time}** days and a recovery time of **{recovery_days}** days imply an $R_0$ of\n",
    "**{r_naught:.2f}**.\n",
    "\n",
    "**Mitigation**: A **{relative_contact_rate:.0%}** reduction in social contact after the onset of the outbreak reduces the doubling time to **{doubling_time_t:.1f}** days, implying an effective $R_t$ of **${r_t:.2f}$**.\n",
    "\"\"\".format(\n",
    "        total_infections=total_infections,\n",
    "        initial_infections=initial_infections,\n",
    "        detection_prob=detection_prob,\n",
    "        current_hosp=current_hosp,\n",
    "        hosp_rate=hosp_rate,\n",
    "        S=S,\n",
    "        BH_market_share=BH_market_share,\n",
    "        recovery_days=recovery_days,\n",
    "        r_naught=r_naught,\n",
    "        doubling_time=doubling_time,\n",
    "        relative_contact_rate=relative_contact_rate,\n",
    "        r_t=r_t,\n",
    "        doubling_time_t=doubling_time_t\n",
    "    )))"
   ]
  },
  {
   "cell_type": "markdown",
   "metadata": {},
   "source": [
    "## The SIR Model\n",
    "For now just pasting in the model description code from the web app. **IMPORTANT: See web app at https://penn-chime.phl.io/ for readable version - it's got very helpful description of how this model works. You need to CHECK THE BOX labelled \"Show more info about this tool\".**"
   ]
  },
  {
   "cell_type": "code",
   "execution_count": null,
   "metadata": {},
   "outputs": [],
   "source": [
    "# def show_more_info_about_this_tool():\n",
    "#     \"\"\"a lot of streamlit writing to screen.\"\"\"\n",
    "\n",
    "#     st.subheader(\n",
    "#         \"[Discrete-time SIR modeling](https://mathworld.wolfram.com/SIRModel.html) of infections/recovery\"\n",
    "#     )\n",
    "#     st.markdown(\n",
    "#         \"\"\"The model consists of individuals who are either _Susceptible_ ($S$), _Infected_ ($I$), or _Recovered_ ($R$).\n",
    "\n",
    "# The epidemic proceeds via a growth and decline process. This is the core model of infectious disease spread and has been in use in epidemiology for many years.\"\"\"\n",
    "#     )\n",
    "#     st.markdown(\"\"\"The dynamics are given by the following 3 equations.\"\"\")\n",
    "\n",
    "#     st.latex(\"S_{t+1} = (-\\\\beta S_t I_t) + S_t\")\n",
    "#     st.latex(\"I_{t+1} = (\\\\beta S_t I_t - \\\\gamma I_t) + I_t\")\n",
    "#     st.latex(\"R_{t+1} = (\\\\gamma I_t) + R_t\")\n",
    "\n",
    "#     st.markdown(\n",
    "#         \"\"\"To project the expected impact to Penn Medicine, we estimate the terms of the model.\n",
    "\n",
    "# To do this, we use a combination of estimates from other locations, informed estimates based on logical reasoning, and best guesses from the American Hospital Association.\n",
    "\n",
    "\n",
    "# ### Parameters\n",
    "\n",
    "# The model's parameters, $\\\\beta$ and $\\\\gamma$, determine the virulence of the epidemic.\n",
    "\n",
    "# $$\\\\beta$$ can be interpreted as the _effective contact rate_:\n",
    "# \"\"\")\n",
    "#     st.latex(\"\\\\beta = \\\\tau \\\\times c\")\n",
    "\n",
    "#     st.markdown(\n",
    "# \"\"\"which is the transmissibility ($\\\\tau$) multiplied by the average number of people exposed ($$c$$).  The transmissibility is the basic virulence of the pathogen.  The number of people exposed $c$ is the parameter that can be changed through social distancing.\n",
    "\n",
    "\n",
    "# $\\\\gamma$ is the inverse of the mean recovery time, in days.  I.e.: if $\\\\gamma = 1/{recovery_days}$, then the average infection will clear in {recovery_days} days.\n",
    "\n",
    "# An important descriptive parameter is the _basic reproduction number_, or $R_0$.  This represents the average number of people who will be infected by any given infected person.  When $R_0$ is greater than 1, it means that a disease will grow.  Higher $R_0$'s imply more rapid growth.  It is defined as \"\"\".format(recovery_days=int(recovery_days)    , c='c'))\n",
    "#     st.latex(\"R_0 = \\\\beta /\\\\gamma\")\n",
    "\n",
    "#     st.markdown(\"\"\"\n",
    "\n",
    "# $R_0$ gets bigger when\n",
    "\n",
    "# - there are more contacts between people\n",
    "# - when the pathogen is more virulent\n",
    "# - when people have the pathogen for longer periods of time\n",
    "\n",
    "# A doubling time of {doubling_time} days and a recovery time of {recovery_days} days imply an $R_0$ of {r_naught:.2f}.\n",
    "\n",
    "# #### Effect of social distancing\n",
    "\n",
    "# After the beginning of the outbreak, actions to reduce social contact will lower the parameter $c$.  If this happens at\n",
    "# time $t$, then the number of people infected by any given infected person is $R_t$, which will be lower than $R_0$.\n",
    "\n",
    "# A {relative_contact_rate:.0%} reduction in social contact would increase the time it takes for the outbreak to double,\n",
    "# to {doubling_time_t:.2f} days from {doubling_time:.2f} days, with a $R_t$ of {r_t:.2f}.\n",
    "\n",
    "# #### Using the model\n",
    "\n",
    "# We need to express the two parameters $\\\\beta$ and $\\\\gamma$ in terms of quantities we can estimate.\n",
    "\n",
    "# - $\\\\gamma$:  the CDC is recommending 14 days of self-quarantine, we'll use $\\\\gamma = 1/{recovery_days}$.\n",
    "# - To estimate $$\\\\beta$$ directly, we'd need to know transmissibility and social contact rates.  since we don't know these things, we can extract it from known _doubling times_.  The AHA says to expect a doubling time $T_d$ of 7-10 days. That means an early-phase rate of growth can be computed by using the doubling time formula:\n",
    "# \"\"\".format(doubling_time=doubling_time,\n",
    "#            recovery_days=recovery_days,\n",
    "#            r_naught=r_naught,\n",
    "#            relative_contact_rate=relative_contact_rate,\n",
    "#            doubling_time_t=doubling_time_t,\n",
    "#            r_t=r_t)\n",
    "#     )\n",
    "#     st.latex(\"g = 2^{1/T_d} - 1\")\n",
    "\n",
    "#     st.markdown(\n",
    "#         \"\"\"\n",
    "# - Since the rate of new infections in the SIR model is $g = \\\\beta S - \\\\gamma$, and we've already computed $\\\\gamma$, $\\\\beta$ becomes a function of the initial population size of susceptible individuals.\n",
    "# $$\\\\beta = (g + \\\\gamma)$$.\n",
    "\n",
    "\n",
    "# ### Initial Conditions\n",
    "\n",
    "# - The total size of the susceptible population will be the entire catchment area for Penn Medicine entities (HUP, PAH, PMC, CCH)\n",
    "#   - Delaware = {delaware}\n",
    "#   - Chester = {chester}\n",
    "#   - Montgomery = {montgomery}\n",
    "#   - Bucks = {bucks}\n",
    "#   - Philly = {philly}\"\"\".format(\n",
    "#             delaware=delaware,\n",
    "#             chester=chester,\n",
    "#             montgomery=montgomery,\n",
    "#             bucks=bucks,\n",
    "#             philly=philly,\n",
    "#         )\n",
    "#     )\n",
    "#     return None\n",
    "\n",
    "# if st.checkbox(\"Show more info about this tool\"):\n",
    "#     show_more_info_about_this_tool()"
   ]
  },
  {
   "cell_type": "markdown",
   "metadata": {},
   "source": [
    "### Single time step of model\n",
    "The following function updates S, I and R for a single time step. It will get called repeatedly from main simulation loop."
   ]
  },
  {
   "cell_type": "code",
   "execution_count": 20,
   "metadata": {},
   "outputs": [],
   "source": [
    "# The SIR model, one time step\n",
    "def sir(y, beta, gamma, N):\n",
    "    S, I, R = y\n",
    "    Sn = (-beta * S * I) + S\n",
    "    In = (beta * S * I - gamma * I) + I\n",
    "    Rn = gamma * I + R\n",
    "    if Sn < 0:\n",
    "        Sn = 0\n",
    "    if In < 0:\n",
    "        In = 0\n",
    "    if Rn < 0:\n",
    "        Rn = 0\n",
    "\n",
    "    scale = N / (Sn + In + Rn)\n",
    "    return Sn * scale, In * scale, Rn * scale"
   ]
  },
  {
   "cell_type": "markdown",
   "metadata": {},
   "source": [
    "### Main simulation function\n",
    "Initialize with our current values of S, I, and R based on user input parameters and then loop for a specified number of days. \n",
    "\n",
    "Looks like there's a \"hook\" to be able to model decay in $\\beta$, the effective contact rate, but the default is to assume no decay. This allows being able to model things like changes in basic virulence of the virus.\n",
    "\n",
    "This `sim_sir()` function will get called from the next bit of main code in the next cell."
   ]
  },
  {
   "cell_type": "code",
   "execution_count": 21,
   "metadata": {},
   "outputs": [],
   "source": [
    "# Run the SIR model forward in time\n",
    "def sim_sir(S, I, R, beta, gamma, n_days, beta_decay=None):\n",
    "    N = S + I + R\n",
    "    s, i, r = [S], [I], [R]\n",
    "    for day in range(n_days):\n",
    "        y = S, I, R\n",
    "        S, I, R = sir(y, beta, gamma, N)\n",
    "        if beta_decay:\n",
    "            beta = beta * (1 - beta_decay)\n",
    "        s.append(S)\n",
    "        i.append(I)\n",
    "        r.append(R)\n",
    "\n",
    "    s, i, r = np.array(s), np.array(i), np.array(r)\n",
    "    return s, i, r"
   ]
  },
  {
   "cell_type": "markdown",
   "metadata": {},
   "source": [
    "Now we are ready to run the simulation. In the code below, the line that actually calls the sim function is:\n",
    "\n",
    "    s, i, r = sim_sir(S, I, R, beta, gamma, n_days, beta_decay=beta_decay)\n",
    "    \n",
    "So, the result is a tuple of numpy arrays representing the size of S, I, and R at each time step. We'll then be able to use these to drive resource related calculations that depend on them.\n"
   ]
  },
  {
   "cell_type": "code",
   "execution_count": 23,
   "metadata": {},
   "outputs": [],
   "source": [
    "# How many do days you want to run this for?\n",
    "n_days = 60\n",
    "\n",
    "# Assume no beta decay for now.\n",
    "beta_decay = 0.0\n",
    "\n",
    "# Call the main simulation function. \n",
    "s, i, r = sim_sir(S, I, R, beta, gamma, n_days, beta_decay=beta_decay)\n",
    "\n",
    "# Compute arrays of resource use at each time step\n",
    "# Note that the three resources included in the base model are just using\n",
    "# \"multipliers\" to compute hospital specific guesstimates of resource needs.\n",
    "# A similar kind of thing might be appropriate for many resources such\n",
    "# as needs for numbers of certain kinds of staff.\n",
    "hosp = i * hosp_rate * BH_market_share\n",
    "icu = i * icu_rate * BH_market_share\n",
    "vent = i * vent_rate * BH_market_share\n",
    "\n",
    "# Now read to create master DataFrame to drive plots\n",
    "\n",
    "# Need array of the days\n",
    "days = np.array(range(0, n_days + 1))\n",
    "\n",
    "# Combine arrays for days and all resource related arrays.\n",
    "# Obviously, as new resource computations are added above,\n",
    "# need to add those arrays to data_list\n",
    "data_list = [days, hosp, icu, vent]\n",
    "\n",
    "# Create a dictionary from data_list to use to easily create pandas DataFrame.\n",
    "data_dict = dict(zip([\"day\", \"hosp\", \"icu\", \"vent\"], data_list))\n",
    "\n",
    "# Create the main DataFrame containing resource projections.\n",
    "projection = pd.DataFrame.from_dict(data_dict)"
   ]
  },
  {
   "cell_type": "markdown",
   "metadata": {},
   "source": [
    "The variable `projection` contains the pandas dataframe that drives the graphs. As you add more resources beyond just vents and ICUs, then you just make sure you add the arrays to the `data_list` in the code chunk above."
   ]
  },
  {
   "cell_type": "code",
   "execution_count": 24,
   "metadata": {},
   "outputs": [
    {
     "data": {
      "text/html": [
       "<div>\n",
       "<style scoped>\n",
       "    .dataframe tbody tr th:only-of-type {\n",
       "        vertical-align: middle;\n",
       "    }\n",
       "\n",
       "    .dataframe tbody tr th {\n",
       "        vertical-align: top;\n",
       "    }\n",
       "\n",
       "    .dataframe thead th {\n",
       "        text-align: right;\n",
       "    }\n",
       "</style>\n",
       "<table border=\"1\" class=\"dataframe\">\n",
       "  <thead>\n",
       "    <tr style=\"text-align: right;\">\n",
       "      <th></th>\n",
       "      <th>day</th>\n",
       "      <th>hosp</th>\n",
       "      <th>icu</th>\n",
       "      <th>vent</th>\n",
       "    </tr>\n",
       "  </thead>\n",
       "  <tbody>\n",
       "    <tr>\n",
       "      <th>0</th>\n",
       "      <td>0</td>\n",
       "      <td>4.000000</td>\n",
       "      <td>1.600000</td>\n",
       "      <td>0.800000</td>\n",
       "    </tr>\n",
       "    <tr>\n",
       "      <th>1</th>\n",
       "      <td>1</td>\n",
       "      <td>4.489848</td>\n",
       "      <td>1.795939</td>\n",
       "      <td>0.897970</td>\n",
       "    </tr>\n",
       "    <tr>\n",
       "      <th>2</th>\n",
       "      <td>2</td>\n",
       "      <td>5.039504</td>\n",
       "      <td>2.015802</td>\n",
       "      <td>1.007901</td>\n",
       "    </tr>\n",
       "    <tr>\n",
       "      <th>3</th>\n",
       "      <td>3</td>\n",
       "      <td>5.656223</td>\n",
       "      <td>2.262489</td>\n",
       "      <td>1.131245</td>\n",
       "    </tr>\n",
       "    <tr>\n",
       "      <th>4</th>\n",
       "      <td>4</td>\n",
       "      <td>6.348129</td>\n",
       "      <td>2.539252</td>\n",
       "      <td>1.269626</td>\n",
       "    </tr>\n",
       "    <tr>\n",
       "      <th>...</th>\n",
       "      <td>...</td>\n",
       "      <td>...</td>\n",
       "      <td>...</td>\n",
       "      <td>...</td>\n",
       "    </tr>\n",
       "    <tr>\n",
       "      <th>56</th>\n",
       "      <td>56</td>\n",
       "      <td>919.761010</td>\n",
       "      <td>367.904404</td>\n",
       "      <td>183.952202</td>\n",
       "    </tr>\n",
       "    <tr>\n",
       "      <th>57</th>\n",
       "      <td>57</td>\n",
       "      <td>945.778913</td>\n",
       "      <td>378.311565</td>\n",
       "      <td>189.155783</td>\n",
       "    </tr>\n",
       "    <tr>\n",
       "      <th>58</th>\n",
       "      <td>58</td>\n",
       "      <td>968.047868</td>\n",
       "      <td>387.219147</td>\n",
       "      <td>193.609574</td>\n",
       "    </tr>\n",
       "    <tr>\n",
       "      <th>59</th>\n",
       "      <td>59</td>\n",
       "      <td>986.345249</td>\n",
       "      <td>394.538099</td>\n",
       "      <td>197.269050</td>\n",
       "    </tr>\n",
       "    <tr>\n",
       "      <th>60</th>\n",
       "      <td>60</td>\n",
       "      <td>1000.529009</td>\n",
       "      <td>400.211604</td>\n",
       "      <td>200.105802</td>\n",
       "    </tr>\n",
       "  </tbody>\n",
       "</table>\n",
       "<p>61 rows × 4 columns</p>\n",
       "</div>"
      ],
      "text/plain": [
       "    day         hosp         icu        vent\n",
       "0     0     4.000000    1.600000    0.800000\n",
       "1     1     4.489848    1.795939    0.897970\n",
       "2     2     5.039504    2.015802    1.007901\n",
       "3     3     5.656223    2.262489    1.131245\n",
       "4     4     6.348129    2.539252    1.269626\n",
       "..  ...          ...         ...         ...\n",
       "56   56   919.761010  367.904404  183.952202\n",
       "57   57   945.778913  378.311565  189.155783\n",
       "58   58   968.047868  387.219147  193.609574\n",
       "59   59   986.345249  394.538099  197.269050\n",
       "60   60  1000.529009  400.211604  200.105802\n",
       "\n",
       "[61 rows x 4 columns]"
      ]
     },
     "execution_count": 24,
     "metadata": {},
     "output_type": "execute_result"
    }
   ],
   "source": [
    "projection"
   ]
  },
  {
   "cell_type": "markdown",
   "metadata": {},
   "source": [
    "### New Admissions\n",
    "Projected number of **daily** COVID-19 admissions"
   ]
  },
  {
   "cell_type": "code",
   "execution_count": 25,
   "metadata": {},
   "outputs": [],
   "source": [
    "# New cases (computing lag 1 difference)\n",
    "projection_admits = projection.iloc[:-1, :] - projection.shift(1)\n",
    "projection_admits[projection_admits < 0] = 0\n",
    "\n",
    "plot_projection_days = n_days - 10\n",
    "projection_admits[\"day\"] = range(projection_admits.shape[0])"
   ]
  },
  {
   "cell_type": "code",
   "execution_count": 26,
   "metadata": {},
   "outputs": [
    {
     "data": {
      "text/html": [
       "<div>\n",
       "<style scoped>\n",
       "    .dataframe tbody tr th:only-of-type {\n",
       "        vertical-align: middle;\n",
       "    }\n",
       "\n",
       "    .dataframe tbody tr th {\n",
       "        vertical-align: top;\n",
       "    }\n",
       "\n",
       "    .dataframe thead th {\n",
       "        text-align: right;\n",
       "    }\n",
       "</style>\n",
       "<table border=\"1\" class=\"dataframe\">\n",
       "  <thead>\n",
       "    <tr style=\"text-align: right;\">\n",
       "      <th></th>\n",
       "      <th>day</th>\n",
       "      <th>hosp</th>\n",
       "      <th>icu</th>\n",
       "      <th>vent</th>\n",
       "    </tr>\n",
       "  </thead>\n",
       "  <tbody>\n",
       "    <tr>\n",
       "      <th>0</th>\n",
       "      <td>0</td>\n",
       "      <td>NaN</td>\n",
       "      <td>NaN</td>\n",
       "      <td>NaN</td>\n",
       "    </tr>\n",
       "    <tr>\n",
       "      <th>1</th>\n",
       "      <td>1</td>\n",
       "      <td>0.489848</td>\n",
       "      <td>0.195939</td>\n",
       "      <td>0.097970</td>\n",
       "    </tr>\n",
       "    <tr>\n",
       "      <th>2</th>\n",
       "      <td>2</td>\n",
       "      <td>0.549656</td>\n",
       "      <td>0.219862</td>\n",
       "      <td>0.109931</td>\n",
       "    </tr>\n",
       "    <tr>\n",
       "      <th>3</th>\n",
       "      <td>3</td>\n",
       "      <td>0.616719</td>\n",
       "      <td>0.246688</td>\n",
       "      <td>0.123344</td>\n",
       "    </tr>\n",
       "    <tr>\n",
       "      <th>4</th>\n",
       "      <td>4</td>\n",
       "      <td>0.691906</td>\n",
       "      <td>0.276762</td>\n",
       "      <td>0.138381</td>\n",
       "    </tr>\n",
       "    <tr>\n",
       "      <th>...</th>\n",
       "      <td>...</td>\n",
       "      <td>...</td>\n",
       "      <td>...</td>\n",
       "      <td>...</td>\n",
       "    </tr>\n",
       "    <tr>\n",
       "      <th>56</th>\n",
       "      <td>56</td>\n",
       "      <td>29.468063</td>\n",
       "      <td>11.787225</td>\n",
       "      <td>5.893613</td>\n",
       "    </tr>\n",
       "    <tr>\n",
       "      <th>57</th>\n",
       "      <td>57</td>\n",
       "      <td>26.017903</td>\n",
       "      <td>10.407161</td>\n",
       "      <td>5.203581</td>\n",
       "    </tr>\n",
       "    <tr>\n",
       "      <th>58</th>\n",
       "      <td>58</td>\n",
       "      <td>22.268955</td>\n",
       "      <td>8.907582</td>\n",
       "      <td>4.453791</td>\n",
       "    </tr>\n",
       "    <tr>\n",
       "      <th>59</th>\n",
       "      <td>59</td>\n",
       "      <td>18.297381</td>\n",
       "      <td>7.318952</td>\n",
       "      <td>3.659476</td>\n",
       "    </tr>\n",
       "    <tr>\n",
       "      <th>60</th>\n",
       "      <td>60</td>\n",
       "      <td>NaN</td>\n",
       "      <td>NaN</td>\n",
       "      <td>NaN</td>\n",
       "    </tr>\n",
       "  </tbody>\n",
       "</table>\n",
       "<p>61 rows × 4 columns</p>\n",
       "</div>"
      ],
      "text/plain": [
       "    day       hosp        icu      vent\n",
       "0     0        NaN        NaN       NaN\n",
       "1     1   0.489848   0.195939  0.097970\n",
       "2     2   0.549656   0.219862  0.109931\n",
       "3     3   0.616719   0.246688  0.123344\n",
       "4     4   0.691906   0.276762  0.138381\n",
       "..  ...        ...        ...       ...\n",
       "56   56  29.468063  11.787225  5.893613\n",
       "57   57  26.017903  10.407161  5.203581\n",
       "58   58  22.268955   8.907582  4.453791\n",
       "59   59  18.297381   7.318952  3.659476\n",
       "60   60        NaN        NaN       NaN\n",
       "\n",
       "[61 rows x 4 columns]"
      ]
     },
     "execution_count": 26,
     "metadata": {},
     "output_type": "execute_result"
    }
   ],
   "source": [
    "projection_admits"
   ]
  },
  {
   "cell_type": "markdown",
   "metadata": {},
   "source": [
    "Obviously, you can drive graphs from the `projection_admits` dataframe."
   ]
  },
  {
   "cell_type": "code",
   "execution_count": 35,
   "metadata": {},
   "outputs": [
    {
     "data": {
      "image/png": "[encoded data removed]",
      "text/plain": [
       "<Figure size 432x288 with 1 Axes>"
      ]
     },
     "metadata": {
      "needs_background": "light"
     },
     "output_type": "display_data"
    }
   ],
   "source": [
    "sns.lineplot(x=\"day\", y=\"hosp\", data=projection_admits);"
   ]
  },
  {
   "cell_type": "code",
   "execution_count": 40,
   "metadata": {},
   "outputs": [
    {
     "data": {
      "image/png": "[encoded data removed]",
      "text/plain": [
       "<Figure size 432x288 with 1 Axes>"
      ]
     },
     "metadata": {
      "needs_background": "light"
     },
     "output_type": "display_data"
    }
   ],
   "source": [
    "sns.lineplot(x='day', y='value', hue='variable', \n",
    "             data=pd.melt(projection_admits, ['day']));"
   ]
  },
  {
   "cell_type": "markdown",
   "metadata": {},
   "source": [
    "### Census\n",
    "Census of the COVID-19 related resources we are tracking"
   ]
  },
  {
   "cell_type": "code",
   "execution_count": 29,
   "metadata": {},
   "outputs": [],
   "source": [
    "def _census_table(projection_admits, hosp_los, icu_los, vent_los) -> pd.DataFrame:\n",
    "    \"\"\"ALOS for each category of COVID-19 case (total guesses)\"\"\"\n",
    "\n",
    "    los_dict = {\n",
    "        \"hosp\": hosp_los,\n",
    "        \"icu\": icu_los,\n",
    "        \"vent\": vent_los,\n",
    "    }\n",
    "\n",
    "    census_dict = dict()\n",
    "    for k, los in los_dict.items():\n",
    "        census = (\n",
    "            projection_admits.cumsum().iloc[:-los, :]\n",
    "            - projection_admits.cumsum().shift(los).fillna(0)\n",
    "        ).apply(np.ceil)\n",
    "        census_dict[k] = census[k]\n",
    "\n",
    "\n",
    "    census_df = pd.DataFrame(census_dict)\n",
    "    census_df[\"day\"] = census_df.index\n",
    "    census_df = census_df[[\"day\", \"hosp\", \"icu\", \"vent\"]]\n",
    "\n",
    "    census_table = census_df[np.mod(census_df.index, 7) == 0].copy()\n",
    "    census_table.index = range(census_table.shape[0])\n",
    "    census_table.loc[0, :] = 0\n",
    "    census_table = census_table.dropna().astype(int)\n",
    "\n",
    "    return census_table\n",
    "\n",
    "census_table = _census_table(projection_admits, hosp_los, icu_los, vent_los)"
   ]
  },
  {
   "cell_type": "code",
   "execution_count": 28,
   "metadata": {},
   "outputs": [
    {
     "data": {
      "text/html": [
       "<div>\n",
       "<style scoped>\n",
       "    .dataframe tbody tr th:only-of-type {\n",
       "        vertical-align: middle;\n",
       "    }\n",
       "\n",
       "    .dataframe tbody tr th {\n",
       "        vertical-align: top;\n",
       "    }\n",
       "\n",
       "    .dataframe thead th {\n",
       "        text-align: right;\n",
       "    }\n",
       "</style>\n",
       "<table border=\"1\" class=\"dataframe\">\n",
       "  <thead>\n",
       "    <tr style=\"text-align: right;\">\n",
       "      <th></th>\n",
       "      <th>day</th>\n",
       "      <th>hosp</th>\n",
       "      <th>icu</th>\n",
       "      <th>vent</th>\n",
       "    </tr>\n",
       "  </thead>\n",
       "  <tbody>\n",
       "    <tr>\n",
       "      <th>0</th>\n",
       "      <td>0</td>\n",
       "      <td>0</td>\n",
       "      <td>0</td>\n",
       "      <td>0</td>\n",
       "    </tr>\n",
       "    <tr>\n",
       "      <th>1</th>\n",
       "      <td>7</td>\n",
       "      <td>5</td>\n",
       "      <td>2</td>\n",
       "      <td>1</td>\n",
       "    </tr>\n",
       "    <tr>\n",
       "      <th>2</th>\n",
       "      <td>14</td>\n",
       "      <td>12</td>\n",
       "      <td>6</td>\n",
       "      <td>3</td>\n",
       "    </tr>\n",
       "    <tr>\n",
       "      <th>3</th>\n",
       "      <td>21</td>\n",
       "      <td>25</td>\n",
       "      <td>12</td>\n",
       "      <td>7</td>\n",
       "    </tr>\n",
       "    <tr>\n",
       "      <th>4</th>\n",
       "      <td>28</td>\n",
       "      <td>53</td>\n",
       "      <td>25</td>\n",
       "      <td>14</td>\n",
       "    </tr>\n",
       "    <tr>\n",
       "      <th>5</th>\n",
       "      <td>35</td>\n",
       "      <td>106</td>\n",
       "      <td>50</td>\n",
       "      <td>27</td>\n",
       "    </tr>\n",
       "    <tr>\n",
       "      <th>6</th>\n",
       "      <td>42</td>\n",
       "      <td>191</td>\n",
       "      <td>92</td>\n",
       "      <td>49</td>\n",
       "    </tr>\n",
       "    <tr>\n",
       "      <th>7</th>\n",
       "      <td>49</td>\n",
       "      <td>272</td>\n",
       "      <td>135</td>\n",
       "      <td>73</td>\n",
       "    </tr>\n",
       "  </tbody>\n",
       "</table>\n",
       "</div>"
      ],
      "text/plain": [
       "   day  hosp  icu  vent\n",
       "0    0     0    0     0\n",
       "1    7     5    2     1\n",
       "2   14    12    6     3\n",
       "3   21    25   12     7\n",
       "4   28    53   25    14\n",
       "5   35   106   50    27\n",
       "6   42   191   92    49\n",
       "7   49   272  135    73"
      ]
     },
     "execution_count": 28,
     "metadata": {},
     "output_type": "execute_result"
    }
   ],
   "source": [
    "census_table"
   ]
  },
  {
   "cell_type": "code",
   "execution_count": 39,
   "metadata": {},
   "outputs": [
    {
     "data": {
      "image/png": "[encoded data removed]",
      "text/plain": [
       "<Figure size 432x288 with 1 Axes>"
      ]
     },
     "metadata": {
      "needs_background": "light"
     },
     "output_type": "display_data"
    }
   ],
   "source": [
    "sns.lineplot(x='day', y='value', hue='variable', \n",
    "             data=pd.melt(census_table, ['day']));"
   ]
  },
  {
   "cell_type": "markdown",
   "metadata": {},
   "source": [
    "This notebook was derived from the CHIME project (https://github.com/pennsignals/chime)."
   ]
  },
  {
   "cell_type": "code",
   "execution_count": null,
   "metadata": {},
   "outputs": [],
   "source": [
    "MIT License\n",
    "\n",
    "Copyright (c) 2020 Mark Isken\n",
    "Copyright (c) 2020 The Trustees of the University of Pennsylvania\n",
    "\n",
    "Permission is hereby granted, free of charge, to any person obtaining a copy\n",
    "of this software and associated documentation files (the \"Software\"), to deal\n",
    "in the Software without restriction, including without limitation the rights\n",
    "to use, copy, modify, merge, publish, distribute, sublicense, and/or sell\n",
    "copies of the Software, and to permit persons to whom the Software is\n",
    "furnished to do so, subject to the following conditions:\n",
    "\n",
    "The above copyright notice and this permission notice shall be included in all\n",
    "copies or substantial portions of the Software.\n",
    "\n",
    "THE SOFTWARE IS PROVIDED \"AS IS\", WITHOUT WARRANTY OF ANY KIND, EXPRESS OR\n",
    "IMPLIED, INCLUDING BUT NOT LIMITED TO THE WARRANTIES OF MERCHANTABILITY,\n",
    "FITNESS FOR A PARTICULAR PURPOSE AND NONINFRINGEMENT. IN NO EVENT SHALL THE\n",
    "AUTHORS OR COPYRIGHT HOLDERS BE LIABLE FOR ANY CLAIM, DAMAGES OR OTHER\n",
    "LIABILITY, WHETHER IN AN ACTION OF CONTRACT, TORT OR OTHERWISE, ARISING FROM,\n",
    "OUT OF OR IN CONNECTION WITH THE SOFTWARE OR THE USE OR OTHER DEALINGS IN THE\n",
    "SOFTWARE."
   ]
  }
 ],
 "metadata": {
  "kernelspec": {
   "display_name": "Python 3",
   "language": "python",
   "name": "python3"
  },
  "language_info": {
   "codemirror_mode": {
    "name": "ipython",
    "version": 3
   },
   "file_extension": ".py",
   "mimetype": "text/x-python",
   "name": "python",
   "nbconvert_exporter": "python",
   "pygments_lexer": "ipython3",
   "version": "3.8.1"
  }
 },
 "nbformat": 4,
 "nbformat_minor": 4
}
