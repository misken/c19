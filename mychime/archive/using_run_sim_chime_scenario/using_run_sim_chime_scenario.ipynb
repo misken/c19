{
 "cells": [
  {
   "cell_type": "markdown",
   "metadata": {},
   "source": [
    "# Testing and demo'ing run_sim_chime_scenario.py"
   ]
  },
  {
   "cell_type": "markdown",
   "metadata": {},
   "source": [
    "## Method 1: Run from command line using defaults that are in settings.py\n",
    "\n",
    "Output files will go to current directory if you don't specify the `--output-path` arg and the scenario name will be the datetime. "
   ]
  },
  {
   "cell_type": "code",
   "execution_count": 1,
   "metadata": {
    "collapsed": true,
    "jupyter": {
     "outputs_hidden": true
    }
   },
   "outputs": [
    {
     "name": "stdout",
     "output_type": "stream",
     "text": [
      "Scenario: 2020.03.26.14.53.\n",
      "\n",
      "\n",
      "Input parameters\n",
      "--------------------------------------------------\n",
      "{\n",
      "    \"current_hospitalized\": 591,\n",
      "    \"doubling_time\": 4,\n",
      "    \"known_infected\": 2294,\n",
      "    \"relative_contact_rate\": 0.31,\n",
      "    \"susceptible\": 5026226,\n",
      "    \"hospitalized\": [\n",
      "        0.025,\n",
      "        7\n",
      "    ],\n",
      "    \"icu\": [\n",
      "        0.0075,\n",
      "        9\n",
      "    ],\n",
      "    \"ventilated\": [\n",
      "        0.005,\n",
      "        10\n",
      "    ],\n",
      "    \"as_date\": false,\n",
      "    \"market_share\": 0.32,\n",
      "    \"max_y_axis\": null,\n",
      "    \"n_days\": 120,\n",
      "    \"recovery_days\": 14,\n",
      "    \"labels\": {\n",
      "        \"hospitalized\": \"Hospitalized\",\n",
      "        \"icu\": \"ICU\",\n",
      "        \"ventilated\": \"Ventilated\",\n",
      "        \"day\": \"Day\",\n",
      "        \"date\": \"Date\",\n",
      "        \"susceptible\": \"Susceptible\",\n",
      "        \"infected\": \"Infected\",\n",
      "        \"recovered\": \"Recovered\"\n",
      "    },\n",
      "    \"dispositions\": {\n",
      "        \"hospitalized\": [\n",
      "            0.025,\n",
      "            7\n",
      "        ],\n",
      "        \"icu\": [\n",
      "            0.0075,\n",
      "            9\n",
      "        ],\n",
      "        \"ventilated\": [\n",
      "            0.005,\n",
      "            10\n",
      "        ]\n",
      "    }\n",
      "}\n",
      "\n",
      "Intermediate variables\n",
      "--------------------------------------------------\n",
      "{\n",
      "    \"intrinsic_growth_rate\": 0.18920711500272103,\n",
      "    \"gamma\": 0.07142857142857142,\n",
      "    \"beta\": 3.5780051202948644e-08,\n",
      "    \"r_naught\": 3.648899610038094,\n",
      "    \"r_t\": 2.5177407309262847,\n",
      "    \"doubling_time_t\": 6.734383141018801\n",
      "}\n",
      "\n",
      "\n"
     ]
    }
   ],
   "source": [
    "!python run_sim_chime_scenario.py --use-defaults"
   ]
  },
  {
   "cell_type": "markdown",
   "metadata": {},
   "source": [
    "Let's use a scenario name route the outputs to output folder."
   ]
  },
  {
   "cell_type": "code",
   "execution_count": 2,
   "metadata": {},
   "outputs": [
    {
     "name": "stdout",
     "output_type": "stream",
     "text": [
      "Scenario: method1\n",
      "\n",
      "\n",
      "Input parameters\n",
      "--------------------------------------------------\n",
      "{\n",
      "    \"current_hospitalized\": 591,\n",
      "    \"doubling_time\": 4,\n",
      "    \"known_infected\": 2294,\n",
      "    \"relative_contact_rate\": 0.31,\n",
      "    \"susceptible\": 5026226,\n",
      "    \"hospitalized\": [\n",
      "        0.025,\n",
      "        7\n",
      "    ],\n",
      "    \"icu\": [\n",
      "        0.0075,\n",
      "        9\n",
      "    ],\n",
      "    \"ventilated\": [\n",
      "        0.005,\n",
      "        10\n",
      "    ],\n",
      "    \"as_date\": false,\n",
      "    \"market_share\": 0.32,\n",
      "    \"max_y_axis\": null,\n",
      "    \"n_days\": 120,\n",
      "    \"recovery_days\": 14,\n",
      "    \"labels\": {\n",
      "        \"hospitalized\": \"Hospitalized\",\n",
      "        \"icu\": \"ICU\",\n",
      "        \"ventilated\": \"Ventilated\",\n",
      "        \"day\": \"Day\",\n",
      "        \"date\": \"Date\",\n",
      "        \"susceptible\": \"Susceptible\",\n",
      "        \"infected\": \"Infected\",\n",
      "        \"recovered\": \"Recovered\"\n",
      "    },\n",
      "    \"dispositions\": {\n",
      "        \"hospitalized\": [\n",
      "            0.025,\n",
      "            7\n",
      "        ],\n",
      "        \"icu\": [\n",
      "            0.0075,\n",
      "            9\n",
      "        ],\n",
      "        \"ventilated\": [\n",
      "            0.005,\n",
      "            10\n",
      "        ]\n",
      "    }\n",
      "}\n",
      "\n",
      "Intermediate variables\n",
      "--------------------------------------------------\n",
      "{\n",
      "    \"intrinsic_growth_rate\": 0.18920711500272103,\n",
      "    \"gamma\": 0.07142857142857142,\n",
      "    \"beta\": 3.5780051202948644e-08,\n",
      "    \"r_naught\": 3.648899610038094,\n",
      "    \"r_t\": 2.5177407309262847,\n",
      "    \"doubling_time_t\": 6.734383141018801\n",
      "}\n",
      "\n",
      "\n"
     ]
    }
   ],
   "source": [
    "!python run_sim_chime_scenario.py --use-defaults --scenario method1 --output-path ./output/"
   ]
  },
  {
   "cell_type": "markdown",
   "metadata": {},
   "source": [
    "## Method 2: Run from command line using an input file \n",
    "\n",
    "Just like the UPenn cli.py app, the program I created can also read a similarly formatted file. However, I added/changed a few things at the top so that we could specify the scenario and the output path. I'll show both files so you can see difference."
   ]
  },
  {
   "cell_type": "markdown",
   "metadata": {},
   "source": [
    "Here's an original UPenn format CLI input file that I created: **cli_inputs_bh.txt**\n",
    "\n",
    "    --n-days 120\n",
    "    --prefix ./output/base_20200326_\n",
    "    --current-hospitalized 591\n",
    "    --doubling-time 4\n",
    "    --hospitalized-los 7\n",
    "    --hospitalized-rate 0.025\n",
    "    --icu-los 9\n",
    "    --icu-rate 0.0075\n",
    "    --known-infected 2294\n",
    "    --market_share 0.32\n",
    "    --relative-contact-rate 0.31\n",
    "    --susceptible 5026226\n",
    "    --ventilated-los 10\n",
    "    --ventilated-rate 0.005\n",
    "    \n",
    "A couple things to note:\n",
    "\n",
    "* I always start UPenn formatted input files with \"cli_\".\n",
    "* Note the `prefix` parameter at top. That acts as both a scenario namer and output file creator."
   ]
  },
  {
   "cell_type": "markdown",
   "metadata": {},
   "source": [
    "Here's my version named: **sim_chime_cli_inputs_bh.txt**\n",
    "\n",
    "    --n-days 120\n",
    "    --scenario base_20200326_sc_\n",
    "    --output-path ./output/\n",
    "    --current-hospitalized 591\n",
    "    --doubling-time 4\n",
    "    --hospitalized-los 7\n",
    "    --hospitalized-rate 0.025\n",
    "    --icu-los 9\n",
    "    --icu-rate 0.0075\n",
    "    --known-infected 2294\n",
    "    --market_share 0.32\n",
    "    --relative-contact-rate 0.31\n",
    "    --susceptible 5026226\n",
    "    --ventilated-los 10\n",
    "    --ventilated-rate 0.005\n",
    "    \n",
    "A couple things to note:\n",
    "\n",
    "* I always start my formatted input files with \"sim_chime_cli_\".\n",
    "* Note the `prefix` parameter at top has been replaced with `scenario` and `output-path` parameters. Obviously, we can add more parameters to ours without modifying UPenn code.\n",
    "\n"
   ]
  },
  {
   "cell_type": "code",
   "execution_count": 3,
   "metadata": {},
   "outputs": [
    {
     "name": "stdout",
     "output_type": "stream",
     "text": [
      "Scenario: base_20200326_sc_\n",
      "\n",
      "\n",
      "Input parameters\n",
      "--------------------------------------------------\n",
      "{\n",
      "    \"current_hospitalized\": 591,\n",
      "    \"doubling_time\": 4.0,\n",
      "    \"known_infected\": 2294,\n",
      "    \"relative_contact_rate\": 0.31,\n",
      "    \"susceptible\": 5026226,\n",
      "    \"hospitalized\": [\n",
      "        0.025,\n",
      "        7\n",
      "    ],\n",
      "    \"icu\": [\n",
      "        0.0075,\n",
      "        9\n",
      "    ],\n",
      "    \"ventilated\": [\n",
      "        0.005,\n",
      "        10\n",
      "    ],\n",
      "    \"as_date\": false,\n",
      "    \"market_share\": 0.32,\n",
      "    \"max_y_axis\": null,\n",
      "    \"n_days\": 120,\n",
      "    \"recovery_days\": 14,\n",
      "    \"labels\": {\n",
      "        \"hospitalized\": \"Hospitalized\",\n",
      "        \"icu\": \"ICU\",\n",
      "        \"ventilated\": \"Ventilated\",\n",
      "        \"day\": \"Day\",\n",
      "        \"date\": \"Date\",\n",
      "        \"susceptible\": \"Susceptible\",\n",
      "        \"infected\": \"Infected\",\n",
      "        \"recovered\": \"Recovered\"\n",
      "    },\n",
      "    \"dispositions\": {\n",
      "        \"hospitalized\": [\n",
      "            0.025,\n",
      "            7\n",
      "        ],\n",
      "        \"icu\": [\n",
      "            0.0075,\n",
      "            9\n",
      "        ],\n",
      "        \"ventilated\": [\n",
      "            0.005,\n",
      "            10\n",
      "        ]\n",
      "    }\n",
      "}\n",
      "\n",
      "Intermediate variables\n",
      "--------------------------------------------------\n",
      "{\n",
      "    \"intrinsic_growth_rate\": 0.18920711500272103,\n",
      "    \"gamma\": 0.07142857142857142,\n",
      "    \"beta\": 3.5780051202948644e-08,\n",
      "    \"r_naught\": 3.648899610038094,\n",
      "    \"r_t\": 2.5177407309262847,\n",
      "    \"doubling_time_t\": 6.734383141018801\n",
      "}\n",
      "\n",
      "\n"
     ]
    }
   ],
   "source": [
    "!python run_sim_chime_scenario.py --file sim_chime_cli_inputs_bh.txt"
   ]
  },
  {
   "cell_type": "markdown",
   "metadata": {},
   "source": [
    "## Method 3: Use by importing and calling from another function\n",
    "\n",
    "I'm not going to bother showing this right now. This is the method I'm using as I'm writing the code to run a bunch of scenarios for a range of input values. Just letting you know that it's easy to do this too."
   ]
  },
  {
   "cell_type": "code",
   "execution_count": null,
   "metadata": {},
   "outputs": [],
   "source": []
  }
 ],
 "metadata": {
  "kernelspec": {
   "display_name": "Python 3",
   "language": "python",
   "name": "python3"
  },
  "language_info": {
   "codemirror_mode": {
    "name": "ipython",
    "version": 3
   },
   "file_extension": ".py",
   "mimetype": "text/x-python",
   "name": "python",
   "nbconvert_exporter": "python",
   "pygments_lexer": "ipython3",
   "version": "3.8.1"
  }
 },
 "nbformat": 4,
 "nbformat_minor": 4
}
